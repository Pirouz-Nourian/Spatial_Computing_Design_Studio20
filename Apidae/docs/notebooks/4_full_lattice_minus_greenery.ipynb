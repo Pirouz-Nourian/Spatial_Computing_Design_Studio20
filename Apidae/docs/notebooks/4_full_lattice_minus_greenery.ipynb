{
 "cells": [
  {
   "cell_type": "markdown",
   "metadata": {},
   "source": [
    "# Defining valuable voxels for the building to select greenery\n",
    "\n",
    "In this notebook, all voxel values are being calculated, and the space for ground floor greenery is being determined based on where the voxels are of low value for the growht of the building. "
   ]
  },
  {
   "cell_type": "markdown",
   "metadata": {},
   "source": [
    "## 0. Initialization\n",
    "\n",
    "### 0.1. Load required libraries"
   ]
  },
  {
   "cell_type": "code",
   "execution_count": null,
   "metadata": {},
   "outputs": [],
   "source": [
    "import os\n",
    "import topogenesis as tg\n",
    "import pyvista as pv\n",
    "import trimesh as tm\n",
    "import numpy as np\n",
    "import pandas as pd\n",
    "from sklearn.cluster import KMeans\n",
    "\n",
    "from scipy.interpolate import RegularGridInterpolator"
   ]
  },
  {
   "cell_type": "code",
   "execution_count": null,
   "metadata": {},
   "outputs": [],
   "source": [
    "# extra import function\n",
    "def lattice_from_csv(file_path):\n",
    "    # read metadata\n",
    "    meta_df = pd.read_csv(file_path, nrows=3)\n",
    "\n",
    "    shape = np.array(meta_df['shape'])\n",
    "    unit = np.array(meta_df['unit'])\n",
    "    minbound = np.array(meta_df['minbound'])\n",
    "\n",
    "    # read lattice\n",
    "    lattice_df = pd.read_csv(file_path, skiprows=5)\n",
    "\n",
    "    # create the buffer\n",
    "    buffer = np.array(lattice_df['value']).reshape(shape)\n",
    "\n",
    "    # create the lattice\n",
    "    l = tg.to_lattice(buffer, minbound=minbound, unit=unit)\n",
    "\n",
    "    return l"
   ]
  },
  {
   "cell_type": "markdown",
   "metadata": {},
   "source": [
    "### 0.2. Define the Neighborhood (Stencil)"
   ]
  },
  {
   "cell_type": "code",
   "execution_count": null,
   "metadata": {},
   "outputs": [],
   "source": [
    "# loading the lattice from csv\n",
    "sun_acc_path = os.path.relpath('../data/sun_access_highres.csv')\n",
    "sun_acc_lattice = lattice_from_csv(sun_acc_path)\n",
    "\n",
    "ent_acc_highres_public_path = os.path.relpath('../data/ent_access_highres_public.csv')\n",
    "ent_acc_public_lattice = lattice_from_csv(ent_acc_highres_public_path)\n",
    "\n",
    "ent_acc_highres_housing_path = os.path.relpath('../data/ent_access_highres_housing.csv')\n",
    "ent_acc_housing_lattice = lattice_from_csv(ent_acc_highres_housing_path)\n",
    "\n",
    "ent_acc_highres_gym_path = os.path.relpath('../data/ent_access_highres_gym.csv')\n",
    "ent_acc_gym_lattice = lattice_from_csv(ent_acc_highres_gym_path)\n",
    "\n",
    "ent_acc_highres_parking_path = os.path.relpath('../data/ent_access_highres_parking.csv')\n",
    "ent_acc_parking_lattice = lattice_from_csv(ent_acc_highres_parking_path)\n",
    "\n",
    "ent_acc_highres_comcen_path = os.path.relpath('../data/ent_access_highres_comcen.csv')\n",
    "ent_acc_comcen_lattice = lattice_from_csv(ent_acc_highres_comcen_path)\n",
    "\n",
    "highres_sky_acc_path = os.path.relpath('../data/sky_access_highres.csv')\n",
    "sky_acc_lattice = lattice_from_csv(highres_sky_acc_path)\n",
    "\n",
    "highres_groundfloor = os.path.relpath('../data/ent_access_highres_groundfloor.csv')\n",
    "groundfloor_lattice = lattice_from_csv(highres_groundfloor)\n",
    "\n",
    "\n",
    "# list the environment information layers (lattices)\n",
    "env_info = {\"sun_acc\": sun_acc_lattice,\n",
    "            \"ent_acc_public\": ent_acc_public_lattice, \n",
    "            \"ent_acc_housing\": ent_acc_housing_lattice, \n",
    "            \"ent_acc_gym\": ent_acc_gym_lattice,\n",
    "            \"ent_acc_parking\": ent_acc_parking_lattice, \n",
    "            \"ent_acc_comcen\": ent_acc_comcen_lattice,\n",
    "            \"sky_acc\": sky_acc_lattice,\n",
    "            \"ground_floor\": groundfloor_lattice}"
   ]
  },
  {
   "cell_type": "markdown",
   "metadata": {},
   "source": [
    "### 0.3. Load the envelope lattice as the avialbility lattice"
   ]
  },
  {
   "cell_type": "code",
   "execution_count": null,
   "metadata": {},
   "outputs": [],
   "source": [
    "# loading the lattice from csv\n",
    "lattice_path = os.path.relpath('../data/new_shadremove_envelope_lattice.csv')\n",
    "avail_lattice = tg.lattice_from_csv(lattice_path)\n",
    "init_avail_lattice = tg.to_lattice(np.copy(avail_lattice), avail_lattice)"
   ]
  },
  {
   "cell_type": "markdown",
   "metadata": {},
   "source": [
    "### 1.1 calculating an average value lattice "
   ]
  },
  {
   "cell_type": "code",
   "execution_count": null,
   "metadata": {},
   "outputs": [],
   "source": [
    "avail_index = np.array(np.where(avail_lattice == 1)).T\n",
    "# initializing a sum lattice\n",
    "val_lattice = avail_lattice * 0.0 + 1.0\n",
    "\n",
    "# adding all the value of all information lattices\n",
    "for key, info_lattice in env_info.items():\n",
    "    val_lattice *= info_lattice\n",
    "\n",
    "val_lattice *= avail_lattice"
   ]
  },
  {
   "cell_type": "markdown",
   "metadata": {},
   "source": [
    "### 1.2. calculating a 2d space value, extract it to the full lattice and normalize"
   ]
  },
  {
   "cell_type": "code",
   "execution_count": null,
   "metadata": {},
   "outputs": [],
   "source": [
    "# sum all values in z-axis to generate a value of \n",
    "distance_lattice = avail_lattice * 0.0\n",
    "column_sum = np.sum(val_lattice, axis = 2)\n",
    "\n",
    "# copy this 2d value to all voxels in z-value\n",
    "distance_lattice += column_sum[:, :, np.newaxis]\n",
    "\n",
    "#find the maximum valid value\n",
    "max_valid = np.ma.masked_invalid(distance_lattice).max()\n",
    "\n",
    "# mapping the values from (0, max) to (1, 0)\n",
    "values_normalized = distance_lattice / np.max(distance_lattice)"
   ]
  },
  {
   "cell_type": "markdown",
   "metadata": {},
   "source": [
    "### 1.3. Visualize the distance lattice"
   ]
  },
  {
   "cell_type": "code",
   "execution_count": null,
   "metadata": {},
   "outputs": [],
   "source": [
    "# convert mesh to pv_mesh\n",
    "def tri_to_pv(tri_mesh):\n",
    "    faces = np.pad(tri_mesh.faces, ((0, 0),(1,0)), 'constant', constant_values=3)\n",
    "    pv_mesh = pv.PolyData(tri_mesh.vertices, faces)\n",
    "    return pv_mesh\n",
    "\n",
    "\n",
    "base_lattice = values_normalized\n",
    "\n",
    "\n",
    "# load the mesh from file\n",
    "# context_path = os.path.relpath('../data/immediate_context.obj')\n",
    "# context_mesh = tm.load(context_path)\n",
    "\n",
    "# initiating the plotter\n",
    "p = pv.Plotter(notebook=True)\n",
    "\n",
    "# Create the spatial reference\n",
    "grid = pv.UniformGrid()\n",
    "\n",
    "# Set the grid dimensions: shape because we want to inject our values\n",
    "grid.dimensions = base_lattice.shape\n",
    "# The bottom left corner of the data set\n",
    "grid.origin = base_lattice.minbound\n",
    "# These are the cell sizes along each axis\n",
    "grid.spacing = base_lattice.unit\n",
    "\n",
    "# Add the data values to the cell data\n",
    "grid.point_arrays[\"average voxel values\"] = base_lattice.flatten(order=\"F\")  # Flatten the Lattice\n",
    "\n",
    "# adding the meshes\n",
    "# p.add_mesh(tri_to_pv(context_mesh), opacity=0.1, style='wireframe')\n",
    "\n",
    "p.add_mesh(grid.outline(), color=\"grey\", label=\"Domain\")\n",
    "\n",
    "# adding the volume\n",
    "opacity = np.array([0.0,0.6,0.6,0.6,0.6,0.6,0.6]) * 0.6\n",
    "p.add_volume(grid, cmap=\"plasma\", clim=[0.0, 1] ,opacity=opacity)\n",
    "\n",
    "#saving and plotting\n",
    "png_path = os.path.relpath('../screenshots/4.2_new_avail_lattice.png')\n",
    "p.show(screenshot= png_path)"
   ]
  },
  {
   "cell_type": "markdown",
   "metadata": {},
   "source": [
    "### 1.4. Determine a threshold for the growth model, where at least 30% of the groundfloor is excluded"
   ]
  },
  {
   "cell_type": "code",
   "execution_count": null,
   "metadata": {},
   "outputs": [],
   "source": [
    "\n",
    "high_threshold = 1.0\n",
    "# find the maximum of voxels that can be grown, keeping enough space for greenery\n",
    "\n",
    "needed_greenery_vox = 84*47*21*0.3\n",
    "sum_vox = new_avail_lattice.size\n",
    "max_vox = sum_vox - needed_greenery_vox\n",
    "print(max_vox)\n",
    "\n",
    "low_threshold = 0.19\n",
    "\n",
    "new_avail_lattice = ((values_normalized < high_threshold) * (values_normalized > low_threshold)) * avail_lattice\n",
    "avail_index = np.array(np.where(new_avail_lattice != 0.0)).T\n",
    "avail_index.size"
   ]
  },
  {
   "cell_type": "markdown",
   "metadata": {},
   "source": [
    "### 1.5. visualize new availability lattice"
   ]
  },
  {
   "cell_type": "code",
   "execution_count": null,
   "metadata": {},
   "outputs": [],
   "source": [
    "# convert trimesh to pv_mesh\n",
    "def tri_to_pv(tri_mesh):\n",
    "    faces = np.pad(tri_mesh.faces, ((0, 0),(1,0)), 'constant', constant_values=3)\n",
    "    pv_mesh = pv.PolyData(tri_mesh.vertices, faces)\n",
    "    return pv_mesh\n",
    "\n",
    "# Visualize the voxelization using pyvista plotter\n",
    "#####\n",
    "\n",
    "# initiating the plotter\n",
    "p = pv.Plotter(notebook=True)\n",
    "\n",
    "# fast visualization of the lattice\n",
    "new_avail_lattice.fast_vis(p)\n",
    "\n",
    "# # adding the base mesh: light blue\n",
    "# p.add_mesh(tri_to_pv(mesh), color='#abd8ff', opacity=0.1)\n",
    "\n",
    "#saving and plotting\n",
    "png_path = os.path.relpath('../screenshots/4.2_new_avail_lattice.png')\n",
    "p.show(screenshot= png_path)"
   ]
  },
  {
   "cell_type": "markdown",
   "metadata": {},
   "source": [
    "### 1.6. Save Entrance Access Lattice to CSV"
   ]
  },
  {
   "cell_type": "code",
   "execution_count": null,
   "metadata": {},
   "outputs": [],
   "source": [
    "# save the sun access latice to csv\n",
    "csv_path = os.path.relpath('../data/avail_lattice_good_voxels.csv')\n",
    "new_avail_lattice.to_csv(csv_path)"
   ]
  },
  {
   "cell_type": "markdown",
   "metadata": {},
   "source": [
    "### Credits"
   ]
  },
  {
   "cell_type": "code",
   "execution_count": null,
   "metadata": {},
   "outputs": [],
   "source": [
    "__author__ = \"Shervin Azadi and Pirouz Nourian\"\n",
    "__editor__ = \"Maartje Damen\"\n",
    "__license__ = \"MIT\"\n",
    "__version__ = \"1.0\"\n",
    "__url__ = \"https://github.com/shervinazadi/spatial_computing_workshops\"\n",
    "__summary__ = \"Spatial Computing Design Studio Workshop on MCDA and Path Finding for Generative Spatial Relations\""
   ]
  },
  {
   "cell_type": "code",
   "execution_count": null,
   "metadata": {},
   "outputs": [],
   "source": []
  }
 ],
 "metadata": {
  "kernelspec": {
   "display_name": "Python 3",
   "language": "python",
   "name": "python3"
  },
  "language_info": {
   "codemirror_mode": {
    "name": "ipython",
    "version": 3
   },
   "file_extension": ".py",
   "mimetype": "text/x-python",
   "name": "python",
   "nbconvert_exporter": "python",
   "pygments_lexer": "ipython3",
   "version": "3.8.4"
  }
 },
 "nbformat": 4,
 "nbformat_minor": 2
}