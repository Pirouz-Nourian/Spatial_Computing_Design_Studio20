{
 "cells": [
  {
   "cell_type": "markdown",
   "metadata": {},
   "source": [
    "# Generative Relations: MCDA script\n",
    "\n",
    "Enabling agents to utilize MCDA (Multi Criteria Decision Analyses) in their spatial behaviors.\n",
    "\n",
    "input:\n",
    "\n",
    "Lattice info; CSV files from the sun/sky/quitness access and entrance and/or specific parts of the lattice accesses \n",
    "\n",
    "CSV with the table of values for each lattice info (as described before) and remaining necessary values such as (maz z coordinate, max voxel count, stencil id and evaluation per agent) included within the space names and space id's.\n",
    "\n",
    "output:\n",
    "\n",
    "Lattice frames (growth) saved as CSV."
   ]
  },
  {
   "cell_type": "markdown",
   "metadata": {},
   "source": [
    "## 0. Initialization\n",
    "\n",
    "### 0.1. Load required libraries"
   ]
  },
  {
   "cell_type": "code",
   "execution_count": 1,
   "metadata": {},
   "outputs": [],
   "source": [
    "import os\n",
    "import topogenesis as tg\n",
    "import pyvista as pv\n",
    "import trimesh as tm\n",
    "import numpy as np\n",
    "import networkx as nx\n",
    "import pandas as pd\n",
    "import scipy as sp\n",
    "import pickle\n",
    "import matplotlib.pyplot as plt\n",
    "\n",
    "np.random.seed(0)"
   ]
  },
  {
   "cell_type": "code",
   "execution_count": 2,
   "metadata": {},
   "outputs": [],
   "source": [
    "# extra import function\n",
    "def lattice_from_csv(file_path):\n",
    "    # read metadata\n",
    "    meta_df = pd.read_csv(file_path, nrows=3)\n",
    "\n",
    "    shape = np.array(meta_df['shape'])\n",
    "    unit = np.array(meta_df['unit'])\n",
    "    minbound = np.array(meta_df['minbound'])\n",
    "\n",
    "    # read lattice\n",
    "    lattice_df = pd.read_csv(file_path, skiprows=5)\n",
    "\n",
    "    # create the buffer\n",
    "    buffer = np.array(lattice_df['value']).reshape(shape)\n",
    "\n",
    "    # create the lattice\n",
    "    l = tg.to_lattice(buffer, minbound=minbound, unit=unit)\n",
    "\n",
    "    return l"
   ]
  },
  {
   "cell_type": "markdown",
   "metadata": {},
   "source": [
    "### 0.2. Define the Neighborhood (Stencil)"
   ]
  },
  {
   "cell_type": "markdown",
   "metadata": {},
   "source": [
    "#### 0.2.1. Basic stencils with z axes differences"
   ]
  },
  {
   "cell_type": "code",
   "execution_count": 3,
   "metadata": {},
   "outputs": [],
   "source": [
    "# creating neighborhood definition for stencil that is 1.8m high\n",
    "s_1 = tg.create_stencil(\"von_neumann\", 1, 1)\n",
    "\n",
    "# setting the center to zero\n",
    "s_1.set_index([0,0,0], 0)\n",
    "\n",
    "# creating neighborhood definition for stencil that is 3.6m high\n",
    "s_2 = tg.create_stencil(\"von_neumann\", 1, 2)\n",
    "# setting the center to zero\n",
    "s_2.set_index([0, 0, 0], 0)\n",
    "s_2.set_index([0, 0, 1], 0)\n",
    "s_2.set_index([0, 0, 2], 1)\n",
    "s_2.set_index([0, 0,-1], 0)\n",
    "s_2.set_index([0, 0,-2], 1)\n",
    "\n",
    "# setting the center to zero\n",
    "s_2.set_index([0,0,0], 0)\n",
    "\n",
    "# creating neighborhood definition for stencil that is 5.4m high\n",
    "s_3 = tg.create_stencil(\"von_neumann\", 1, 3)\n",
    "# setting the center to zero\n",
    "s_3.set_index([0, 0, 0], 0)\n",
    "s_3.set_index([0, 0, 1], 0)\n",
    "s_3.set_index([0, 0, 3], 1)\n",
    "s_3.set_index([0, 0,-1], 0)\n",
    "s_3.set_index([0, 0,-3], 1)\n",
    "\n",
    "# setting the center to zero\n",
    "s_3.set_index([0,0,0], 0)\n",
    "\n",
    "# creating neighborhood definition for stencil that is 7.2m high\n",
    "s_4 = tg.create_stencil(\"von_neumann\", 1, 4)\n",
    "# setting the center to zero\n",
    "s_4.set_index([0, 0, 0], 0)\n",
    "s_4.set_index([0, 0, 1], 0)\n",
    "s_4.set_index([0, 0, 4], 1)\n",
    "s_4.set_index([0, 0,-1], 0)\n",
    "s_4.set_index([0, 0,-4], 1)\n",
    "\n",
    "# setting the center to zero\n",
    "s_4.set_index([0,0,0], 0)\n",
    "\n",
    "# creating neighborhood definition for stencil that is 9m high\n",
    "s_5 = tg.create_stencil(\"von_neumann\", 1, 5)\n",
    "# setting the center to zero\n",
    "s_5.set_index([0, 0, 0], 0)\n",
    "s_5.set_index([0, 0, 1], 0)\n",
    "s_5.set_index([0, 0, 5], 1)\n",
    "s_5.set_index([0, 0,-1], 0)\n",
    "s_5.set_index([0, 0,-5], 1)\n",
    "\n",
    "# setting the center to zero\n",
    "s_5.set_index([0,0,0], 0)\n",
    "\n",
    "# listing the stencils in order to make them correspond later with the spaces and their height requirement\n",
    "stencils = [s_1, s_2, s_3, s_4, s_5]"
   ]
  },
  {
   "cell_type": "markdown",
   "metadata": {},
   "source": [
    "#### 0.2.2. Visualization stencils "
   ]
  },
  {
   "cell_type": "markdown",
   "metadata": {},
   "source": [
    "#### 0.2.3. Listing all stencils"
   ]
  },
  {
   "cell_type": "code",
   "execution_count": 4,
   "metadata": {},
   "outputs": [
    {
     "data": {
      "application/vnd.jupyter.widget-view+json": {
       "model_id": "4e08016c76d54360bd46aa7f1a9f5932",
       "version_major": 2,
       "version_minor": 0
      },
      "text/plain": [
       "ViewInteractiveWidget(height=768, layout=Layout(height='auto', width='100%'), width=1024)"
      ]
     },
     "metadata": {},
     "output_type": "display_data"
    },
    {
     "data": {
      "text/plain": [
       "[(93.24921179832211, 93.24921179832211, 93.24921179832211),\n",
       " (27.5, 27.5, 27.5),\n",
       " (0.0, 0.0, 1.0)]"
      ]
     },
     "execution_count": 4,
     "metadata": {},
     "output_type": "execute_result"
    }
   ],
   "source": [
    "stencil = s_5\n",
    "\n",
    "# initiating the plotter\n",
    "p = pv.Plotter(notebook=True)\n",
    "\n",
    "# Create the spatial reference\n",
    "grid = pv.UniformGrid()\n",
    "\n",
    "# Set the grid dimensions: shape because we want to inject our values\n",
    "grid.dimensions = np.array(stencil.shape) + 1\n",
    "# The bottom left corner of the data set\n",
    "grid.origin = [0,0,0]\n",
    "# These are the cell sizes along each axis\n",
    "grid.spacing = [5,5,5]\n",
    "\n",
    "# Add the data values to the cell data\n",
    "grid.cell_arrays[\"values\"] = stencil.flatten(order=\"F\")  # Flatten the stencil\n",
    "threshed = grid.threshold([0.9, 1.1])\n",
    "\n",
    "# adding the voxels: light red\n",
    "p.add_mesh(threshed, show_edges=True, color=\"white\", opacity=0.3)\n",
    "\n",
    "# plotting\n",
    "p.show(use_ipyvtk=True)"
   ]
  },
  {
   "cell_type": "markdown",
   "metadata": {},
   "source": [
    "#### 0.2.4 Stencil visualization (for checking)"
   ]
  },
  {
   "cell_type": "markdown",
   "metadata": {},
   "source": [
    "### 0.3. Load the envelope lattice as the avialbility lattice"
   ]
  },
  {
   "cell_type": "code",
   "execution_count": 5,
   "metadata": {},
   "outputs": [
    {
     "ename": "FileNotFoundError",
     "evalue": "[Errno 2] No such file or directory: '..\\\\data\\\\highres_envelope.csv'",
     "output_type": "error",
     "traceback": [
      "\u001b[1;31m---------------------------------------------------------------------------\u001b[0m",
      "\u001b[1;31mFileNotFoundError\u001b[0m                         Traceback (most recent call last)",
      "\u001b[1;32m<ipython-input-5-707368023739>\u001b[0m in \u001b[0;36m<module>\u001b[1;34m\u001b[0m\n\u001b[0;32m      1\u001b[0m \u001b[1;31m# loading the lattice from csv\u001b[0m\u001b[1;33m\u001b[0m\u001b[1;33m\u001b[0m\u001b[1;33m\u001b[0m\u001b[0m\n\u001b[0;32m      2\u001b[0m \u001b[0mlattice_path\u001b[0m \u001b[1;33m=\u001b[0m \u001b[0mos\u001b[0m\u001b[1;33m.\u001b[0m\u001b[0mpath\u001b[0m\u001b[1;33m.\u001b[0m\u001b[0mrelpath\u001b[0m\u001b[1;33m(\u001b[0m\u001b[1;34m'../data/highres_envelope.csv'\u001b[0m\u001b[1;33m)\u001b[0m\u001b[1;33m\u001b[0m\u001b[1;33m\u001b[0m\u001b[0m\n\u001b[1;32m----> 3\u001b[1;33m \u001b[0mavail_lattice\u001b[0m \u001b[1;33m=\u001b[0m \u001b[0mlattice_from_csv\u001b[0m\u001b[1;33m(\u001b[0m\u001b[0mlattice_path\u001b[0m\u001b[1;33m)\u001b[0m\u001b[1;33m\u001b[0m\u001b[1;33m\u001b[0m\u001b[0m\n\u001b[0m\u001b[0;32m      4\u001b[0m \u001b[0minit_avail_lattice\u001b[0m \u001b[1;33m=\u001b[0m \u001b[0mtg\u001b[0m\u001b[1;33m.\u001b[0m\u001b[0mto_lattice\u001b[0m\u001b[1;33m(\u001b[0m\u001b[0mnp\u001b[0m\u001b[1;33m.\u001b[0m\u001b[0mcopy\u001b[0m\u001b[1;33m(\u001b[0m\u001b[0mavail_lattice\u001b[0m\u001b[1;33m)\u001b[0m\u001b[1;33m,\u001b[0m \u001b[0mavail_lattice\u001b[0m\u001b[1;33m)\u001b[0m\u001b[1;33m\u001b[0m\u001b[1;33m\u001b[0m\u001b[0m\n\u001b[0;32m      5\u001b[0m \u001b[1;33m\u001b[0m\u001b[0m\n",
      "\u001b[1;32m<ipython-input-2-19db7637ef8a>\u001b[0m in \u001b[0;36mlattice_from_csv\u001b[1;34m(file_path)\u001b[0m\n\u001b[0;32m      2\u001b[0m \u001b[1;32mdef\u001b[0m \u001b[0mlattice_from_csv\u001b[0m\u001b[1;33m(\u001b[0m\u001b[0mfile_path\u001b[0m\u001b[1;33m)\u001b[0m\u001b[1;33m:\u001b[0m\u001b[1;33m\u001b[0m\u001b[1;33m\u001b[0m\u001b[0m\n\u001b[0;32m      3\u001b[0m     \u001b[1;31m# read metadata\u001b[0m\u001b[1;33m\u001b[0m\u001b[1;33m\u001b[0m\u001b[1;33m\u001b[0m\u001b[0m\n\u001b[1;32m----> 4\u001b[1;33m     \u001b[0mmeta_df\u001b[0m \u001b[1;33m=\u001b[0m \u001b[0mpd\u001b[0m\u001b[1;33m.\u001b[0m\u001b[0mread_csv\u001b[0m\u001b[1;33m(\u001b[0m\u001b[0mfile_path\u001b[0m\u001b[1;33m,\u001b[0m \u001b[0mnrows\u001b[0m\u001b[1;33m=\u001b[0m\u001b[1;36m3\u001b[0m\u001b[1;33m)\u001b[0m\u001b[1;33m\u001b[0m\u001b[1;33m\u001b[0m\u001b[0m\n\u001b[0m\u001b[0;32m      5\u001b[0m \u001b[1;33m\u001b[0m\u001b[0m\n\u001b[0;32m      6\u001b[0m     \u001b[0mshape\u001b[0m \u001b[1;33m=\u001b[0m \u001b[0mnp\u001b[0m\u001b[1;33m.\u001b[0m\u001b[0marray\u001b[0m\u001b[1;33m(\u001b[0m\u001b[0mmeta_df\u001b[0m\u001b[1;33m[\u001b[0m\u001b[1;34m'shape'\u001b[0m\u001b[1;33m]\u001b[0m\u001b[1;33m)\u001b[0m\u001b[1;33m\u001b[0m\u001b[1;33m\u001b[0m\u001b[0m\n",
      "\u001b[1;32mC:\\Programs\\Anaconda3\\envs\\test\\lib\\site-packages\\pandas\\io\\parsers.py\u001b[0m in \u001b[0;36mread_csv\u001b[1;34m(filepath_or_buffer, sep, delimiter, header, names, index_col, usecols, squeeze, prefix, mangle_dupe_cols, dtype, engine, converters, true_values, false_values, skipinitialspace, skiprows, skipfooter, nrows, na_values, keep_default_na, na_filter, verbose, skip_blank_lines, parse_dates, infer_datetime_format, keep_date_col, date_parser, dayfirst, cache_dates, iterator, chunksize, compression, thousands, decimal, lineterminator, quotechar, quoting, doublequote, escapechar, comment, encoding, dialect, error_bad_lines, warn_bad_lines, delim_whitespace, low_memory, memory_map, float_precision)\u001b[0m\n\u001b[0;32m    684\u001b[0m     )\n\u001b[0;32m    685\u001b[0m \u001b[1;33m\u001b[0m\u001b[0m\n\u001b[1;32m--> 686\u001b[1;33m     \u001b[1;32mreturn\u001b[0m \u001b[0m_read\u001b[0m\u001b[1;33m(\u001b[0m\u001b[0mfilepath_or_buffer\u001b[0m\u001b[1;33m,\u001b[0m \u001b[0mkwds\u001b[0m\u001b[1;33m)\u001b[0m\u001b[1;33m\u001b[0m\u001b[1;33m\u001b[0m\u001b[0m\n\u001b[0m\u001b[0;32m    687\u001b[0m \u001b[1;33m\u001b[0m\u001b[0m\n\u001b[0;32m    688\u001b[0m \u001b[1;33m\u001b[0m\u001b[0m\n",
      "\u001b[1;32mC:\\Programs\\Anaconda3\\envs\\test\\lib\\site-packages\\pandas\\io\\parsers.py\u001b[0m in \u001b[0;36m_read\u001b[1;34m(filepath_or_buffer, kwds)\u001b[0m\n\u001b[0;32m    450\u001b[0m \u001b[1;33m\u001b[0m\u001b[0m\n\u001b[0;32m    451\u001b[0m     \u001b[1;31m# Create the parser.\u001b[0m\u001b[1;33m\u001b[0m\u001b[1;33m\u001b[0m\u001b[1;33m\u001b[0m\u001b[0m\n\u001b[1;32m--> 452\u001b[1;33m     \u001b[0mparser\u001b[0m \u001b[1;33m=\u001b[0m \u001b[0mTextFileReader\u001b[0m\u001b[1;33m(\u001b[0m\u001b[0mfp_or_buf\u001b[0m\u001b[1;33m,\u001b[0m \u001b[1;33m**\u001b[0m\u001b[0mkwds\u001b[0m\u001b[1;33m)\u001b[0m\u001b[1;33m\u001b[0m\u001b[1;33m\u001b[0m\u001b[0m\n\u001b[0m\u001b[0;32m    453\u001b[0m \u001b[1;33m\u001b[0m\u001b[0m\n\u001b[0;32m    454\u001b[0m     \u001b[1;32mif\u001b[0m \u001b[0mchunksize\u001b[0m \u001b[1;32mor\u001b[0m \u001b[0miterator\u001b[0m\u001b[1;33m:\u001b[0m\u001b[1;33m\u001b[0m\u001b[1;33m\u001b[0m\u001b[0m\n",
      "\u001b[1;32mC:\\Programs\\Anaconda3\\envs\\test\\lib\\site-packages\\pandas\\io\\parsers.py\u001b[0m in \u001b[0;36m__init__\u001b[1;34m(self, f, engine, **kwds)\u001b[0m\n\u001b[0;32m    944\u001b[0m             \u001b[0mself\u001b[0m\u001b[1;33m.\u001b[0m\u001b[0moptions\u001b[0m\u001b[1;33m[\u001b[0m\u001b[1;34m\"has_index_names\"\u001b[0m\u001b[1;33m]\u001b[0m \u001b[1;33m=\u001b[0m \u001b[0mkwds\u001b[0m\u001b[1;33m[\u001b[0m\u001b[1;34m\"has_index_names\"\u001b[0m\u001b[1;33m]\u001b[0m\u001b[1;33m\u001b[0m\u001b[1;33m\u001b[0m\u001b[0m\n\u001b[0;32m    945\u001b[0m \u001b[1;33m\u001b[0m\u001b[0m\n\u001b[1;32m--> 946\u001b[1;33m         \u001b[0mself\u001b[0m\u001b[1;33m.\u001b[0m\u001b[0m_make_engine\u001b[0m\u001b[1;33m(\u001b[0m\u001b[0mself\u001b[0m\u001b[1;33m.\u001b[0m\u001b[0mengine\u001b[0m\u001b[1;33m)\u001b[0m\u001b[1;33m\u001b[0m\u001b[1;33m\u001b[0m\u001b[0m\n\u001b[0m\u001b[0;32m    947\u001b[0m \u001b[1;33m\u001b[0m\u001b[0m\n\u001b[0;32m    948\u001b[0m     \u001b[1;32mdef\u001b[0m \u001b[0mclose\u001b[0m\u001b[1;33m(\u001b[0m\u001b[0mself\u001b[0m\u001b[1;33m)\u001b[0m\u001b[1;33m:\u001b[0m\u001b[1;33m\u001b[0m\u001b[1;33m\u001b[0m\u001b[0m\n",
      "\u001b[1;32mC:\\Programs\\Anaconda3\\envs\\test\\lib\\site-packages\\pandas\\io\\parsers.py\u001b[0m in \u001b[0;36m_make_engine\u001b[1;34m(self, engine)\u001b[0m\n\u001b[0;32m   1176\u001b[0m     \u001b[1;32mdef\u001b[0m \u001b[0m_make_engine\u001b[0m\u001b[1;33m(\u001b[0m\u001b[0mself\u001b[0m\u001b[1;33m,\u001b[0m \u001b[0mengine\u001b[0m\u001b[1;33m=\u001b[0m\u001b[1;34m\"c\"\u001b[0m\u001b[1;33m)\u001b[0m\u001b[1;33m:\u001b[0m\u001b[1;33m\u001b[0m\u001b[1;33m\u001b[0m\u001b[0m\n\u001b[0;32m   1177\u001b[0m         \u001b[1;32mif\u001b[0m \u001b[0mengine\u001b[0m \u001b[1;33m==\u001b[0m \u001b[1;34m\"c\"\u001b[0m\u001b[1;33m:\u001b[0m\u001b[1;33m\u001b[0m\u001b[1;33m\u001b[0m\u001b[0m\n\u001b[1;32m-> 1178\u001b[1;33m             \u001b[0mself\u001b[0m\u001b[1;33m.\u001b[0m\u001b[0m_engine\u001b[0m \u001b[1;33m=\u001b[0m \u001b[0mCParserWrapper\u001b[0m\u001b[1;33m(\u001b[0m\u001b[0mself\u001b[0m\u001b[1;33m.\u001b[0m\u001b[0mf\u001b[0m\u001b[1;33m,\u001b[0m \u001b[1;33m**\u001b[0m\u001b[0mself\u001b[0m\u001b[1;33m.\u001b[0m\u001b[0moptions\u001b[0m\u001b[1;33m)\u001b[0m\u001b[1;33m\u001b[0m\u001b[1;33m\u001b[0m\u001b[0m\n\u001b[0m\u001b[0;32m   1179\u001b[0m         \u001b[1;32melse\u001b[0m\u001b[1;33m:\u001b[0m\u001b[1;33m\u001b[0m\u001b[1;33m\u001b[0m\u001b[0m\n\u001b[0;32m   1180\u001b[0m             \u001b[1;32mif\u001b[0m \u001b[0mengine\u001b[0m \u001b[1;33m==\u001b[0m \u001b[1;34m\"python\"\u001b[0m\u001b[1;33m:\u001b[0m\u001b[1;33m\u001b[0m\u001b[1;33m\u001b[0m\u001b[0m\n",
      "\u001b[1;32mC:\\Programs\\Anaconda3\\envs\\test\\lib\\site-packages\\pandas\\io\\parsers.py\u001b[0m in \u001b[0;36m__init__\u001b[1;34m(self, src, **kwds)\u001b[0m\n\u001b[0;32m   2006\u001b[0m         \u001b[0mkwds\u001b[0m\u001b[1;33m[\u001b[0m\u001b[1;34m\"usecols\"\u001b[0m\u001b[1;33m]\u001b[0m \u001b[1;33m=\u001b[0m \u001b[0mself\u001b[0m\u001b[1;33m.\u001b[0m\u001b[0musecols\u001b[0m\u001b[1;33m\u001b[0m\u001b[1;33m\u001b[0m\u001b[0m\n\u001b[0;32m   2007\u001b[0m \u001b[1;33m\u001b[0m\u001b[0m\n\u001b[1;32m-> 2008\u001b[1;33m         \u001b[0mself\u001b[0m\u001b[1;33m.\u001b[0m\u001b[0m_reader\u001b[0m \u001b[1;33m=\u001b[0m \u001b[0mparsers\u001b[0m\u001b[1;33m.\u001b[0m\u001b[0mTextReader\u001b[0m\u001b[1;33m(\u001b[0m\u001b[0msrc\u001b[0m\u001b[1;33m,\u001b[0m \u001b[1;33m**\u001b[0m\u001b[0mkwds\u001b[0m\u001b[1;33m)\u001b[0m\u001b[1;33m\u001b[0m\u001b[1;33m\u001b[0m\u001b[0m\n\u001b[0m\u001b[0;32m   2009\u001b[0m         \u001b[0mself\u001b[0m\u001b[1;33m.\u001b[0m\u001b[0munnamed_cols\u001b[0m \u001b[1;33m=\u001b[0m \u001b[0mself\u001b[0m\u001b[1;33m.\u001b[0m\u001b[0m_reader\u001b[0m\u001b[1;33m.\u001b[0m\u001b[0munnamed_cols\u001b[0m\u001b[1;33m\u001b[0m\u001b[1;33m\u001b[0m\u001b[0m\n\u001b[0;32m   2010\u001b[0m \u001b[1;33m\u001b[0m\u001b[0m\n",
      "\u001b[1;32mpandas\\_libs\\parsers.pyx\u001b[0m in \u001b[0;36mpandas._libs.parsers.TextReader.__cinit__\u001b[1;34m()\u001b[0m\n",
      "\u001b[1;32mpandas\\_libs\\parsers.pyx\u001b[0m in \u001b[0;36mpandas._libs.parsers.TextReader._setup_parser_source\u001b[1;34m()\u001b[0m\n",
      "\u001b[1;31mFileNotFoundError\u001b[0m: [Errno 2] No such file or directory: '..\\\\data\\\\highres_envelope.csv'"
     ]
    }
   ],
   "source": [
    "# loading the lattice from csv\n",
    "lattice_path = os.path.relpath('../data/highres_envelope.csv')\n",
    "avail_lattice = lattice_from_csv(lattice_path)\n",
    "init_avail_lattice = tg.to_lattice(np.copy(avail_lattice), avail_lattice)\n",
    "\n",
    "# loading the lattice from csv\n",
    "lattice_path = os.path.relpath('../data/avail_lattice_good_voxels.csv')\n",
    "avail_lattice_good_voxels = lattice_from_csv(lattice_path)\n",
    "init_avail_lattice_good_voxels = tg.to_lattice(np.copy(avail_lattice_good_voxels), avail_lattice_good_voxels)\n",
    "\n",
    "avail_lattice*= avail_lattice_good_voxels"
   ]
  },
  {
   "cell_type": "markdown",
   "metadata": {},
   "source": [
    "### 0.4. Load Agents Information"
   ]
  },
  {
   "cell_type": "code",
   "execution_count": null,
   "metadata": {},
   "outputs": [],
   "source": [
    "# loading program (agents information) from CSV\n",
    "prgm_path = os.path.relpath('../data/program_exported.csv')\n",
    "agn_info = pd.read_csv('../data/program_exported.csv',delimiter=\";\")\n",
    "agn_ids = agn_info[\"space_id\"].values\n",
    "agn_prefs = agn_info\n",
    "agn_prefs"
   ]
  },
  {
   "cell_type": "markdown",
   "metadata": {},
   "source": [
    "### 0.5. Initialize environment information layers from Sun Access Lattice and Entrance Access Lattice"
   ]
  },
  {
   "cell_type": "code",
   "execution_count": null,
   "metadata": {},
   "outputs": [],
   "source": [
    "# loading the lattice from csv\n",
    "sun_acc_path = os.path.relpath('../data/sun_access_highres.csv')\n",
    "sun_acc_lattice = lattice_from_csv(sun_acc_path)\n",
    "\n",
    "ent_acc_highres_public_path = os.path.relpath('../data/ent_access_highres_public.csv')\n",
    "ent_acc_public_lattice = lattice_from_csv(ent_acc_highres_public_path)\n",
    "\n",
    "ent_acc_highres_housing_path = os.path.relpath('../data/ent_access_highres_housing.csv')\n",
    "ent_acc_housing_lattice = lattice_from_csv(ent_acc_highres_housing_path)\n",
    "\n",
    "ent_acc_highres_gym_path = os.path.relpath('../data/ent_access_highres_gym.csv')\n",
    "ent_acc_gym_lattice = lattice_from_csv(ent_acc_highres_gym_path)\n",
    "\n",
    "ent_acc_highres_parking_path = os.path.relpath('../data/ent_access_highres_parking.csv')\n",
    "ent_acc_parking_lattice = lattice_from_csv(ent_acc_highres_parking_path)\n",
    "\n",
    "ent_acc_highres_comcen_path = os.path.relpath('../data/ent_access_highres_comcen.csv')\n",
    "ent_acc_comcen_lattice = lattice_from_csv(ent_acc_highres_comcen_path)\n",
    "\n",
    "highres_sky_acc_path = os.path.relpath('../data/sky_access_highres.csv')\n",
    "sky_acc_lattice = lattice_from_csv(highres_sky_acc_path)\n",
    "\n",
    "highres_quietness_acc_path = os.path.relpath('../data/quietness_highres.csv')\n",
    "quietness_acc_lattice = lattice_from_csv(highres_quietness_acc_path)\n",
    "\n",
    "groundfloor_acc_path = os.path.relpath('../data/ent_access_highres_groundfloor.csv')\n",
    "groundfloor_acc_lattice = lattice_from_csv(groundfloor_acc_path)\n",
    "\n",
    "# list the environment information layers (lattices)\n",
    "env_info = {\"sun_acc\": sun_acc_lattice + 0.001,\n",
    "            \"ent_acc_public\": ent_acc_public_lattice + 0.001, \n",
    "            \"ent_acc_housing\": ent_acc_housing_lattice + 0.001, \n",
    "            \"ent_acc_gym\": ent_acc_gym_lattice + 0.001,\n",
    "            \"ent_acc_parking\": ent_acc_parking_lattice + 0.001, \n",
    "            \"ent_acc_comcen\": ent_acc_comcen_lattice + 0.001,\n",
    "            \"sky_acc\": sky_acc_lattice + 0.001,\n",
    "            \"quietness_acc\": quietness_acc_lattice + 0.001,\n",
    "            \"ground_floor_acc\": groundfloor_acc_lattice + 0.001}\n",
    "\n",
    "# defining other factors in csv\n",
    "# defining stencil id\n",
    "stencil_id = stencils\n",
    "# area to use in simulation\n",
    "room_area = []"
   ]
  },
  {
   "cell_type": "code",
   "execution_count": null,
   "metadata": {},
   "outputs": [],
   "source": [
    "# check if all the csv files loaded are highres\n",
    "for key, info_lattice in env_info.items():\n",
    "    print(key, info_lattice.shape)"
   ]
  },
  {
   "cell_type": "markdown",
   "metadata": {},
   "source": [
    "# 1. ABM Simulation\n"
   ]
  },
  {
   "cell_type": "markdown",
   "metadata": {},
   "source": [
    "### Basic run"
   ]
  },
  {
   "cell_type": "markdown",
   "metadata": {},
   "source": [
    "#### Making defs "
   ]
  },
  {
   "cell_type": "code",
   "execution_count": null,
   "metadata": {},
   "outputs": [],
   "source": [
    "# Function for checking the availability (Since it is repeated several times in the main loop)\n",
    "def check_avail(avail_lattice, ind, a_stencil_id):\n",
    "    condition = 1\n",
    "    ind_array = np.array(ind)\n",
    "    for step in range(a_stencil_id + 1):\n",
    "        new_ind_array = ind_array + np.array([0,0,step])\n",
    "        condition *= avail_lattice[tuple(new_ind_array)]\n",
    "    return condition"
   ]
  },
  {
   "cell_type": "code",
   "execution_count": null,
   "metadata": {},
   "outputs": [],
   "source": [
    "# Function for evaluation (Since it is repeated several times in the main loop)\n",
    "def eval_voxel(vox, env_info, a_pref):\n",
    "    global_vox_value = 1.0\n",
    "    # for every lattice in the environment informations\n",
    "    for key, info_lattice in env_info.items():\n",
    "        # Here we utilise Fuzzy Logics to be able to compare different layers \n",
    "        # of environmental information and evaluate the voxel for the agent. \n",
    "        # This method is introduced, and generalised in Pirouz Nourian dissertation: \n",
    "        # section 5.7.3, pp. 201-208, eq. 57. You can refer to this section for \n",
    "        # comprehensive mathematical details.\n",
    "        vox_val = info_lattice[tuple(vox)]\n",
    "        agn_vox_val = np.power(vox_val, a_pref[key])\n",
    "        global_vox_value *= agn_vox_val\n",
    "    \n",
    "    return global_vox_value"
   ]
  },
  {
   "cell_type": "code",
   "execution_count": null,
   "metadata": {},
   "outputs": [],
   "source": [
    "# Function for the occupation and departure (Since it is repeated several times in the main loop)\n",
    "def mult_occupation(selected_neigh_3d_address, a_id, a_height, agn_locs, agn_src_locs, occ_lattice, avail_lattice, departure=False):\n",
    "    # Doing this for x times in the z axis with x coming from a_height\n",
    "    for step in range(a_height):\n",
    "        \n",
    "        #giving a step to the regular occupation in order to run this for every step in the z aces\n",
    "        new_address = selected_neigh_3d_address + np.array([0,0,step])\n",
    "        # check if there's enough space in the z axis\n",
    "        if new_address[2] < occ_lattice.shape[2]:\n",
    "            # make tuple of the address\n",
    "            selected_neigh_3d_id = tuple(new_address)\n",
    "            # find the location of the newly selected neighbour\n",
    "            selected_neigh_loc = np.array(selected_neigh_3d_id).flatten()\n",
    "\n",
    "            if departure==False:\n",
    "                # add the newly selected neighbour location to agent locations\n",
    "                agn_locs[a_id].append(selected_neigh_loc)\n",
    "                if step == 0:\n",
    "                    agn_src_locs[a_id].append(selected_neigh_loc)\n",
    "                # set the newly selected neighbour as UNavailable (0) in the availability lattice\n",
    "                avail_lattice[selected_neigh_3d_id] = 0\n",
    "                # set the newly selected neighbour as OCCUPIED by current agent \n",
    "                # (-1 means not-occupied so a_id)\n",
    "                occ_lattice[selected_neigh_3d_id] = a_id\n",
    "            else:\n",
    "                # remove the newly selected neighbour location to agent locations\n",
    "                a_locs_list = [list(loc) for loc in agn_locs[a_id]]\n",
    "                try:\n",
    "                    ind = a_locs_list.index(list(selected_neigh_loc))\n",
    "                    agn_locs[a_id].pop(ind)\n",
    "\n",
    "                    # set the selected neighbour as available (1) in the availability lattice\n",
    "                    avail_lattice[selected_neigh_3d_id] = 1\n",
    "                    # set the newly selected neighbour as NOT OCCUPIED by current agent \n",
    "                    occ_lattice[selected_neigh_3d_id] =  -1\n",
    "                except:\n",
    "                    pass\n",
    "\n",
    "    return (agn_locs, agn_src_locs, occ_lattice, avail_lattice)\n"
   ]
  },
  {
   "cell_type": "code",
   "execution_count": null,
   "metadata": {},
   "outputs": [],
   "source": [
    "def find_neighbours_masked(lattice, stencil, loc):\n",
    "    neigh_locs = np.argwhere(stencil) - stencil.origin + loc\n",
    "    neigh_filter = np.all(neigh_locs > 0, axis=1) * np.all(neigh_locs < np.array(lattice.shape), axis=1)\n",
    "    return(neigh_locs[neigh_filter])"
   ]
  },
  {
   "cell_type": "markdown",
   "metadata": {},
   "source": [
    "#### Intialization "
   ]
  },
  {
   "cell_type": "code",
   "execution_count": null,
   "metadata": {},
   "outputs": [],
   "source": [
    "# initialize the occupation lattice\n",
    "occ_lattice = avail_lattice * 0 - 1\n",
    "\n",
    "# Finding the index of the available voxels in avail_lattice\n",
    "avail_flat = avail_lattice.flatten()\n",
    "avail_index = np.array(np.where(avail_lattice == 1)).T\n",
    "\n",
    "# count the number of spaces (rows) and intiialize an agent for each space\n",
    "agn_num = len(agn_info)\n",
    "\n",
    "# adding the origins to the agents locations\n",
    "agn_locs = [[] for a_id in agn_ids]\n",
    "agn_src_locs = [[] for a_id in agn_ids]\n",
    "agn_upper = []\n",
    "\n",
    "# retrieving the entrance access value of the free neighbours\n",
    "for a_id in agn_ids:    \n",
    "    voxel_vals = []\n",
    "    pot_voxels = []\n",
    "    # retrieve agent preferences\n",
    "    a_pref = agn_prefs.loc[a_id]\n",
    "    a_stencil_id = agn_prefs[\"stencil_id\"][a_id]\n",
    "    stencil = stencils[a_stencil_id]\n",
    "    # max height (z dimension)\n",
    "    a_max_z = agn_prefs[\"max_z\"][a_id]\n",
    "\n",
    "    # use avail_index\n",
    "    # Voxel Evaluation Loop\n",
    "    for pot_vox in avail_index:         \n",
    "        if check_avail(avail_lattice, tuple(pot_vox), a_stencil_id) and pot_vox[2] < a_max_z:\n",
    "            # eval voxel\n",
    "            vox_value = eval_voxel(pot_vox, env_info, a_pref)\n",
    "            # add the neighbour value to the list of values\n",
    "            voxel_vals.append(vox_value)\n",
    "            pot_voxels.append(pot_vox)\n",
    "\n",
    "    # convert to numpy array\n",
    "    voxel_vals = np.array(voxel_vals)\n",
    "    # convert to numpy array\n",
    "    pot_voxels = np.array(pot_voxels)\n",
    "    # select the neighbour with highest value \n",
    "    selected_int = np.argmax(voxel_vals) \n",
    "    # find 3D intiger index of selected neighbour\n",
    "    selected_neigh_3d_address = tuple(pot_voxels[selected_int].T)\n",
    "    # find the location of the newly selected neighbour\n",
    "    agn_origins = np.array(selected_neigh_3d_address).flatten()\n",
    "    \n",
    "    agn_locs, agn_src_locs, occ_lattice, avail_lattice = mult_occupation(selected_neigh_3d_address, \n",
    "                                                                           a_id, \n",
    "                                                                           a_stencil_id + 1, \n",
    "                                                                           agn_locs,\n",
    "                                                                           agn_src_locs,\n",
    "                                                                           occ_lattice, \n",
    "                                                                           avail_lattice)\n",
    "    \n"
   ]
  },
  {
   "cell_type": "markdown",
   "metadata": {},
   "source": [
    "### 1.2. Running the simulation"
   ]
  },
  {
   "cell_type": "markdown",
   "metadata": {},
   "source": [
    "#### Basic run"
   ]
  },
  {
   "cell_type": "code",
   "execution_count": null,
   "metadata": {},
   "outputs": [],
   "source": [
    "# empty lists to fill in order to track satisfaction and area growth\n",
    "satisfaction_record = []\n",
    "area_record = []\n",
    "# make a deep copy of occupation lattice\n",
    "cur_occ_lattice = tg.to_lattice(np.copy(occ_lattice), occ_lattice)\n",
    "# initialzing the list of frames\n",
    "frames = [cur_occ_lattice]\n",
    "\n",
    "# setting the time variable to 0\n",
    "t = 0\n",
    "n_frames = 1\n",
    "\n",
    "# check size of used csv (reach of the code)\n",
    "print(agn_info.shape)\n",
    "\n",
    "# max voxel count per space (here we do the stencil type + 1 \n",
    "#times the amount of area needed in order to obtain the total amount of voxels that need to be occupied by the script)\n",
    "# pick room area data\n",
    "a_room_vox = agn_prefs[\"room_area\"]\n",
    "# pick stencil id's and do +1 because we start with 0 instead of 1 (id 2 would have stencil 3 high otherwise)\n",
    "a_room_stencil = agn_prefs[\"stencil_id\"] + 1\n",
    "# obtain the max amount of voxels needing to be occupied by doing the room area times the height of the space (stencil)\n",
    "a_room_voxels = a_room_stencil * a_room_vox\n",
    "# print in order to check below if you obtain correct values\n",
    "print(a_room_voxels)\n",
    "\n",
    "# Simulation Loop\n",
    "# main feedback loop of the simulation (for each time step ...)\n",
    "while t<n_frames:\n",
    "    all_agn_sat = []\n",
    "    agn_loc_vals = []\n",
    "    all_agn_area = []\n",
    "                \n",
    "    # for each agent ...  (evaluation/satisfaction)\n",
    "    for a_id in range(agn_num):   \n",
    "            \n",
    "        # creating variable that takes per id\n",
    "        a_locs = agn_locs[a_id]\n",
    "        a_src_locs = agn_src_locs[a_id]\n",
    "\n",
    "        # retrieving the entrance access value of the free neighbours\n",
    "        loc_vals = []\n",
    "        # retrieve agent preferences\n",
    "        a_pref = agn_prefs.loc[a_id]\n",
    "\n",
    "        # Neighbour Evaluation Loop\n",
    "        for loc in a_src_locs:\n",
    "            # eval voxel\n",
    "            loc_value = eval_voxel(tuple(loc), env_info, a_pref)\n",
    "\n",
    "            loc_vals.append(loc_value)\n",
    "\n",
    "        agn_loc_vals.append(loc_vals)\n",
    "        agent_satisfaction = np.mean(loc_value)\n",
    "        all_agn_sat.append(agent_satisfaction)\n",
    "\n",
    "    # end of the satisfaction for loop\n",
    "    satisfaction_record.append(all_agn_sat)\n",
    "\n",
    "    # Main Agent Loop\n",
    "    for a_id in range(agn_num):\n",
    "            \n",
    "        # creating variable that takes per id\n",
    "        a_locs = agn_locs[a_id]\n",
    "        a_src_locs = agn_src_locs[a_id]\n",
    "        # creating variable that takes stencil per id\n",
    "        a_stencil_id = agn_prefs[\"stencil_id\"][a_id]\n",
    "        # making a variable that gives the height of the stencils in voxel (coincidentally +1 since all stencils grow with 1 voxel per id)\n",
    "        a_height = a_stencil_id + 1\n",
    "        \n",
    "        # variable for stencil values\n",
    "        stencil = stencils[a_stencil_id]\n",
    "        \n",
    "        # making a variable of the result per id (for the loop)\n",
    "        a_room_voxel = a_room_voxels[a_id]\n",
    "        \n",
    "        # initialize the list of free neighbours\n",
    "        free_neighs = []\n",
    "\n",
    "        # Location loop\n",
    "        # for each location of the agent\n",
    "        for loc in a_src_locs:\n",
    "            # retrieve the list of neighbours of the agent based on the stencil\n",
    "            neighs_3d = find_neighbours_masked(avail_lattice, s_2, loc=loc)\n",
    "\n",
    "            # for each neighbour ... \n",
    "            for neigh_3d_id in neighs_3d:\n",
    "                if check_avail(avail_lattice, neigh_3d_id, a_stencil_id) and neigh_3d_id[2] < a_max_z:\n",
    "                    # add the neighbour to the list of free neighbours\n",
    "                    free_neighs.append(neigh_3d_id)   \n",
    "\n",
    "        # check if found any free neighbour\n",
    "        if len(free_neighs)>0:   \n",
    "            # convert free neighbours to a numpy array\n",
    "            free_neighs = np.array(free_neighs)\n",
    "\n",
    "            # retrieving the entrance access value of the free neighbours\n",
    "            neigh_vals = []\n",
    "            # retrieve agent preferences\n",
    "            a_pref = agn_prefs.loc[a_id]\n",
    "\n",
    "            # Neighbour Evaluation Loop \n",
    "            for neigh in free_neighs:\n",
    "                # vox eval\n",
    "                neigh_value = eval_voxel(tuple(neigh), env_info, a_pref)\n",
    "\n",
    "                neigh_vals.append(neigh_value)\n",
    "\n",
    "            # convert to numpy array\n",
    "            neigh_vals = np.array(neigh_vals)\n",
    "            # select the neighbour with highest value \n",
    "            selected_neighbour = np.argmax(neigh_vals) \n",
    "            # find 3D intiger index of selected neighbour\n",
    "            selected_neigh_3d_address = free_neighs[selected_neighbour].T\n",
    "\n",
    "            agent_satisfaction = all_agn_sat[a_id]\n",
    "\n",
    "            # removing for better voxels \n",
    "            a_evaluation = a_pref[\"evaluation\"]\n",
    "            \n",
    "            # normal growth condition\n",
    "            if len(agn_locs[a_id]) < a_room_voxel:\n",
    "\n",
    "                # Ocupation\n",
    "                agn_locs, agn_src_locs, occ_lattice, avail_lattice = mult_occupation(selected_neigh_3d_address, \n",
    "                                                                    a_id, \n",
    "                                                                    a_height, \n",
    "                                                                    agn_locs, \n",
    "                                                                    agn_src_locs,\n",
    "                                                                    occ_lattice, \n",
    "                                                                    avail_lattice) \n",
    "            \n",
    "            \n",
    "            # if evaluation value is higher than the agent satisfaction \n",
    "            elif a_evaluation > agent_satisfaction:\n",
    "                \n",
    "                # select the lowest valued voxel for that agent\n",
    "                loc_vals = agn_loc_vals[a_id]\n",
    "                selected_loc = np.argmin(loc_vals)\n",
    "                \n",
    "                # Departure\n",
    "                if neigh_vals[selected_neighbour] > loc_vals[selected_loc]:\n",
    "                    \n",
    "                    # Running stencil departure with the function\n",
    "                    vox_loc = agn_src_locs[a_id][selected_loc]\n",
    "                    \n",
    "                    agn_locs, agn_src_locs, occ_lattice, avail_lattice = mult_occupation(vox_loc, \n",
    "                                                                           a_id, \n",
    "                                                                           a_height, \n",
    "                                                                           agn_locs,\n",
    "                                                                           agn_src_locs,\n",
    "                                                                           occ_lattice, \n",
    "                                                                           avail_lattice, \n",
    "                                                                           departure=True)\n",
    "        \n",
    "                    # Ocupation after departure with the function\n",
    "                    agn_locs, agn_src_locs, occ_lattice, avail_lattice = mult_occupation(free_neighs[selected_neighbour], \n",
    "                                                                           a_id, \n",
    "                                                                           a_height, \n",
    "                                                                           agn_locs, \n",
    "                                                                           agn_src_locs,\n",
    "                                                                           occ_lattice, \n",
    "                                                                           avail_lattice)           \n",
    "                        \n",
    "                # end of swapping condition            \n",
    "            # end of dynamic condition\n",
    "        # end of available free neighbour condition\n",
    "        # inside the agent iteration loop\n",
    "        all_agn_area.append(len(agn_locs[a_id]))\n",
    "    # end of the agent iteration loop\n",
    "    area_record.append(all_agn_area)                \n",
    "    # constructing the new lattice\n",
    "    new_occ_lattice = tg.to_lattice(np.copy(occ_lattice), occ_lattice)\n",
    "    # adding the new lattice to the list of frames\n",
    "    frames.append(new_occ_lattice)\n",
    "    # adding one to the time counter\n",
    "    t += 1"
   ]
  },
  {
   "cell_type": "code",
   "execution_count": null,
   "metadata": {
    "scrolled": false
   },
   "outputs": [],
   "source": [
    "# satisfaction tracking\n",
    "satisfaction_df = pd.DataFrame.from_records(satisfaction_record, columns=[\"Agent_\" + str(a_id) for a_id in range(agn_num)])\n",
    "satisfaction_df.index = [\"Frame_\" + str(f) for f in range(len(satisfaction_record))]\n",
    "satisfaction_df\n",
    "\n",
    "#save the table\n",
    "table = satisfaction_df.to_csv('../data/2500frames.csv')\n",
    "#load the table\n",
    "table = pd.read_csv('../data/2500frames.csv')\n",
    "\n",
    "# dividing the table \n",
    "sat1 = table[[\"Agent_0\", \"Agent_1\", \"Agent_2\", \"Agent_3\", \"Agent_4\", \"Agent_5\", \"Agent_6\",\n",
    "                        \"Agent_7\", \"Agent_8\", \"Agent_9\", \"Agent_10\", \"Agent_12\", \"Agent_13\", \"Agent_14\", \"Agent_15\",\n",
    "                        \"Agent_18\"]]\n",
    "# set limit\n",
    "sat1 = sat1[0:100]\n",
    "\n",
    "# dividing the table \n",
    "sat2 = table[[\"Agent_11\", \"Agent_17\", \"Agent_19\"]]\n",
    "# set limit\n",
    "sat2 = sat2[0:800]\n",
    "\n",
    "# dividing the table \n",
    "sat3 = table[[\"Agent_16\"]]\n",
    "# set limit\n",
    "sat3 = sat3[0:2500]"
   ]
  },
  {
   "cell_type": "code",
   "execution_count": null,
   "metadata": {},
   "outputs": [],
   "source": [
    "#plot graph\n",
    "df = sat1\n",
    "df.plot(legend=True, figsize=(15, 10), xlabel=\"new x\", ylabel=\"new y\", title = \"xx\", colormap=\"tab20\");\n",
    "plt.legend(bbox_to_anchor=(1.0, 0.5))"
   ]
  },
  {
   "cell_type": "code",
   "execution_count": null,
   "metadata": {},
   "outputs": [],
   "source": [
    "#plot graph\n",
    "df = sat2\n",
    "df.plot(legend=True, figsize=(15, 10), xlabel=\"new x\", ylabel=\"new y\", title = \"xx\", colormap=\"tab10\");\n",
    "plt.legend(bbox_to_anchor=(1.0, 0.5))"
   ]
  },
  {
   "cell_type": "code",
   "execution_count": null,
   "metadata": {},
   "outputs": [],
   "source": [
    "#plot graph\n",
    "df = sat3\n",
    "df.plot(legend=True, figsize=(15, 10), xlabel=\"new x\", ylabel=\"new y\", title = \"xx\", colormap=\"tab10\");\n",
    "plt.legend(bbox_to_anchor=(1.0, 0.5))"
   ]
  },
  {
   "cell_type": "code",
   "execution_count": null,
   "metadata": {},
   "outputs": [],
   "source": [
    "#area tracking\n",
    "spacesize_df = pd.DataFrame.from_records(area_record, columns=[\"Agent_\" + str(a_id) for a_id in range(agn_num)])\n",
    "spacesize_df.index = [\"Frame_\" + str(f) for f in range(len(area_record))]\n",
    "spacesize_df"
   ]
  },
  {
   "cell_type": "code",
   "execution_count": null,
   "metadata": {},
   "outputs": [],
   "source": [
    "#saving the tables to compare if script is runned again with different results\n",
    "pickle.dump(frames, open(\"../data/frames.p\", \"wb\" ))"
   ]
  },
  {
   "cell_type": "code",
   "execution_count": null,
   "metadata": {},
   "outputs": [],
   "source": [
    "#saving the tables to compare if script is runned again with different results\n",
    "frames = pickle.load(open(\"../data/frames.p\", \"rb\" ))\n",
    "for frame in frames: \n",
    "    frame.bounds = occ_lattice.bounds\n",
    "    frame.unit = occ_lattice.unit"
   ]
  },
  {
   "cell_type": "markdown",
   "metadata": {},
   "source": [
    "### 1.3. Visualizing the simulation"
   ]
  },
  {
   "cell_type": "code",
   "execution_count": null,
   "metadata": {
    "scrolled": true
   },
   "outputs": [],
   "source": [
    "p = pv.Plotter(notebook=True)\n",
    "\n",
    "base_lattice = frames[0]\n",
    "\n",
    "# Set the grid dimensions: shape + 1 because we want to inject our values on the CELL data\n",
    "grid = pv.UniformGrid()\n",
    "grid.dimensions = np.array(base_lattice.shape) + 1\n",
    "# The bottom left corner of the data set\n",
    "grid.origin = base_lattice.minbound - base_lattice.unit * 0.5\n",
    "# These are the cell sizes along each axis\n",
    "grid.spacing = base_lattice.unit \n",
    "\n",
    "# adding the boundingbox wireframe\n",
    "p.add_mesh(grid.outline(), color=\"grey\", label=\"Domain\")\n",
    "\n",
    "# adding the avilability lattice\n",
    "init_avail_lattice_good_voxels.fast_vis(p)\n",
    "\n",
    "# adding axes\n",
    "p.add_axes()\n",
    "p.show_bounds(grid=\"back\", location=\"back\", color=\"#aaaaaa\")\n",
    "\n",
    "# making space list with index for the sargs\n",
    "space_list = agn_prefs.get('space_name')\n",
    "# formatting for the sarg annotation\n",
    "space_list = space_list.to_dict()\n",
    "\n",
    "sargs = dict(\n",
    "    shadow = True,\n",
    "    n_labels = 0,\n",
    "    italic = False,\n",
    "    fmt=\" %.0f\",\n",
    "    font_family=\"arial\",\n",
    "    height = 0.6,\n",
    "    vertical = True,\n",
    "    position_x = 1.05,\n",
    "    position_y = 1)\n",
    "\n",
    "def create_mesh(value):\n",
    "    f = int(value)\n",
    "    lattice = frames[f]\n",
    "\n",
    "    # Add the data values to the cell data\n",
    "    grid.cell_arrays[\"Agents\"] = lattice.flatten(order=\"F\").astype(int)  # Flatten the array!\n",
    "    # filtering the voxels\n",
    "    threshed = grid.threshold([-0.1, agn_num - 0.9])\n",
    "    # adding the voxels\n",
    "    p.add_mesh(threshed, name='sphere', show_edges=True, opacity=1.0, show_scalar_bar=True, annotations = space_list, scalar_bar_args=sargs, cmap=\"nipy_spectral\")\n",
    "    return"
   ]
  },
  {
   "cell_type": "code",
   "execution_count": null,
   "metadata": {
    "scrolled": false
   },
   "outputs": [],
   "source": [
    "# new cell in order to maintain vis size\n",
    "p.add_slider_widget(create_mesh, [0, n_frames], title='Time', value=0, event_type=\"always\", style=\"classic\", pointa=(0.1, 0.1), pointb=(0.9, 0.1))\n",
    "p.show(use_ipyvtk=True)"
   ]
  },
  {
   "cell_type": "markdown",
   "metadata": {},
   "source": [
    "### 2.3. Saving lattice frames in CSV"
   ]
  },
  {
   "cell_type": "code",
   "execution_count": null,
   "metadata": {},
   "outputs": [],
   "source": [
    "# save for every frame\n",
    "for i, lattice in enumerate(frames):\n",
    "    csv_path = os.path.relpath('../data/abm_mcda/abm_f_'+ f'{i:03}' + '.csv')\n",
    "    lattice.to_csv(csv_path)\n",
    "\n",
    "#or just end frame\n",
    "csv_path = os.path.relpath('../data/final_lattice.csv')\n",
    "lattice.to_csv(csv_path)"
   ]
  },
  {
   "cell_type": "code",
   "execution_count": null,
   "metadata": {},
   "outputs": [],
   "source": [
    "# An issue occured regarding specific agents not occuring when loading in and visualizing the lattice, \n",
    "#it was solved this way:\n",
    "\n",
    "#load in final lattice\n",
    "lattice_path = os.path.relpath('../data/final_lattice.csv')\n",
    "avail_lattice_good_voxels = lattice_from_csv(lattice_path)\n",
    "init_avail_lattice_good_voxels = tg.to_lattice(np.copy(avail_lattice_good_voxels), avail_lattice_good_voxels)\n",
    "\n",
    "#instead of values, make it true/false\n",
    "high_threshold = 50\n",
    "low_threshold = -0.9\n",
    "new_avail_lattice = ((init_avail_lattice_good_voxels < high_threshold) * (init_avail_lattice_good_voxels > low_threshold))\n",
    "\n",
    "#save it\n",
    "csv_path = os.path.relpath('../data/fixed_final_lattice.csv')\n",
    "new_avail_lattice.to_csv(csv_path)"
   ]
  },
  {
   "cell_type": "markdown",
   "metadata": {},
   "source": [
    "### Credits"
   ]
  },
  {
   "cell_type": "code",
   "execution_count": null,
   "metadata": {},
   "outputs": [],
   "source": [
    "__author__ = \"Shervin Azadi and Pirouz Nourian\"\n",
    "_Chief_editor_ = \"PROJECT APIDAE\"\n",
    "_editor_mentor_ = \"Shervin Azadi\"\n",
    "__license__ = \"MIT\"\n",
    "__version__ = \"1.0\"\n",
    "__url__ = \"https://github.com/shervinazadi/spatial_computing_workshops\"\n",
    "__summary__ = \"Spatial Computing Design Studio Workshop on MCDA and Path Finding for Generative Spatial Relations\""
   ]
  }
 ],
 "metadata": {
  "kernelspec": {
   "display_name": "Python 3",
   "language": "python",
   "name": "python3"
  },
  "language_info": {
   "codemirror_mode": {
    "name": "ipython",
    "version": 3
   },
   "file_extension": ".py",
   "mimetype": "text/x-python",
   "name": "python",
   "nbconvert_exporter": "python",
   "pygments_lexer": "ipython3",
   "version": "3.8.4"
  }
 },
 "nbformat": 4,
 "nbformat_minor": 2
}
