{
 "cells": [
  {
   "cell_type": "markdown",
   "metadata": {},
   "source": [
    "# Polygonization\n",
    "\n",
    "In this workshop we will learn how to convert our topological model of the building into a geometric model.\n",
    "This script turns a topological model of a building into a geometric model. \n",
    "\n",
    "As input it takes an envelope lattice. \n",
    "\n",
    "In chapter 0 and 1 you can create symmetry stencills, and save unique profile lattices. \n",
    "In chapter 2 you can load a sub-tile set and generate the complete tile set. \n",
    "\n",
    "In chapter 3 you can, using the boolean marching cube algorithm create your geometry based on the tileset(s)\n",
    "\n",
    "chapter 3 can run seperatly without chapter 0,1 and 2\n",
    "\n",
    "It is possible to use stencills to select different parts of the building and run a different tile set on each stencill. \n",
    "In this code, there is a different tileset for the roof,groundfloor, facade in y direction, and 4 for the variation in the x direction.\n",
    "\n",
    "\n",
    "\n",
    "As output this script generates a meshed geometry. Unfortunately without texture. "
   ]
  },
  {
   "cell_type": "markdown",
   "metadata": {},
   "source": [
    "## 0. Initialization\n",
    "\n",
    "### 0.0. Importing libraries "
   ]
  },
  {
   "cell_type": "code",
   "execution_count": null,
   "metadata": {},
   "outputs": [],
   "source": [
    "import topogenesis as tg\n",
    "import numpy as np \n",
    "import pyvista as pv\n",
    "import os\n",
    "import copy\n",
    "import trimesh as tm\n",
    "import pandas as pd\n",
    "import resources.boolean_marching_cubes as bmc"
   ]
  },
  {
   "cell_type": "markdown",
   "metadata": {},
   "source": [
    "### 0.1. Generate Symmetry Stencils"
   ]
  },
  {
   "cell_type": "code",
   "execution_count": null,
   "metadata": {},
   "outputs": [],
   "source": [
    "sym_str = [[\"OO\"], [\"XX\"], [\"YY\"], [\"ZP\"], [\"ZN\"]]\n",
    "stencils = bmc.create_symmetry_stencils(sym_str)\n",
    "\n",
    "for s in stencils:\n",
    "    print(s)\n",
    "    print(\"-----\")"
   ]
  },
  {
   "cell_type": "markdown",
   "metadata": {},
   "source": [
    "### 0.2. Generate lattices for all possible cubes "
   ]
  },
  {
   "cell_type": "code",
   "execution_count": null,
   "metadata": {},
   "outputs": [],
   "source": [
    "# generate bianary representation of all the possible cubes\n",
    "l_bis = bmc.bi_cube_lattices()\n",
    "l_bis[3]"
   ]
  },
  {
   "cell_type": "markdown",
   "metadata": {},
   "source": [
    "## 1. Profiling\n",
    "\n",
    "### 1.1. Catalogue the profile of all corners"
   ]
  },
  {
   "cell_type": "code",
   "execution_count": null,
   "metadata": {
    "scrolled": false
   },
   "outputs": [],
   "source": [
    "# find all unique corner arrangements based on stencils\n",
    "corner_profiles = bmc.extract_corner_profiles(stencils, l_bis)"
   ]
  },
  {
   "cell_type": "markdown",
   "metadata": {},
   "source": [
    "### 1.2. Find unique corner profiles"
   ]
  },
  {
   "cell_type": "code",
   "execution_count": null,
   "metadata": {},
   "outputs": [],
   "source": [
    "# stack corner_profiles vertically\n",
    "cp_stacked = np.vstack(corner_profiles)\n",
    "\n",
    "# find the uniqe arangements of corners\n",
    "uniq_corner_arang = np.unique(cp_stacked, axis=0)\n",
    "\n",
    "print(cp_stacked)\n",
    "#print(uniq_corner_arang)\n",
    "#print(len(uniq_corner_arang))\n",
    "print(len(cp_stacked))"
   ]
  },
  {
   "cell_type": "markdown",
   "metadata": {},
   "source": [
    "### 1.3. Construct unique profile latices"
   ]
  },
  {
   "cell_type": "code",
   "execution_count": null,
   "metadata": {},
   "outputs": [],
   "source": [
    "# construct lattices for all unique corner profiles\n",
    "(corner_loc_lattices, corner_neigh_lattices) = bmc.profiles_to_lattices(uniq_corner_arang, stencils)"
   ]
  },
  {
   "cell_type": "markdown",
   "metadata": {},
   "source": [
    "### 1.4. Visualize unique profiles"
   ]
  },
  {
   "cell_type": "code",
   "execution_count": null,
   "metadata": {},
   "outputs": [],
   "source": [
    "p = pv.Plotter(notebook=True)\n",
    "\n",
    "base_lattice = corner_neigh_lattices[0]\n",
    "\n",
    "# Set the grid dimensions: shape + 1 because we want to inject our values on the CELL data\n",
    "grid = pv.UniformGrid()\n",
    "grid.dimensions = np.array(base_lattice.shape) + 1\n",
    "# The bottom left corner of the data set\n",
    "grid.origin = base_lattice.minbound - base_lattice.unit * 0.5\n",
    "# These are the cell sizes along each axis\n",
    "grid.spacing = base_lattice.unit \n",
    "\n",
    "# adding the boundingbox wireframe\n",
    "p.add_mesh(grid.outline(), color=\"grey\", label=\"Domain\")\n",
    "\n",
    "# adding axes\n",
    "p.add_axes()\n",
    "p.show_bounds(grid=\"back\", location=\"back\", color=\"#aaaaaa\")\n",
    "\n",
    "def create_mesh(value):\n",
    "    f = int(value)\n",
    "    lattice = corner_neigh_lattices[f]\n",
    "    loc = corner_loc_lattices[f]\n",
    "\n",
    "    # Add the data values to the cell data\n",
    "    grid.cell_arrays[\"filled\"] = lattice.flatten(order=\"F\").astype(int)  # Flatten the array!\n",
    "    # filtering the voxels\n",
    "    threshed = grid.threshold([.9, 1.1], scalars=\"filled\")\n",
    "    # adding the voxels\n",
    "    p.add_mesh(threshed, name='sphere', show_edges=True, opacity=0.7, show_scalar_bar=False)\n",
    "    \n",
    "    # Add the data values to the cell data\n",
    "    grid.cell_arrays[\"corner\"] = loc.flatten(order=\"F\").astype(int)# Flatten the array!\n",
    "    # filtering the voxels\n",
    "    threshed = grid.threshold([.9, 1.1], scalars=\"corner\")\n",
    "    # adding the voxels\n",
    "    p.add_mesh(threshed, name='sphere2', show_edges=True, opacity=1.0, show_scalar_bar=False, color=\"white\")\n",
    "\n",
    "    return\n",
    "\n",
    "p.add_slider_widget(create_mesh, [1, len(corner_neigh_lattices)], title='Arrangements', value=0, event_type=\"always\", style=\"classic\", pointa=(0.1, 0.1), pointb=(0.9, 0.1))\n",
    "p.show(use_ipyvtk=True)"
   ]
  },
  {
   "cell_type": "markdown",
   "metadata": {},
   "source": [
    "### 1.5. Save unique arrangement profiles "
   ]
  },
  {
   "cell_type": "code",
   "execution_count": null,
   "metadata": {},
   "outputs": [],
   "source": [
    "# save all design templates into lattice CSVs\n",
    "templates_path = os.path.relpath('../data/bmc/bmc_templates')\n",
    "bmc.save_design_templates(corner_loc_lattices, corner_neigh_lattices, templates_path)"
   ]
  },
  {
   "cell_type": "markdown",
   "metadata": {},
   "source": [
    "## 2. Construct the tile-set\n",
    "\n",
    "### 2.1. Load sub-tile meshes"
   ]
  },
  {
   "cell_type": "code",
   "execution_count": null,
   "metadata": {},
   "outputs": [],
   "source": [
    "# load subtile meshes\n",
    "subtile_meshes = []\n",
    "for c in range(len(corner_loc_lattices)):\n",
    "    corner_mesh_path = os.path.relpath('../data/bmc/balcony_top/t_' + f'{c:02}' + '.obj')\n",
    "    corner_mesh = tm.load(corner_mesh_path)\n",
    "    subtile_meshes.append(corner_mesh)"
   ]
  },
  {
   "cell_type": "markdown",
   "metadata": {},
   "source": [
    "### 2.2. Combine sub-tile meshes to create tile meshes"
   ]
  },
  {
   "cell_type": "code",
   "execution_count": null,
   "metadata": {},
   "outputs": [],
   "source": [
    "tiles_meshes = bmc.construct_tile_meshes(subtile_meshes, corner_profiles, uniq_corner_arang, corner_loc_lattices)"
   ]
  },
  {
   "cell_type": "markdown",
   "metadata": {},
   "source": [
    "### 2.3. Visualize tile meshes"
   ]
  },
  {
   "cell_type": "code",
   "execution_count": null,
   "metadata": {},
   "outputs": [],
   "source": [
    "# convert mesh to pv_mesh\n",
    "def tri_to_pv(tri_mesh):\n",
    "    faces = np.pad(tri_mesh.faces, ((0, 0),(1,0)), 'constant', constant_values=3)\n",
    "    pv_mesh = pv.PolyData(tri_mesh.vertices, faces)\n",
    "    return pv_mesh\n",
    "\n",
    "p = pv.Plotter(notebook=True)\n",
    "\n",
    "base_lattice = l_bis[0]\n",
    "\n",
    "# Set the grid dimensions: shape + 1 because we want to inject our values on the CELL data\n",
    "grid = pv.UniformGrid()\n",
    "grid.dimensions = np.array(base_lattice.shape) + 1\n",
    "# The bottom left cornerempty of the data set\n",
    "grid.origin = base_lattice.minbound - base_lattice.unit * 0.5 \n",
    "# These are the cell sizes along each axis\n",
    "grid.spacing = base_lattice.unit *0.5\n",
    "\n",
    "# adding the boundingbox wireframe\n",
    "p.add_mesh(grid.outline(), color=\"grey\", label=\"Domain\")\n",
    "\n",
    "# adding axes\n",
    "p.add_axes()\n",
    "p.show_bounds(grid=\"back\", location=\"back\", color=\"#aaaaaa\")\n",
    "\n",
    "def create_mesh(value):\n",
    "    i = int(value)\n",
    "    mesh = tiles_meshes[i]\n",
    "    lattice = l_bis[i]\n",
    "\n",
    "    # Add the data values to the cell data\n",
    "    grid.cell_arrays[\"cube\"] = lattice.flatten(order=\"F\").astype(int)# Flatten the array!\n",
    "    # filtering the voxels\n",
    "    threshed = grid.threshold([.9, 1.1], scalars=\"cube\")\n",
    "    # adding the voxels\n",
    "    p.add_mesh(threshed, name='sphere2', show_edges=True, opacity=0.2, show_scalar_bar=False, color=\"white\")\n",
    "\n",
    "    # adding the meshes\n",
    "    p.add_mesh(tri_to_pv(mesh), color='#abd8ff', name=\"sphere\")\n",
    "\n",
    "    return\n",
    "\n",
    "p.add_slider_widget(create_mesh, [0, len(tiles_meshes)], title='Tiles', value=1, event_type=\"always\", style=\"classic\", pointa=(0.1, 0.1), pointb=(0.9, 0.1))\n",
    "\n",
    "p.show(use_ipyvtk=True)"
   ]
  },
  {
   "cell_type": "markdown",
   "metadata": {},
   "source": [
    "### 2.4. Save the tile-set"
   ]
  },
  {
   "cell_type": "code",
   "execution_count": null,
   "metadata": {
    "scrolled": false
   },
   "outputs": [],
   "source": [
    "tiles_path = os.path.relpath('../data/bmc/bmc_tiles_balconytop')\n",
    "bmc.save_tile_meshes(tiles_meshes, l_bis, tiles_path)"
   ]
  },
  {
   "cell_type": "code",
   "execution_count": null,
   "metadata": {},
   "outputs": [],
   "source": [
    "import topogenesis as tg\n",
    "import numpy as np \n",
    "import pyvista as pv\n",
    "import os\n",
    "import copy\n",
    "import trimesh as tm\n",
    "import pandas as pd\n",
    "import resources.boolean_marching_cubes as bmc"
   ]
  },
  {
   "cell_type": "markdown",
   "metadata": {},
   "source": [
    "## 3. Boolean Marching Cube\n",
    "\n",
    "### 3.1. Load envelope lattice"
   ]
  },
  {
   "cell_type": "code",
   "execution_count": null,
   "metadata": {},
   "outputs": [],
   "source": [
    "# loading the lattice from csv\n",
    "lattice_path = os.path.relpath('../data/final_lattice_ihope_x2PLS.csv')\n",
    "\n",
    "envelope_lattice_0 = tg.lattice_from_csv(lattice_path)"
   ]
  },
  {
   "cell_type": "markdown",
   "metadata": {},
   "source": [
    "## Removing the interior voxels\n",
    "#### Clean up the geometry, make the script run smoother"
   ]
  },
  {
   "cell_type": "code",
   "execution_count": null,
   "metadata": {},
   "outputs": [],
   "source": [
    "# create the stencil\n",
    "s = tg.create_stencil(\"von_neumann\", 1, 1)\n",
    "s.set_index([0,0,0], 0)\n",
    "\n",
    "# add the sum function to the stencil\n",
    "s.function = tg.sfunc.sum \n",
    "\n",
    "# apply the stencil on the lattice\n",
    "neighbor_sum = envelope_lattice_0.apply_stencil(s)\n",
    "\n",
    "# remove if less than 6\n",
    "new_envelope_lattice = envelope_lattice_0 * (neighbor_sum <= 5)\n",
    "\n",
    "new_envelope_lattice_expanded = np.pad(new_envelope_lattice, ((1,1),(1,1),(1, 1)), 'constant', constant_values=0)\n",
    "new_envelope_lattice_expanded = tg.to_lattice(new_envelope_lattice_expanded, new_envelope_lattice.minbound - new_envelope_lattice.unit, new_envelope_lattice.unit)"
   ]
  },
  {
   "cell_type": "markdown",
   "metadata": {},
   "source": [
    "## Creating the roof lattice"
   ]
  },
  {
   "cell_type": "code",
   "execution_count": null,
   "metadata": {
    "scrolled": true
   },
   "outputs": [],
   "source": [
    "s = tg.create_stencil(\"von_neumann\", 0, 2)\n",
    "s.set_index([0,0,0], 0)\n",
    "s.set_index([0,0,1], 1)\n",
    "s.set_index([0,0,2], 1)\n",
    "\n",
    "s.function = tg.sfunc.sum\n",
    "\n",
    "upsum_lattice = envelope_lattice_0.apply_stencil(s)\n",
    "roof_lattice = (upsum_lattice == 0) * envelope_lattice_0\n",
    "\n",
    "roof_lattice_expanded = np.pad(roof_lattice, ((1,1),(1,1),(1, 1)), 'constant', constant_values=0)\n",
    "roof_lattice_expanded = tg.to_lattice(roof_lattice_expanded, roof_lattice.minbound - roof_lattice.unit, roof_lattice.unit)"
   ]
  },
  {
   "cell_type": "code",
   "execution_count": null,
   "metadata": {},
   "outputs": [],
   "source": [
    "cube_roof_lattice = roof_lattice.boolean_marching_cubes()"
   ]
  },
  {
   "cell_type": "markdown",
   "metadata": {},
   "source": [
    "## Selecting singular facade"
   ]
  },
  {
   "cell_type": "code",
   "execution_count": null,
   "metadata": {},
   "outputs": [],
   "source": [
    "#every 2 other floor\n",
    "avail_index = np.array(np.where(new_envelope_lattice == 1)).T\n",
    "\n",
    "for vox_1d_ind in avail_index:\n",
    "    vox_3d_ind = np.unravel_index(vox_1d_ind, new_envelope_lattice.shape)\n",
    "    VX, VY, VZ = vox_3d_ind\n",
    "\n",
    "    \n",
    "regular_facade = new_envelope_lattice * 0\n",
    "regular_facade[1,:,:] = 1\n",
    "regular_facade[2,15:50,:] = 1\n",
    "regular_facade[3,31:50,:] = 1\n",
    "regular_facade[83,:,:] = 1\n",
    "\n",
    "regular_facade *= new_envelope_lattice\n",
    "\n",
    "regular_facade_expanded = np.pad(regular_facade, ((1,1),(1,1),(1, 1)), 'constant', constant_values=0)\n",
    "regular_facade_expanded = tg.to_lattice(regular_facade_expanded, regular_facade.minbound - regular_facade.unit, regular_facade.unit)\n",
    "    "
   ]
  },
  {
   "cell_type": "markdown",
   "metadata": {},
   "source": [
    "## Selecting Ground Floor"
   ]
  },
  {
   "cell_type": "code",
   "execution_count": null,
   "metadata": {},
   "outputs": [],
   "source": [
    "# Finding the index of the available voxels in avail_lattice\n",
    "avail_index = np.array(np.where(new_envelope_lattice == 1)).T\n",
    "\n",
    "for vox_1d_ind in avail_index:\n",
    "    vox_3d_ind = np.unravel_index(vox_1d_ind, new_envelope_lattice.shape)\n",
    "    VX, VY, VZ = vox_3d_ind\n",
    "\n",
    "# Ground Floor\n",
    "ground_floor_lattice = new_envelope_lattice * 0\n",
    "ground_floor_lattice[:,:,:4] = 1\n",
    "ground_floor_lattice *= new_envelope_lattice\n",
    "\n",
    "ground_floor_lattice_expanded = np.pad(ground_floor_lattice, ((1,1),(1,1),(1, 1)), 'constant', constant_values=0)\n",
    "ground_floor_lattice_expanded = tg.to_lattice(ground_floor_lattice_expanded, ground_floor_lattice.minbound - ground_floor_lattice.unit, ground_floor_lattice.unit )"
   ]
  },
  {
   "cell_type": "code",
   "execution_count": null,
   "metadata": {},
   "outputs": [],
   "source": [
    "envelope_lattice = new_envelope_lattice_expanded - ground_floor_lattice_expanded - regular_facade_expanded - roof_lattice_expanded\n",
    "regular_facade_expanded = regular_facade_expanded - ground_floor_lattice_expanded"
   ]
  },
  {
   "cell_type": "code",
   "execution_count": null,
   "metadata": {},
   "outputs": [],
   "source": [
    "ground_floor_cube_lattice= ground_floor_lattice_expanded.boolean_marching_cubes()"
   ]
  },
  {
   "cell_type": "code",
   "execution_count": null,
   "metadata": {},
   "outputs": [],
   "source": [
    "regular_facade_cube = regular_facade_expanded.boolean_marching_cubes()"
   ]
  },
  {
   "cell_type": "markdown",
   "metadata": {},
   "source": [
    "### 3.2. Extract the cube lattice from the envelope lattice"
   ]
  },
  {
   "cell_type": "markdown",
   "metadata": {},
   "source": [
    "# Facade part 1 \n",
    "#### repeats on the 1st ::4 and 2nd::4 floor and in the x  direction as 2::3\n",
    "#### repeats on the 3rd::4 and 4th::4 floor and in the x  direction as 0::3"
   ]
  },
  {
   "cell_type": "code",
   "execution_count": null,
   "metadata": {},
   "outputs": [],
   "source": [
    "avail_index = np.array(np.where(envelope_lattice == 1)).T\n",
    "\n",
    "for vox_1d_ind in avail_index:\n",
    "    vox_3d_ind = np.unravel_index(vox_1d_ind, envelope_lattice.shape)\n",
    "    VX, VY, VZ = vox_3d_ind\n",
    "\n",
    "facade_part_1 = envelope_lattice * 0\n",
    "facade_part_1[2::3,:,1::4] = 1\n",
    "facade_part_1[2::3,:,2::4] = 1\n",
    "facade_part_1[0::3,:,3::4] = 1\n",
    "facade_part_1[0::3,:,4::4] = 1\n",
    "\n",
    "\n",
    "facade_part_1 *= envelope_lattice\n",
    "\n",
    "facade_part_1_expanded = np.pad(facade_part_1, ((1,1),(1,1),(1, 1)), 'constant', constant_values=0)\n",
    "facade_part_1_expanded = tg.to_lattice(facade_part_1_expanded, facade_part_1.minbound - facade_part_1.unit, facade_part_1.unit)"
   ]
  },
  {
   "cell_type": "code",
   "execution_count": null,
   "metadata": {
    "scrolled": false
   },
   "outputs": [],
   "source": [
    "facade_1_cube  = facade_part_1_expanded.boolean_marching_cubes() "
   ]
  },
  {
   "cell_type": "markdown",
   "metadata": {},
   "source": [
    "# Facade part 2\n",
    "#### repeats on the 3st ::4 floor and in the x  direction as 1::3\n",
    "#### repeats on the 1st::4 floor and in the x  direction as 3::3"
   ]
  },
  {
   "cell_type": "code",
   "execution_count": null,
   "metadata": {},
   "outputs": [],
   "source": [
    "avail_index = np.array(np.where(envelope_lattice == 1)).T\n",
    "\n",
    "for vox_1d_ind in avail_index:\n",
    "    vox_3d_ind = np.unravel_index(vox_1d_ind, envelope_lattice.shape)\n",
    "    VX, VY, VZ = vox_3d_ind\n",
    "\n",
    "facade_part_2 = envelope_lattice * 0\n",
    "facade_part_2[3::3,:,1::4] = 1\n",
    "facade_part_2[1::3,:,3::4] = 1\n",
    "\n",
    "facade_part_2 *= envelope_lattice\n",
    "\n",
    "facade_part_2_expanded = np.pad(facade_part_2, ((1,1),(1,1),(1, 1)), 'constant', constant_values=0)\n",
    "facade_part_2_expanded = tg.to_lattice(facade_part_2_expanded, facade_part_2.minbound - facade_part_2.unit, facade_part_2.unit)"
   ]
  },
  {
   "cell_type": "code",
   "execution_count": null,
   "metadata": {},
   "outputs": [],
   "source": [
    "facade_2_cube  = facade_part_2_expanded.boolean_marching_cubes()"
   ]
  },
  {
   "cell_type": "markdown",
   "metadata": {},
   "source": [
    "# Facade part 3\n",
    "#### repeats on the 4rd ::4 floor and in the x  direction as 1::3\n",
    "#### repeats on the 2nd::4 floor and in the x  direction as 3::3\n"
   ]
  },
  {
   "cell_type": "code",
   "execution_count": null,
   "metadata": {},
   "outputs": [],
   "source": [
    "avail_index = np.array(np.where(envelope_lattice == 1)).T\n",
    "\n",
    "for vox_1d_ind in avail_index:\n",
    "    vox_3d_ind = np.unravel_index(vox_1d_ind, envelope_lattice.shape)\n",
    "    VX, VY, VZ = vox_3d_ind\n",
    "\n",
    "facade_part_3 = envelope_lattice * 0\n",
    "facade_part_3[1::3,:,4::4] = 1\n",
    "facade_part_3[3::3,:,2::4] = 1\n",
    "\n",
    "facade_part_3 *= envelope_lattice\n",
    "\n",
    "facade_part_3_expanded = np.pad(facade_part_3, ((1,1),(1,1),(1, 1)), 'constant', constant_values=0)\n",
    "facade_part_3_expanded = tg.to_lattice(facade_part_3_expanded, facade_part_3.minbound - facade_part_3.unit, facade_part_3.unit)"
   ]
  },
  {
   "cell_type": "code",
   "execution_count": null,
   "metadata": {},
   "outputs": [],
   "source": [
    "facade_3_cube  = facade_part_3_expanded.boolean_marching_cubes()"
   ]
  },
  {
   "cell_type": "markdown",
   "metadata": {},
   "source": [
    "# Facade part 4\n",
    "#### repeats on the 1st::4 and 2nd::4 floor and in the x  direction as 1::3\n",
    "#### repeats on the 3rd::4 and 4th::4 floor and in the x  direction as 2::3"
   ]
  },
  {
   "cell_type": "code",
   "execution_count": null,
   "metadata": {},
   "outputs": [],
   "source": [
    "avail_index = np.array(np.where(envelope_lattice == 1)).T\n",
    "\n",
    "for vox_1d_ind in avail_index:\n",
    "    vox_3d_ind = np.unravel_index(vox_1d_ind, envelope_lattice.shape)\n",
    "    VX, VY, VZ = vox_3d_ind\n",
    "\n",
    "facade_part_4 = envelope_lattice * 0\n",
    "facade_part_4[1::3,:,1::4] = 1\n",
    "facade_part_4[1::3,:,2::4] = 1\n",
    "facade_part_4[2::3,:,3::4] = 1\n",
    "facade_part_4[2::3,:,4::4] = 1\n",
    "\n",
    "facade_part_4 *= envelope_lattice\n",
    "\n",
    "facade_part_4_expanded = np.pad(facade_part_4, ((1,1),(1,1),(1, 1)), 'constant', constant_values=0)\n",
    "facade_part_4_expanded = tg.to_lattice(facade_part_4_expanded, facade_part_4.minbound - facade_part_4.unit, facade_part_4.unit)   "
   ]
  },
  {
   "cell_type": "code",
   "execution_count": null,
   "metadata": {},
   "outputs": [],
   "source": [
    "facade_4_cube  = facade_part_4_expanded.boolean_marching_cubes()"
   ]
  },
  {
   "cell_type": "markdown",
   "metadata": {},
   "source": [
    "### 3.3. tile the cube lattice with a tileset"
   ]
  },
  {
   "cell_type": "code",
   "execution_count": null,
   "metadata": {},
   "outputs": [],
   "source": [
    "#loading the tilepaths\n",
    "groundfloor_tiles_path = os.path.relpath('../data/bmc/bmc_tiles_groundfloor')\n",
    "roof_tiles_path = os.path.relpath('../data/bmc/bmc_tiles_roof')\n",
    "doublewindow_tiles_path = os.path.relpath('../data/bmc/bmc_tiles_doublewindow')\n",
    "balconybottom_tiles_path = os.path.relpath('../data/bmc/bmc_tiles_balconybottom')\n",
    "balconytop_tiles_path = os.path.relpath('../data/bmc/bmc_tiles_balconytop')\n",
    "flat_tiles_path = os.path.relpath('../data/bmc/bmc_flat_tiles')\n",
    "regular_facade_path = os.path.relpath('../data/bmc/bmc_tiles_regular_facade')\n"
   ]
  },
  {
   "cell_type": "code",
   "execution_count": null,
   "metadata": {
    "scrolled": true
   },
   "outputs": [],
   "source": [
    "#doing the boolean marching cube algorithm per building part with its desired tilepath\n",
    "#these are split, to save RAM. \n",
    "bmc_mesh_1 = bmc.marching_cube_mesh(ground_floor_cube_lattice, groundfloor_tiles_path)\n",
    "bmc_mesh_2 = bmc.marching_cube_mesh(cube_roof_lattice, roof_tiles_path)\n",
    "bmc_mesh_3 = bmc.marching_cube_mesh(facade_1_cube, doublewindow_tiles_path)\n",
    "bmc_mesh_4 = bmc.marching_cube_mesh(facade_2_cube, balconybottom_tiles_path)\n",
    "bmc_mesh_5 = bmc.marching_cube_mesh(facade_3_cube, balconytop_tiles_path)\n",
    "bmc_mesh_6 = bmc.marching_cube_mesh(facade_4_cube, flat_tiles_path)\n",
    "bmc_mesh_7 = bmc.marching_cube_mesh(regular_facade_cube, regular_facade_path)\n",
    "\n",
    "#adding the boolean marching cubes together\n",
    "bmc_mesh = bmc_mesh_1 + bmc_mesh_2 + bmc_mesh_3 + bmc_mesh_4  + bmc_mesh_5 + bmc_mesh_6 + bmc_mesh_7\n"
   ]
  },
  {
   "cell_type": "markdown",
   "metadata": {},
   "source": [
    "### 3.4. Visualize the final mesh"
   ]
  },
  {
   "cell_type": "code",
   "execution_count": null,
   "metadata": {},
   "outputs": [],
   "source": [
    "# convert mesh to pv_mesh\n",
    "def tri_to_pv(tri_mesh):\n",
    "    faces = np.pad(tri_mesh.faces, ((0, 0),(1,0)), 'constant', constant_values=3)\n",
    "    pv_mesh = pv.PolyData(tri_mesh.vertices, faces)\n",
    "    return pv_mesh\n",
    "\n",
    "# initiating the plotter\n",
    "p = pv.Plotter(notebook=True)\n",
    "\n",
    "# adding the meshes\n",
    "p.add_mesh(tri_to_pv(bmc_mesh), color='white', opacity=1 , name=\"sphere\")\n",
    "\n",
    "# adding axes\n",
    "p.add_axes()\n",
    "p.show_bounds(grid=\"back\", location=\"back\", color=\"#aaaaaa\")\n",
    "\n",
    "# fast visualization of the lattice\n",
    "p = envelope_lattice_0.fast_vis(p)\n",
    "\n",
    "# plotting\n",
    "p.show(use_ipyvtk=True)\n",
    "\n",
    "# png_path = os.path.relpath('../screen/finalmodel.png')\n",
    "# p.show(screenshot = png_path)"
   ]
  },
  {
   "cell_type": "markdown",
   "metadata": {},
   "source": [
    "### 3.5. Save the final mesh"
   ]
  },
  {
   "cell_type": "code",
   "execution_count": null,
   "metadata": {},
   "outputs": [],
   "source": [
    "#Saving the generated geometry as a mesh. \n",
    "final_mesh_path = os.path.relpath('../data/final_mesh.obj')\n",
    "\n",
    "with open(final_mesh_path, 'w') as file:\n",
    "        file.write(tm.exchange.obj.export_obj(bmc_mesh))"
   ]
  },
  {
   "cell_type": "markdown",
   "metadata": {},
   "source": [
    "### Credits"
   ]
  },
  {
   "cell_type": "code",
   "execution_count": null,
   "metadata": {},
   "outputs": [],
   "source": [
    "__author__ = \"Shervin Azadi\"\n",
    "__editro__ = 'Siebren Meines'\n",
    "__license__ = \"MIT\"\n",
    "__version__ = \"1.0\"\n",
    "__url__ = \"https://github.com/shervinazadi/spatial_computing_workshops\"\n",
    "__summary__ = \"Spatial Computing Design Studio Workshop on Polygonization\""
   ]
  }
 ],
 "metadata": {
  "kernelspec": {
   "display_name": "Python 3",
   "language": "python",
   "name": "python3"
  },
  "language_info": {
   "codemirror_mode": {
    "name": "ipython",
    "version": 3
   },
   "file_extension": ".py",
   "mimetype": "text/x-python",
   "name": "python",
   "nbconvert_exporter": "python",
   "pygments_lexer": "ipython3",
   "version": "3.8.4"
  }
 },
 "nbformat": 4,
 "nbformat_minor": 2
}