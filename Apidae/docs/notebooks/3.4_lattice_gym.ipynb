{
 "cells": [
  {
   "cell_type": "markdown",
   "metadata": {},
   "source": [
    "# Distance Lattice Gym\n",
    "\n",
    "In this document, The distance lattice is being generated for all possible gym entrances: the voxels on ground level on the south side of the building. "
   ]
  },
  {
   "cell_type": "markdown",
   "metadata": {},
   "source": [
    "## 0. Initialization\n",
    "\n",
    "### 0.1. Load required libraries"
   ]
  },
  {
   "cell_type": "code",
   "execution_count": null,
   "metadata": {},
   "outputs": [],
   "source": [
    "import os\n",
    "import topogenesis as tg\n",
    "import pyvista as pv\n",
    "import trimesh as tm\n",
    "import numpy as np\n",
    "import networkx as nx\n",
    "np.random.seed(0)\n",
    "from scipy.interpolate import RegularGridInterpolator"
   ]
  },
  {
   "cell_type": "markdown",
   "metadata": {},
   "source": [
    "### 0.2. Define the Neighborhood (Stencil)"
   ]
  },
  {
   "cell_type": "code",
   "execution_count": null,
   "metadata": {},
   "outputs": [],
   "source": [
    "# creating neighborhood definition\n",
    "stencil = tg.create_stencil(\"von_neumann\", 1, 1)\n",
    "# setting the center to zero\n",
    "stencil.set_index([0,0,0], 0)\n",
    "print(stencil)"
   ]
  },
  {
   "cell_type": "markdown",
   "metadata": {},
   "source": [
    "### 0.3. Load the envelope lattice as the avialbility lattice"
   ]
  },
  {
   "cell_type": "code",
   "execution_count": null,
   "metadata": {},
   "outputs": [],
   "source": [
    "# loading the lattice from csv\n",
    "lattice_path = os.path.relpath('../data/voxelized_envelope_lowres.csv')\n",
    "avail_lattice = tg.lattice_from_csv(lattice_path)\n",
    "init_avail_lattice = tg.to_lattice(np.copy(avail_lattice), avail_lattice)\n",
    "\n",
    "# loading the lattice from csv\n",
    "lattice_path = os.path.relpath('../data/voxelized_envelope_highres.csv')\n",
    "avail_lattice_highres = tg.lattice_from_csv(lattice_path)"
   ]
  },
  {
   "cell_type": "code",
   "execution_count": null,
   "metadata": {},
   "outputs": [],
   "source": [
    "p = pv.Plotter(notebook=True)\n",
    "\n",
    "# adding the avilability lattice\n",
    "init_avail_lattice.fast_vis(p)\n",
    "\n",
    "p.show(use_ipyvtk=True)"
   ]
  },
  {
   "cell_type": "markdown",
   "metadata": {},
   "source": [
    "## 1. Distance Field Construction\n",
    "\n",
    "### 1.1. Extract the connectivity graph from the lattice based on the defined stencil"
   ]
  },
  {
   "cell_type": "code",
   "execution_count": null,
   "metadata": {},
   "outputs": [],
   "source": [
    "# find the number of all voxels\n",
    "vox_count = avail_lattice.size \n",
    "\n",
    "# initialize the adjacency matrix\n",
    "adj_mtrx = np.zeros((vox_count,vox_count))\n",
    "\n",
    "# Finding the index of the available voxels in avail_lattice\n",
    "full_lattice = avail_lattice * 0 + 1\n",
    "avail_index = np.array(np.where(full_lattice == 1)).T\n",
    "\n",
    "\n",
    "# fill the adjacency matrix using the list of all neighbours\n",
    "for vox_loc in avail_index:\n",
    "    # find the 1D id\n",
    "    vox_id = np.ravel_multi_index(vox_loc, avail_lattice.shape)\n",
    "    # retrieve the list of neighbours of the voxel based on the stencil\n",
    "    vox_neighs = avail_lattice.find_neighbours_masked(stencil, loc = vox_loc)\n",
    "    # iterating over the neighbours\n",
    "    for neigh in vox_neighs:\n",
    "        # setting the entry to one\n",
    "        adj_mtrx[vox_id, neigh] = 1.0\n",
    "\n",
    "# construct the graph \n",
    "g = nx.from_numpy_array(adj_mtrx)"
   ]
  },
  {
   "cell_type": "markdown",
   "metadata": {},
   "source": [
    "### 1.2. Compute distances on the graph"
   ]
  },
  {
   "cell_type": "code",
   "execution_count": null,
   "metadata": {},
   "outputs": [],
   "source": [
    "# compute the distance of all voxels to all voxels using floyd warshal algorithm\n",
    "dist_mtrx = nx.floyd_warshall_numpy(g)"
   ]
  },
  {
   "cell_type": "markdown",
   "metadata": {},
   "source": [
    "### 1.3. Select the entrance voxel options for public space"
   ]
  },
  {
   "cell_type": "code",
   "execution_count": null,
   "metadata": {},
   "outputs": [],
   "source": [
    "p = pv.Plotter(notebook=True)\n",
    "\n",
    "# initialize the selection lattice\n",
    "base_lattice = avail_lattice * 0 - 1\n",
    "\n",
    "# init base flat\n",
    "base_flat = base_lattice.flatten().astype(int)\n",
    "\n",
    "# Set the grid dimensions: shape + 1 because we want to inject our values on the CELL data\n",
    "grid = pv.UniformGrid()\n",
    "grid.dimensions = np.array(base_lattice.shape) + 1\n",
    "# The bottom left corner of the data set\n",
    "grid.origin = base_lattice.minbound - base_lattice.unit * 0.5\n",
    "# These are the cell sizes along each axis\n",
    "grid.spacing = base_lattice.unit \n",
    "\n",
    "# adding the boundingbox wireframe\n",
    "p.add_mesh(grid.outline(), color=\"grey\", label=\"Domain\")\n",
    "\n",
    "# adding the avilability lattice\n",
    "init_avail_lattice.fast_vis(p)\n",
    "\n",
    "# adding axes\n",
    "p.add_axes()\n",
    "p.show_bounds(grid=\"back\", location=\"back\", color=\"#aaaaaa\")\n",
    "\n",
    "def create_mesh(value):\n",
    "    i = int(value)\n",
    "    # init base flat\n",
    "    base_copy = np.copy(base_lattice)\n",
    "    base_copy = base_copy * 0 -1\n",
    "    base_copy[-i, :, i] = 0 \n",
    "    base_new = base_copy\n",
    "\n",
    "    grid.cell_arrays[\"Selection\"] = base_copy.flatten(order=\"F\").astype(int) # Flatten the array!\n",
    "    # filtering the voxels\n",
    "    threshed = grid.threshold([-0.1, 0.9])\n",
    "    # adding the voxels\n",
    "    p.add_mesh(threshed, name='sphere', show_edges=True, opacity=1.0, show_scalar_bar=False)\n",
    "\n",
    "    return\n",
    "\n",
    "p.add_slider_widget(create_mesh, [0, base_lattice.shape[1]], title='1D Index', value=0, event_type=\"always\", style=\"classic\", pointa=(0.1, 0.1), pointb=(0.9, 0.1))\n",
    "p.show(use_ipyvtk=True)\n",
    "\n",
    "# question: why do the selected voxels only change in diagonal direction? \n",
    "# question: why is it that it takes voxels outside the available lattice?"
   ]
  },
  {
   "cell_type": "markdown",
   "metadata": {},
   "source": [
    "### 1.4. Construct Distance to Entrance Lattice "
   ]
  },
  {
   "cell_type": "code",
   "execution_count": null,
   "metadata": {},
   "outputs": [],
   "source": [
    "# create an empty lattice\n",
    "base_lattice = avail_lattice * 0 \n",
    "# select all entrance options;\n",
    "base_lattice[-1,:,0] = 1 \n",
    "base_flat = base_lattice.flatten()\n",
    "# make a list out of selected entrance options\n",
    "vox_interest = np.where(base_flat == 1 )"
   ]
  },
  {
   "cell_type": "code",
   "execution_count": null,
   "metadata": {},
   "outputs": [],
   "source": [
    "ent_dist = dist_mtrx[vox_interest]\n",
    "\n",
    "#find the maximum valid value\n",
    "max_valid = np.ma.masked_invalid(ent_dist).max()\n",
    "\n",
    "# set the infinities to one more than the maximum valid values\n",
    "ent_dist[ent_dist == np.inf] = max_valid + 1\n",
    "\n",
    "min_dist = np.min(ent_dist, axis=0)\n",
    "\n",
    "# mapping the values from (0, max) to (1, 0)\n",
    "min_dist = 1 - min_dist / np.max(min_dist)\n",
    "\n",
    "# constructing the lattice\n",
    "ent_acc_lattice = tg.to_lattice(min_dist.reshape(avail_lattice.shape), avail_lattice)"
   ]
  },
  {
   "cell_type": "markdown",
   "metadata": {},
   "source": [
    "### 1.5. Interpolation"
   ]
  },
  {
   "cell_type": "code",
   "execution_count": null,
   "metadata": {},
   "outputs": [],
   "source": [
    "def interpolate(info_lowres, base_highres):\n",
    "    # line spaces\n",
    "    x_space = np.linspace(info_lowres.minbound[0], info_lowres.maxbound[0],info_lowres.shape[0])\n",
    "    y_space = np.linspace(info_lowres.minbound[1], info_lowres.maxbound[1],info_lowres.shape[1])\n",
    "    z_space = np.linspace(info_lowres.minbound[2], info_lowres.maxbound[2],info_lowres.shape[2])\n",
    "\n",
    "    # interpolation function\n",
    "    interpolating_function = RegularGridInterpolator((x_space, y_space, z_space), info_lowres, bounds_error=False, fill_value=None)\n",
    "\n",
    "    # high_res lattice\n",
    "    full_lattice = base_highres + 1\n",
    "\n",
    "    # sample points\n",
    "    sample_points = full_lattice.centroids\n",
    "\n",
    "    # interpolation\n",
    "    interpolated_values = interpolating_function(sample_points)\n",
    "\n",
    "    # lattice construction\n",
    "    info_highres = tg.to_lattice(interpolated_values.reshape(base_highres.shape), base_highres)\n",
    "\n",
    "    # nulling the unavailable cells\n",
    "    info_highres *= base_highres\n",
    "\n",
    "    return info_highres"
   ]
  },
  {
   "cell_type": "code",
   "execution_count": null,
   "metadata": {},
   "outputs": [],
   "source": [
    "ent_acc_highres = interpolate(ent_acc_lattice, avail_lattice_highres)"
   ]
  },
  {
   "cell_type": "markdown",
   "metadata": {},
   "source": [
    "### 1.6. Visualize and save the distance lattice"
   ]
  },
  {
   "cell_type": "code",
   "execution_count": null,
   "metadata": {},
   "outputs": [],
   "source": [
    "# convert mesh to pv_mesh\n",
    "def tri_to_pv(tri_mesh):\n",
    "    faces = np.pad(tri_mesh.faces, ((0, 0),(1,0)), 'constant', constant_values=3)\n",
    "    pv_mesh = pv.PolyData(tri_mesh.vertices, faces)\n",
    "    return pv_mesh\n",
    "\n",
    "# load the mesh from file\n",
    "context_path = os.path.relpath('../data/immediate_context.obj')\n",
    "context_mesh = tm.load(context_path)\n",
    "\n",
    "# initiating the plotter\n",
    "p = pv.Plotter(notebook=True)\n",
    "\n",
    "# Create the spatial reference\n",
    "grid = pv.UniformGrid()\n",
    "\n",
    "# Set the grid dimensions: shape because we want to inject our values\n",
    "grid.dimensions = ent_acc_highres.shape\n",
    "# The bottom left corner of the data set\n",
    "grid.origin = ent_acc_highres.minbound\n",
    "# These are the cell sizes along each axis\n",
    "grid.spacing = ent_acc_highres.unit\n",
    "\n",
    "# Add the data values to the cell data\n",
    "grid.point_arrays[\"Entrance Access\"] = ent_acc_highres.flatten(order=\"F\")  # Flatten the Lattice\n",
    "\n",
    "# adding the meshes\n",
    "p.add_mesh(tri_to_pv(context_mesh), opacity=0.1, style='wireframe')\n",
    "    \n",
    "# adding the volume\n",
    "opacity = np.array([0.0,0.6,0.6,0.6,0.6,0.6,0.6]) * 0.6\n",
    "p.add_volume(grid, cmap=\"plasma\", clim=[0.0, 1.0] ,opacity=opacity)\n",
    "\n",
    "# plotting\n",
    "p.show(use_ipyvtk=True)\n",
    "\n",
    "#saving and plotting\n",
    "png_path = os.path.relpath('../screenshots/3.4_lattice_gym.png')\n",
    "p.show(screenshot= png_path)"
   ]
  },
  {
   "cell_type": "markdown",
   "metadata": {},
   "source": [
    "### 1.7. Save Entrance Access Lattice to CSV"
   ]
  },
  {
   "cell_type": "code",
   "execution_count": null,
   "metadata": {},
   "outputs": [],
   "source": [
    "# save the entrance access lattice to csv\n",
    "csv_path = os.path.relpath('../data/ent_access_highres_gym.csv')\n",
    "ent_acc_highres.to_csv(csv_path)"
   ]
  },
  {
   "cell_type": "markdown",
   "metadata": {},
   "source": [
    "### Credits"
   ]
  },
  {
   "cell_type": "code",
   "execution_count": null,
   "metadata": {},
   "outputs": [],
   "source": [
    "__author__ = \"Shervin Azadi and Pirouz Nourian\"\n",
    "__editor__ = \"Maartje Damen\"\n",
    "__license__ = \"MIT\"\n",
    "__version__ = \"1.0\"\n",
    "__url__ = \"https://github.com/shervinazadi/spatial_computing_workshops\"\n",
    "__summary__ = \"Spatial Computing Design Studio Workshop on MCDA and Path Finding for Generative Spatial Relations\""
   ]
  }
 ],
 "metadata": {
  "kernelspec": {
   "display_name": "Python 3",
   "language": "python",
   "name": "python3"
  },
  "language_info": {
   "codemirror_mode": {
    "name": "ipython",
    "version": 3
   },
   "file_extension": ".py",
   "mimetype": "text/x-python",
   "name": "python",
   "nbconvert_exporter": "python",
   "pygments_lexer": "ipython3",
   "version": "3.8.4"
  }
 },
 "nbformat": 4,
 "nbformat_minor": 2
}