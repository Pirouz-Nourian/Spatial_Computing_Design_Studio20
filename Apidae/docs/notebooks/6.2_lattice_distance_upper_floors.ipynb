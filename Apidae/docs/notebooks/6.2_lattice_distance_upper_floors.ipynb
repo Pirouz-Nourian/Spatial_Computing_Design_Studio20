{
 "cells": [
  {
   "cell_type": "markdown",
   "metadata": {},
   "source": [
    "# Distance Lattice upper floors\n",
    "\n",
    "in this notebook, the distance lattice is being generated for all higher levels."
   ]
  },
  {
   "cell_type": "markdown",
   "metadata": {},
   "source": [
    "## 0. Initialization\n",
    "\n",
    "### 0.1. Load required libraries"
   ]
  },
  {
   "cell_type": "code",
   "execution_count": null,
   "metadata": {},
   "outputs": [],
   "source": [
    "import os\n",
    "import topogenesis as tg\n",
    "import pyvista as pv\n",
    "import trimesh as tm\n",
    "import numpy as np\n",
    "import networkx as nx\n",
    "import scipy as sp\n",
    "import pickle\n",
    "np.random.seed(0)\n",
    "from scipy.interpolate import RegularGridInterpolator"
   ]
  },
  {
   "cell_type": "markdown",
   "metadata": {},
   "source": [
    "### 0.2. Define the Neighborhood (Stencil)"
   ]
  },
  {
   "cell_type": "code",
   "execution_count": null,
   "metadata": {},
   "outputs": [],
   "source": [
    "# creating neighborhood definition\n",
    "h_stencil = tg.create_stencil(\"von_neumann\", 1, 1)\n",
    "# setting the center to zero\n",
    "h_stencil.set_index([0,0,0], 0)\n",
    "h_stencil.set_index([0,0,1], 0)\n",
    "h_stencil.set_index([0,0,-1], 0)"
   ]
  },
  {
   "cell_type": "markdown",
   "metadata": {},
   "source": [
    "### 0.3. Load the envelope lattice as the avialbility lattice"
   ]
  },
  {
   "cell_type": "code",
   "execution_count": null,
   "metadata": {},
   "outputs": [],
   "source": [
    "# loading the lattice from csv\n",
    "lattice_path = os.path.relpath('../data/voxelized_envelope_highres.csv')\n",
    "avail_lattice = tg.lattice_from_csv(lattice_path)\n",
    "init_avail_lattice = tg.to_lattice(np.copy(avail_lattice), avail_lattice)\n"
   ]
  },
  {
   "cell_type": "code",
   "execution_count": null,
   "metadata": {},
   "outputs": [],
   "source": [
    "# loading the lattice from csv\n",
    "lattice_pickle_path = os.path.relpath('../data/corridor_lattice_upper_floors.p')\n",
    "corridor_lattice_upper_floors = pickle.load(open(lattice_pickle_path,\"rb\"))\n",
    "corridor_lattice_upper_floors.bounds = avail_lattice.bounds\n",
    "corridor_lattice_upper_floors.unit = avail_lattice.unit"
   ]
  },
  {
   "cell_type": "markdown",
   "metadata": {},
   "source": [
    "## 1. Distance Field Construction\n",
    "### 1.1. Create distance lattice to upper floor corridors"
   ]
  },
  {
   "cell_type": "code",
   "execution_count": null,
   "metadata": {
    "tags": []
   },
   "outputs": [],
   "source": [
    "# initializing the distance lattice\n",
    "distance_lattice = avail_lattice * 0\n",
    "# cutting an slice of the distance lattice\n",
    "distance_floor = distance_lattice[:, :, 1]\n",
    "\n",
    "# cutting an slice of the groundfloor corridors lattice\n",
    "cor_upper_floor = corridor_lattice_upper_floors[:, :, 8]\n",
    "\n",
    "# extracting all it's voxel indices\n",
    "corr_vox_inds = np.argwhere(cor_upper_floor >0)    \n",
    "\n",
    "# extract the indicies of the distance floor\n",
    "dist_indices = np.indices(distance_floor.shape)\n",
    "\n",
    "# init list of slice dists\n",
    "slice_dist_arrays = []\n",
    "\n",
    "# iterate over voxels of the corridor\n",
    "for cor_vox in corr_vox_inds:\n",
    "    # find the relative distance of corridor voxel to all dist floor voxels in X, Y\n",
    "    relative_dist = np.abs(dist_indices - cor_vox[:,np.newaxis,np.newaxis])\n",
    "    # sum X, Y components\n",
    "    slice_dist = relative_dist.sum(axis=0)\n",
    "    # append to list\n",
    "    slice_dist_arrays.append(slice_dist)\n",
    "\n",
    "# find the minimum fo earch dist voxel\n",
    "min_dist_slice = np.min(np.stack(slice_dist_arrays), axis=0)\n",
    "# construc the distance lattice from one slice\n",
    "distance_lattice += min_dist_slice[:, :, np.newaxis]"
   ]
  },
  {
   "cell_type": "markdown",
   "metadata": {},
   "source": [
    "### 1.2. Normalize all values"
   ]
  },
  {
   "cell_type": "code",
   "execution_count": null,
   "metadata": {},
   "outputs": [],
   "source": [
    "#find the maximum valid value\n",
    "max_valid = np.ma.masked_invalid(distance_lattice).max()\n",
    "\n",
    "# set the infinities to one more than the maximum valid values\n",
    "distance_lattice[distance_lattice == np.inf] = max_valid + 1\n",
    "\n",
    "# mapping the values from (0, max) to (1, 0)\n",
    "ent_flat = 1 - distance_lattice / np.max(distance_lattice)"
   ]
  },
  {
   "cell_type": "markdown",
   "metadata": {},
   "source": [
    "### 1.3. copy distance slice to all floors that have these corridors, set all other values to 0"
   ]
  },
  {
   "cell_type": "code",
   "execution_count": null,
   "metadata": {},
   "outputs": [],
   "source": [
    "base_lattice = avail_lattice * 0\n",
    "base_lattice[:,:,6:] = 1\n",
    "base_lattice *= avail_lattice\n",
    "base_flat = base_lattice.flatten()\n",
    "dist_flat = ent_flat.flatten()\n",
    "\n",
    "dist_flat *= base_flat\n",
    "\n",
    "# # constructing the lattice\n",
    "dist_lattice_upper_floors = tg.to_lattice(dist_flat.reshape(avail_lattice.shape), avail_lattice)"
   ]
  },
  {
   "cell_type": "markdown",
   "metadata": {},
   "source": [
    "### 1.4. Visualize the distance lattice"
   ]
  },
  {
   "cell_type": "code",
   "execution_count": null,
   "metadata": {},
   "outputs": [],
   "source": [
    "# convert mesh to pv_mesh\n",
    "def tri_to_pv(tri_mesh):\n",
    "    faces = np.pad(tri_mesh.faces, ((0, 0),(1,0)), 'constant', constant_values=3)\n",
    "    pv_mesh = pv.PolyData(tri_mesh.vertices, faces)\n",
    "    return pv_mesh\n",
    "\n",
    "# load the mesh from file\n",
    "context_path = os.path.relpath('../data/immediate_context.obj')\n",
    "context_mesh = tm.load(context_path)\n",
    "\n",
    "ent_acc_highres = dist_lattice_upper_floors\n",
    "\n",
    "\n",
    "# initiating the plotter\n",
    "p = pv.Plotter(notebook=True)\n",
    "\n",
    "# Create the spatial reference\n",
    "grid = pv.UniformGrid()\n",
    "\n",
    "# Set the grid dimensions: shape because we want to inject our values\n",
    "grid.dimensions = ent_acc_highres.shape\n",
    "# The bottom left corner of the data set\n",
    "grid.origin = ent_acc_highres.minbound\n",
    "# These are the cell sizes along each axis\n",
    "grid.spacing = ent_acc_highres.unit\n",
    "\n",
    "# Add the data values to the cell data\n",
    "grid.point_arrays[\"distance lattice upper floors\"] = ent_acc_highres.flatten(order=\"F\")  # Flatten the Lattice\n",
    "\n",
    "# adding the meshes\n",
    "p.add_mesh(tri_to_pv(context_mesh), opacity=0.1, style='wireframe')\n",
    "    \n",
    "# adding the volume\n",
    "opacity = np.array([0.0,0.6,0.6,0.6,0.6,0.6,0.6]) * 0.6\n",
    "p.add_volume(grid, cmap=\"plasma\", clim=[0.0, 1.0] ,opacity=opacity)\n",
    "\n",
    "# plotting\n",
    "p.show(use_ipyvtk=True)\n",
    "\n",
    "#saving and plotting\n",
    "png_path = os.path.relpath('../screenshots/6.2_lattice_distance_upper_floors.png')\n",
    "p.show(screenshot= png_path)"
   ]
  },
  {
   "cell_type": "markdown",
   "metadata": {},
   "source": [
    "### 1.6. Save Entrance Access Lattice to CSV"
   ]
  },
  {
   "cell_type": "code",
   "execution_count": null,
   "metadata": {},
   "outputs": [],
   "source": [
    "# save the sun access latice to csv\n",
    "csv_path = os.path.relpath('../data/dist_lattice_upper_floors.csv')\n",
    "dist_lattice_upper_floors.to_csv(csv_path)\n"
   ]
  },
  {
   "cell_type": "markdown",
   "metadata": {},
   "source": [
    "### Credits"
   ]
  },
  {
   "cell_type": "code",
   "execution_count": null,
   "metadata": {},
   "outputs": [],
   "source": [
    "__author__ = \"Shervin Azadi and Pirouz Nourian\"\n",
    "__editor__ = \"Maartje Damen\"\n",
    "__license__ = \"MIT\"\n",
    "__version__ = \"1.0\"\n",
    "__url__ = \"https://github.com/shervinazadi/spatial_computing_workshops\"\n",
    "__summary__ = \"Spatial Computing Design Studio Workshop on MCDA and Path Finding for Generative Spatial Relations\""
   ]
  },
  {
   "cell_type": "code",
   "execution_count": null,
   "metadata": {},
   "outputs": [],
   "source": []
  }
 ],
 "metadata": {
  "kernelspec": {
   "display_name": "Python 3",
   "language": "python",
   "name": "python3"
  },
  "language_info": {
   "codemirror_mode": {
    "name": "ipython",
    "version": 3
   },
   "file_extension": ".py",
   "mimetype": "text/x-python",
   "name": "python",
   "nbconvert_exporter": "python",
   "pygments_lexer": "ipython3",
   "version": "3.8.4"
  }
 },
 "nbformat": 4,
 "nbformat_minor": 2
}