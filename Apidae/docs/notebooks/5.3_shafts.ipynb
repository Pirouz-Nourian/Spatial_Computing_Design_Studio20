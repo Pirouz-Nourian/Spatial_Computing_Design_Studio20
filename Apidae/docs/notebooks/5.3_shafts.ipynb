{
 "cells": [
  {
   "cell_type": "markdown",
   "metadata": {},
   "source": [
    "# Shafts\n",
    "\n",
    "In this notebook, the shafts that connect the groundfloors, entrances and all floors above are being generated in a lattice."
   ]
  },
  {
   "cell_type": "markdown",
   "metadata": {},
   "source": [
    "## 0. Initialization\n",
    "\n",
    "### 0.1. Load required libraries"
   ]
  },
  {
   "cell_type": "code",
   "execution_count": null,
   "metadata": {},
   "outputs": [],
   "source": [
    "import os\n",
    "import topogenesis as tg\n",
    "import pyvista as pv\n",
    "import trimesh as tm\n",
    "import numpy as np\n",
    "import networkx as nx\n",
    "import pandas as pd\n",
    "from sklearn.cluster import KMeans\n",
    "np.random.seed(0)\n",
    "import copy"
   ]
  },
  {
   "cell_type": "code",
   "execution_count": null,
   "metadata": {},
   "outputs": [],
   "source": [
    "# extra import function\n",
    "def lattice_from_csv(file_path):\n",
    "    # read metadata\n",
    "    meta_df = pd.read_csv(file_path, nrows=3)\n",
    "\n",
    "    shape = np.array(meta_df['shape'])\n",
    "    unit = np.array(meta_df['unit'])\n",
    "    minbound = np.array(meta_df['minbound'])\n",
    "\n",
    "    # read lattice\n",
    "    lattice_df = pd.read_csv(file_path, skiprows=5)\n",
    "\n",
    "    # create the buffer\n",
    "    buffer = np.array(lattice_df['value']).reshape(shape)\n",
    "\n",
    "    # create the lattice\n",
    "    l = tg.to_lattice(buffer, minbound=minbound, unit=unit)\n",
    "\n",
    "    return l"
   ]
  },
  {
   "cell_type": "code",
   "execution_count": null,
   "metadata": {},
   "outputs": [],
   "source": [
    "shaft_stencil = tg.create_stencil(\"von_neumann\", 1, 2)\n",
    "shaft_stencil.set_index([0, 0, 0], 0)\n",
    "shaft_stencil.set_index([1, 0, 0], 0)\n",
    "shaft_stencil.set_index([-1, 0, 0], 0)\n",
    "\n",
    "shaft_stencil.set_index([0, 1, 1], 1)\n",
    "shaft_stencil.set_index([0, 2, 1], 1)\n",
    "shaft_stencil.set_index([0, 2, 2], 1)\n",
    "shaft_stencil.set_index([0, 1, 2], 1)\n",
    "shaft_stencil.set_index([0, 2, 0], 1)\n",
    "shaft_stencil.set_index([0, 0, 2], 1)\n",
    "shaft_stencil.set_index([0, 1, 1], 1)\n",
    "shaft_stencil.set_index([0, -1, 1], 1)\n",
    "shaft_stencil.set_index([0, -1, 2], 1)\n",
    "shaft_stencil.set_index([0, -1, -1], 1)\n",
    "shaft_stencil.set_index([0, 1, -1], 1)\n",
    "shaft_stencil.set_index([0, 2, -1], 1)"
   ]
  },
  {
   "cell_type": "markdown",
   "metadata": {},
   "source": [
    "### 0.3. Load the envelope lattice as the avialibility lattice"
   ]
  },
  {
   "cell_type": "code",
   "execution_count": null,
   "metadata": {},
   "outputs": [],
   "source": [
    "# loading the lattice from csv\n",
    "lattice_path = os.path.relpath('../data/highres_envelope.csv')\n",
    "avail_lattice = lattice_from_csv(lattice_path)\n",
    "init_avail_lattice = tg.to_lattice(np.copy(avail_lattice), avail_lattice)"
   ]
  },
  {
   "cell_type": "markdown",
   "metadata": {},
   "source": [
    "### 0.4. Load Agents Information"
   ]
  },
  {
   "cell_type": "code",
   "execution_count": null,
   "metadata": {
    "scrolled": false
   },
   "outputs": [],
   "source": [
    "# loading program (agents information) from CSV\n",
    "prgm_path = os.path.relpath('../data/program_exported.csv')\n",
    "agn_info = pd.read_csv('../data/program_exported.csv',delimiter=\";\")\n",
    "agn_ids = agn_info[\"space_id\"].values\n",
    "agn_prefs = agn_info\n",
    "a_pref = agn_prefs.loc[0]\n",
    "agn_num = len(agn_info)"
   ]
  },
  {
   "cell_type": "markdown",
   "metadata": {},
   "source": [
    "### 1.1 determine all shaft locations at the location of the entrance voxel"
   ]
  },
  {
   "cell_type": "code",
   "execution_count": null,
   "metadata": {},
   "outputs": [],
   "source": [
    "start_shaft_lattice = avail_lattice * 0 - 1\n",
    "\n",
    "start_shaft_lattice[(83, 7, 1)] = 3\n",
    "start_shaft_lattice[(40, 20, 1)] = 3\n",
    "start_shaft_lattice[(70, 1, 1)] = 3\n",
    "\n",
    "start_shaft_lattice[(83, 20, 1)] = 3"
   ]
  },
  {
   "cell_type": "code",
   "execution_count": null,
   "metadata": {},
   "outputs": [],
   "source": [
    "occupation_latice = (start_shaft_lattice > -1).astype(int)\n",
    "# compute the sum over the columns\n",
    "column_sum = np.sum(occupation_latice, axis = 2)\n",
    "max_value = np.max(column_sum)\n",
    "filled_col_list = []\n",
    "\n",
    "for i in range(1, max_value + 1): \n",
    "    # find adresses of columns\n",
    "    column_adress = np.where(column_sum == i )\n",
    "    filled_collumns = np.array(column_adress).T\n",
    "    filled_col_list.append(filled_collumns)\n",
    "    \n",
    "fill_col_stacked = np.vstack(filled_col_list) \n",
    "clusters = len(fill_col_stacked)"
   ]
  },
  {
   "cell_type": "code",
   "execution_count": null,
   "metadata": {},
   "outputs": [],
   "source": [
    "kmeans = KMeans(n_clusters=clusters, random_state=0).fit(fill_col_stacked)"
   ]
  },
  {
   "cell_type": "code",
   "execution_count": null,
   "metadata": {},
   "outputs": [],
   "source": [
    "col_labels = kmeans.labels_\n",
    "cluster_centers = kmeans.cluster_centers_"
   ]
  },
  {
   "cell_type": "code",
   "execution_count": null,
   "metadata": {},
   "outputs": [],
   "source": [
    "# creating an empty occ lattice\n",
    "cluster_lattice = avail_lattice * 0 - 1\n",
    "# iterating over each filled column\n",
    "for col, lab in zip(fill_col_stacked, col_labels):\n",
    "    cluster_lattice[col[0], col[1], :] = lab"
   ]
  },
  {
   "cell_type": "markdown",
   "metadata": {},
   "source": [
    "### 1.2. generate height of each shaft"
   ]
  },
  {
   "cell_type": "code",
   "execution_count": null,
   "metadata": {},
   "outputs": [],
   "source": [
    "rounded_cluster_centres = np.rint(cluster_centers).astype(int)\n",
    "\n",
    "shaft_placement_lattice = avail_lattice * 0 \n",
    "# iterating over each shaft\n",
    "for i, cen in enumerate(rounded_cluster_centres): \n",
    "        shaft_placement_lattice[cen[0], cen[1], :] = 1"
   ]
  },
  {
   "cell_type": "code",
   "execution_count": null,
   "metadata": {},
   "outputs": [],
   "source": [
    "trimmed_shaft_lattice = shaft_placement_lattice * init_avail_lattice"
   ]
  },
  {
   "cell_type": "code",
   "execution_count": null,
   "metadata": {
    "scrolled": false
   },
   "outputs": [],
   "source": [
    "p = pv.Plotter(notebook=True)\n",
    "\n",
    "base_lattice = trimmed_shaft_lattice\n",
    "\n",
    "# Set the grid dimensions: shape + 1 because we want to inject our values on the CELL data\n",
    "grid = pv.UniformGrid()\n",
    "grid.dimensions = np.array(base_lattice.shape) + 1\n",
    "# The bottom left corner of the data set\n",
    "grid.origin = base_lattice.minbound - base_lattice.unit * 0.5\n",
    "# These are the cell sizes along each axis\n",
    "grid.spacing = base_lattice.unit \n",
    "\n",
    "# adding the boundingbox wireframe\n",
    "p.add_mesh(grid.outline(), color=\"grey\", label=\"Domain\")\n",
    "\n",
    "# adding the avilability lattice\n",
    "# init_avail_lattice.fast_vis(p)\n",
    "\n",
    "# adding axes\n",
    "p.add_axes()\n",
    "p.show_bounds(grid=\"back\", location=\"back\", color=\"#aaaaaa\")\n",
    "\n",
    "\n",
    "\n",
    "\n",
    "# Add the data values to the cell data\n",
    "grid.cell_arrays[\"Agents\"] = base_lattice.flatten(order=\"F\").astype(int)  # Flatten the array!\n",
    "# filtering the voxels\n",
    "threshed = grid.threshold([0.9, agn_num - 0.9])\n",
    "# adding the voxels\n",
    "p.add_mesh(threshed, name='sphere', show_edges=True, opacity=1.0, show_scalar_bar=False)\n",
    "\n",
    "\n",
    "# p.add_slider_widget(create_mesh, [0, n_frames], title='Time', value=0, event_type=\"always\", style=\"classic\", pointa=(0.1, 0.1), pointb=(0.9, 0.1))\n",
    "p.show(use_ipyvtk=True)\n",
    "\n",
    "#saving and plotting\n",
    "png_path = os.path.relpath('../screenshots/6.3_shafts.png')\n",
    "p.show(screenshot= png_path)"
   ]
  },
  {
   "cell_type": "markdown",
   "metadata": {},
   "source": [
    "### 2.3. Saving lattice frames in CSV"
   ]
  },
  {
   "cell_type": "code",
   "execution_count": null,
   "metadata": {},
   "outputs": [],
   "source": [
    "# save the ground floor latice to csv \n",
    "csv_path = os.path.relpath('../data/shaft_lattice.csv')\n",
    "trimmed_shaft_lattice.to_csv(csv_path)\n",
    "\n",
    "import pickle\n",
    "lattice_pickle_path = os.path.relpath('../data/shaft_lattice.p')\n",
    "pickle.dump(trimmed_shaft_lattice, open(lattice_pickle_path,\"wb\"))"
   ]
  },
  {
   "cell_type": "markdown",
   "metadata": {},
   "source": [
    "### Credits"
   ]
  },
  {
   "cell_type": "code",
   "execution_count": null,
   "metadata": {},
   "outputs": [],
   "source": [
    "__author__ = \"Shervin Azadi and Pirouz Nourian\"\n",
    "_Chief_editor_ =  \"Maartje Damen\"\n",
    "_Co_editor_ = \"Eda Akaltun\"\n",
    "_Co_editor_ = \"Siebren Meines\"\n",
    "_editor_mentor_ = \"Shervin Azadi\"\n",
    "__license__ = \"MIT\"\n",
    "__version__ = \"1.0\"\n",
    "__url__ = \"https://github.com/shervinazadi/spatial_computing_workshops\"\n",
    "__summary__ = \"Spatial Computing Design Studio Workshop on MCDA and Path Finding for Generative Spatial Relations\""
   ]
  }
 ],
 "metadata": {
  "kernelspec": {
   "display_name": "Python 3",
   "language": "python",
   "name": "python3"
  },
  "language_info": {
   "codemirror_mode": {
    "name": "ipython",
    "version": 3
   },
   "file_extension": ".py",
   "mimetype": "text/x-python",
   "name": "python",
   "nbconvert_exporter": "python",
   "pygments_lexer": "ipython3",
   "version": "3.8.4"
  }
 },
 "nbformat": 4,
 "nbformat_minor": 2
}