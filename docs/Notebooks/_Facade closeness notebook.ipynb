{
 "cells": [
  {
   "cell_type": "markdown",
   "metadata": {},
   "source": [
    "# Facade closeness notebook\n",
    "\n",
    "### In this notebook a csv file is created that maps closeness to the facade voxels to the rest of the voxels"
   ]
  },
  {
   "cell_type": "code",
   "execution_count": null,
   "metadata": {},
   "outputs": [],
   "source": [
    "import os\n",
    "import topogenesis as tg\n",
    "import pyvista as pv\n",
    "import trimesh as tm\n",
    "import numpy as np\n",
    "import networkx as nx\n",
    "from scipy.sparse import csr_matrix"
   ]
  },
  {
   "cell_type": "markdown",
   "metadata": {},
   "source": [
    "### 1.1. Specify the facade"
   ]
  },
  {
   "cell_type": "code",
   "execution_count": null,
   "metadata": {},
   "outputs": [],
   "source": [
    "# creating neighborhood definition\n",
    "s_sum = tg.create_stencil(\"von_neumann\", 1, 1)\n",
    "s_sum2 = tg.create_stencil(\"von_neumann\", 1, 1)\n",
    "\n",
    "# NW\n",
    "# s_sum.set_index([0,0,0], 0)\n",
    "# s_sum.set_index([0,0,1], 0)\n",
    "# s_sum.set_index([0,-1,0], 0)\n",
    "# s_sum.set_index([0,1,0], 0)\n",
    "# s_sum.set_index([1,0,0], 0)\n",
    "\n",
    "# s_sum2.set_index([0,0,0], 0)\n",
    "# s_sum2.set_index([0,0,1], 0)\n",
    "# s_sum2.set_index([0,1,0], 0)\n",
    "# s_sum2.set_index([1,0,0], 0)\n",
    "\n",
    "# SW\n",
    "# s_sum.set_index([0,0,0], 0)\n",
    "# s_sum.set_index([0,0,1], 0)\n",
    "# s_sum.set_index([0,1,0], 0)\n",
    "# s_sum.set_index([1,0,0], 0)\n",
    "# s_sum.set_index([-1,0,0], 0)\n",
    "\n",
    "# #SE\n",
    "s_sum.set_index([0,0,0], 0)\n",
    "s_sum.set_index([0,0,1], 0)\n",
    "s_sum.set_index([0,-1,0], 0)\n",
    "s_sum.set_index([0,1,0], 0)\n",
    "s_sum.set_index([-1,0,0], 0)\n",
    "\n",
    "# NE\n",
    "# s_sum.set_index([0,0,0], 0)\n",
    "# s_sum.set_index([0,0,1], 0)\n",
    "# s_sum.set_index([0,-1,0], 0)\n",
    "# s_sum.set_index([1,0,0], 0)\n",
    "# s_sum.set_index([-1,0,0], 0)\n",
    "\n",
    "# s_sum2.set_index([0,0,0], 0)\n",
    "# s_sum2.set_index([0,0,1], 0)\n",
    "# s_sum2.set_index([0,-1,0], 0)\n",
    "# s_sum2.set_index([1,0,0], 0)\n",
    "\n",
    "# Full facade\n",
    "# s_sum.set_index([0,0,0], 0)\n",
    "# s_sum.set_index([0,0,1], 0)\n",
    "# s_sum.set_index([0,0,-1], 0)\n",
    "\n",
    "\n",
    "s_sum.function = tg.sfunc.sum\n",
    "s_sum2.function = tg.sfunc.sum\n",
    "\n",
    "\n",
    "s_plus = tg.create_stencil(\"von_neumann\", 1, 1)\n",
    "s_plus.set_index([0,0,0], 0)\n",
    "s_plus.set_index([0,0,1], 0)\n",
    "s_plus.set_index([0,0,-1], 0)\n",
    "# s_plus.set_index([0,1,0], 0)\n",
    "# s_plus.set_index([0,-1,0], 0)\n",
    "# s_plus.set_index([1,0,0], 0)\n",
    "\n",
    "print(s_plus)"
   ]
  },
  {
   "cell_type": "markdown",
   "metadata": {},
   "source": [
    "### 1.2. Loading environmental data"
   ]
  },
  {
   "cell_type": "code",
   "execution_count": null,
   "metadata": {},
   "outputs": [],
   "source": [
    "# loading the lattice from csv\n",
    "lattice_path = os.path.relpath('../data/solar_envelope_324.csv')\n",
    "solar_envelope = tg.lattice_from_csv(lattice_path)\n",
    "avail_lattice = tg.lattice_from_csv(lattice_path)\n",
    "\n",
    "#Load context mesh from csv\n",
    "context_path = os.path.relpath(\"../data/immediate_context.obj\")\n",
    "context_mesh = tm.load(context_path)\n",
    "\n",
    "# construct full latice\n",
    "full_lattice = solar_envelope * 0 + 1 "
   ]
  },
  {
   "cell_type": "markdown",
   "metadata": {},
   "source": [
    "### 2.1. Finding the facade voxels based on the stencils"
   ]
  },
  {
   "cell_type": "code",
   "execution_count": null,
   "metadata": {},
   "outputs": [],
   "source": [
    "neighbour_sum = solar_envelope.apply_stencil(s_sum, border_condition='pad_outside', padding_value=0)\n",
    "exterior_condition = neighbour_sum < 1 #1 for specific facade, 4 for full facade\n",
    "\n",
    "# for specific facades a second sum function is added to remove unwanted voxels that would otherwise count as 'facades'\n",
    "neighbour_sum2 = solar_envelope.apply_stencil(s_sum2, border_condition='pad_outside', padding_value=0)\n",
    "exterior_condition2 = neighbour_sum2 < 1 \n",
    "\n",
    "# flattening the lattices\n",
    "exterior_condition_flat = exterior_condition.flatten()\n",
    "exterior_condition2_flat = exterior_condition2.flatten()\n",
    "\n",
    "# removing weird corner and edge voxels that would otherwise count as a facade voxel\n",
    "exterior_condition2_id = np.array(np.where(exterior_condition2_flat == 1)).T\n",
    "exterior_condition_flat[exterior_condition2_id] = 0\n",
    "\n",
    "#reshaping the list\n",
    "exterior_condition = exterior_condition_flat.reshape(exterior_condition.shape)\n",
    "\n",
    "#finding the indices\n",
    "avail_index = np.array(np.where(avail_lattice == 1)).T\n",
    "\n",
    "# creating the border lattice\n",
    "border_lattice = exterior_condition\n",
    "border_lattice = solar_envelope * exterior_condition\n",
    "\n",
    "# setting everything above ground level to 0 (for the all facades function)\n",
    "border_lattice[:,:,2:] = 0"
   ]
  },
  {
   "cell_type": "markdown",
   "metadata": {},
   "source": [
    "### 2.2. Visualizing the border voxels"
   ]
  },
  {
   "cell_type": "code",
   "execution_count": null,
   "metadata": {
    "scrolled": false
   },
   "outputs": [],
   "source": [
    "pv.set_plot_theme(\"document\")\n",
    "\n",
    "# convert mesh to pv_mesh\n",
    "def tri_to_pv(tri_mesh):\n",
    "    faces = np.pad(tri_mesh.faces, ((0, 0),(1,0)), 'constant', constant_values=3)\n",
    "    pv_mesh = pv.PolyData(tri_mesh.vertices, faces)\n",
    "    return pv_mesh\n",
    "\n",
    "# Visualize the mesh using pyvista plotter\n",
    "\n",
    "# initiating the plotter\n",
    "p = pv.Plotter(notebook=True)\n",
    "\n",
    "# fast visualization of the lattice\n",
    "border_lattice.fast_vis(p)\n",
    "\n",
    "# adding the meshes\n",
    "p.add_mesh(tri_to_pv(context_mesh), opacity=0.1, style='wireframe')\n",
    "\n",
    "# plotting\n",
    "cpos = [(785.8704805788776, 708.4540755788776, 741.8613927288776),\n",
    " (65.08283250000001, -12.333572500000002, 21.07374465),\n",
    " (0.0, 0.0, 1.0)]\n",
    "p.camera_position = cpos\n",
    "p.window_size = 2000, 2000\n",
    "p.show(use_ipyvtk=True)\n",
    "# p.screenshot(\"facade_1\")\n",
    "print(p.camera_position)"
   ]
  },
  {
   "cell_type": "markdown",
   "metadata": {},
   "source": [
    "### 3.1. Adjacency network creation and calculation"
   ]
  },
  {
   "cell_type": "code",
   "execution_count": null,
   "metadata": {
    "scrolled": true
   },
   "outputs": [],
   "source": [
    "# creating an adjacency list for the creation of a sparce adjacency matrix\n",
    "\n",
    "avail_lattice_flat = avail_lattice.flatten()\n",
    "\n",
    "# find the number of all voxels\n",
    "vox_count = full_lattice.size \n",
    "print(vox_count)\n",
    "\n",
    "# initialize the adjacency list\n",
    "adj_list = []\n",
    "\n",
    "# Finding the index of the available voxels in avail_lattice\n",
    "avail_index = np.array(np.where(avail_lattice == 1)).T\n",
    "\n",
    "# fill the adjacency matrix using the list of all neighbours\n",
    "for vox_loc in avail_index:\n",
    "    # find the 1D id\n",
    "    vox_id = np.ravel_multi_index(vox_loc, avail_lattice.shape)\n",
    "    # retrieve the list of neighbours of the voxel based on the stencil\n",
    "    vox_neighs = avail_lattice.find_neighbours_masked(s_plus, loc = vox_loc)\n",
    "\n",
    "   # iterating over the neighbours\n",
    "    for neigh in vox_neighs:\n",
    "        if avail_lattice_flat[neigh] == 1:\n",
    "            adj_list.append([1.0, vox_id, neigh])"
   ]
  },
  {
   "cell_type": "code",
   "execution_count": null,
   "metadata": {},
   "outputs": [],
   "source": [
    "#shaping the list into an array\n",
    "adj_array = np.array(adj_list).T\n",
    "\n",
    "#creating a sparce row matrix from the array\n",
    "adj_matrix_sparse =  csr_matrix((adj_array[0], (adj_array[1], adj_array[2])), shape=(vox_count,vox_count)) \n",
    "\n",
    "#turning the sparce adjacency matrix into a nx node network\n",
    "g = nx.from_scipy_sparse_matrix(adj_matrix_sparse)"
   ]
  },
  {
   "cell_type": "code",
   "execution_count": null,
   "metadata": {},
   "outputs": [],
   "source": [
    "border_lattice_flat = border_lattice.flatten()\n",
    "\n",
    "#finding all the indices that count as 'facade voxels'\n",
    "id_list = np.array(np.where(border_lattice_flat == 1)).T\n",
    "\n",
    "#creating a dict that only holds all the lowest key values\n",
    "\n",
    "counter = 0\n",
    "for id_border_vox in id_list:\n",
    "    shortest_path = nx.shortest_path_length(g, id_border_vox[0])\n",
    "    for key in shortest_path:\n",
    "        if counter == 0:\n",
    "            shortest_paths = shortest_path\n",
    "        else:\n",
    "            shortest_paths[key] = min(shortest_paths[key], shortest_path[key])\n",
    "    counter += 1\n"
   ]
  },
  {
   "cell_type": "markdown",
   "metadata": {},
   "source": [
    "### 3.2. Mapping the distance field"
   ]
  },
  {
   "cell_type": "code",
   "execution_count": null,
   "metadata": {},
   "outputs": [],
   "source": [
    "# mapping all the distance values to closeness values and reshaping to the lattice shape\n",
    "\n",
    "all_values = shortest_paths.values()\n",
    "max_value = max(all_values)\n",
    "\n",
    "#initializing a 1d distance list\n",
    "base_lattice_flat = np.zeros(vox_count)\n",
    "\n",
    "for key in shortest_paths:  \n",
    "    mapped_value = 1 - shortest_paths[key] / max_value #mapping value between 0 and 1\n",
    "    base_lattice_flat[key] = mapped_value\n",
    "    \n",
    "# creating the 2D lattice slice\n",
    "vox_interest_acc_lattice = tg.to_lattice(base_lattice_flat.reshape(avail_lattice.shape), avail_lattice)"
   ]
  },
  {
   "cell_type": "markdown",
   "metadata": {},
   "source": [
    "### 3.3. Visualizing the 2D facade closeness slice"
   ]
  },
  {
   "cell_type": "code",
   "execution_count": null,
   "metadata": {},
   "outputs": [],
   "source": [
    "# convert mesh to pv_mesh\n",
    "def tri_to_pv(tri_mesh):\n",
    "    faces = np.pad(tri_mesh.faces, ((0, 0),(1,0)), 'constant', constant_values=3)\n",
    "    pv_mesh = pv.PolyData(tri_mesh.vertices, faces)\n",
    "    return pv_mesh\n",
    "\n",
    "# load the mesh from file\n",
    "context_path = os.path.relpath('../data/immediate_context.obj')\n",
    "context_mesh = tm.load(context_path)\n",
    "\n",
    "# initiating the plotter\n",
    "p = pv.Plotter(notebook=True)\n",
    "\n",
    "# Create the spatial reference\n",
    "grid = pv.UniformGrid()\n",
    "\n",
    "# Set the grid dimensions: shape because we want to inject our values\n",
    "grid.dimensions = avail_lattice.shape\n",
    "# The bottom left corner of the data set\n",
    "grid.origin = avail_lattice.minbound\n",
    "# These are the cell sizes along each axis\n",
    "grid.spacing = avail_lattice.unit\n",
    "\n",
    "# Add the data values to the cell data\n",
    "grid.point_arrays[\"Closeness to facade\"] = vox_interest_acc_lattice.flatten(order=\"F\")  # Flatten the Lattice\n",
    "\n",
    "# adding the meshes\n",
    "p.add_mesh(tri_to_pv(context_mesh), opacity=0.1, style='wireframe')\n",
    "    \n",
    "# adding the volume\n",
    "opacity = np.array([0.0,0.6,0.6,0.6,0.6,0.6,0.6])\n",
    "p.add_volume(grid, cmap=\"coolwarm\", clim=[0.0, 1.0] ,opacity=opacity)\n",
    "\n",
    "# plotting\n",
    "cpos = [(785.8704805788776, 708.4540755788776, 741.8613927288776),\n",
    " (65.08283250000001, -12.333572500000002, 21.07374465),\n",
    " (0.0, 0.0, 1.0)]\n",
    "p.camera_position = cpos\n",
    "p.window_size = 2000, 2000\n",
    "p.show(use_ipyvtk=True)\n",
    "p.screenshot(\"facade_2\")\n",
    "print(p.camera_position)"
   ]
  },
  {
   "cell_type": "markdown",
   "metadata": {},
   "source": [
    "### 4.1. Mapping the 2D closeness slice to the 3D lattice"
   ]
  },
  {
   "cell_type": "code",
   "execution_count": null,
   "metadata": {},
   "outputs": [],
   "source": [
    "# mapping the 2d facade distance field to the 3D lattice shape\n",
    "\n",
    "for i in range(len(vox_interest_acc_lattice[0][0])):\n",
    "    vox_interest_acc_lattice[:,:,i] = vox_interest_acc_lattice[:,:,1]\n",
    "    \n",
    "# shaping the lattice to the solar anvelope\n",
    "vox_interest_acc_lattice = vox_interest_acc_lattice * avail_lattice"
   ]
  },
  {
   "cell_type": "markdown",
   "metadata": {},
   "source": [
    "### 4.2. Visualizing the facade closeness lattice"
   ]
  },
  {
   "cell_type": "code",
   "execution_count": null,
   "metadata": {},
   "outputs": [],
   "source": [
    "# convert mesh to pv_mesh\n",
    "def tri_to_pv(tri_mesh):\n",
    "    faces = np.pad(tri_mesh.faces, ((0, 0),(1,0)), 'constant', constant_values=3)\n",
    "    pv_mesh = pv.PolyData(tri_mesh.vertices, faces)\n",
    "    return pv_mesh\n",
    "\n",
    "# load the mesh from file\n",
    "context_path = os.path.relpath('../data/immediate_context.obj')\n",
    "context_mesh = tm.load(context_path)\n",
    "\n",
    "# initiating the plotter\n",
    "p = pv.Plotter(notebook=True)\n",
    "\n",
    "# Create the spatial reference\n",
    "grid = pv.UniformGrid()\n",
    "\n",
    "# Set the grid dimensions: shape because we want to inject our values\n",
    "grid.dimensions = avail_lattice.shape\n",
    "# The bottom left corner of the data set\n",
    "grid.origin = avail_lattice.minbound\n",
    "# These are the cell sizes along each axis\n",
    "grid.spacing = avail_lattice.unit\n",
    "\n",
    "# Add the data values to the cell data\n",
    "grid.point_arrays[\"Closeness to facade\"] = vox_interest_acc_lattice.flatten(order=\"F\")  # Flatten the Lattice\n",
    "\n",
    "# adding the meshes\n",
    "p.add_mesh(tri_to_pv(context_mesh), opacity=0.1, style='wireframe')\n",
    "    \n",
    "# adding the volume\n",
    "opacity = np.array([0.0,0.6,0.6,0.6,0.6,0.6,0.6])\n",
    "p.add_volume(grid, cmap=\"coolwarm\", clim=[0.0, 1.0] ,opacity=opacity)\n",
    "\n",
    "# plotting\n",
    "cpos = [(785.8704805788776, 708.4540755788776, 741.8613927288776),\n",
    " (65.08283250000001, -12.333572500000002, 21.07374465),\n",
    " (0.0, 0.0, 1.0)]\n",
    "p.camera_position = cpos\n",
    "p.window_size = 2000, 2000\n",
    "p.show(use_ipyvtk=True)\n",
    "p.screenshot(\"facade_3\")\n",
    "print(p.camera_position)"
   ]
  },
  {
   "cell_type": "markdown",
   "metadata": {},
   "source": [
    "### 5.1 .Saving the lattice to a csv"
   ]
  },
  {
   "cell_type": "code",
   "execution_count": null,
   "metadata": {},
   "outputs": [],
   "source": [
    "#saving the facade lattice to a csv file\n",
    "csv_path = os.path.relpath('../data/closeness_to_facade_324.csv')\n",
    "vox_interest_acc_lattice.to_csv(csv_path)"
   ]
  }
 ],
 "metadata": {
  "kernelspec": {
   "display_name": "Python 3",
   "language": "python",
   "name": "python3"
  },
  "language_info": {
   "codemirror_mode": {
    "name": "ipython",
    "version": 3
   },
   "file_extension": ".py",
   "mimetype": "text/x-python",
   "name": "python",
   "nbconvert_exporter": "python",
   "pygments_lexer": "ipython3",
   "version": "3.8.4"
  }
 },
 "nbformat": 4,
 "nbformat_minor": 4
}
