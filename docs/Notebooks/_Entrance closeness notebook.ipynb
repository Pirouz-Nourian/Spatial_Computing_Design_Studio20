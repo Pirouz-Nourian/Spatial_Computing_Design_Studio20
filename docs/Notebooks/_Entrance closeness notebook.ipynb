{
 "cells": [
  {
   "cell_type": "markdown",
   "metadata": {},
   "source": [
    "# Creating an entrance acces lattice"
   ]
  },
  {
   "cell_type": "markdown",
   "metadata": {},
   "source": [
    "## 0. Initialization\n",
    "\n",
    "### 0.1. Load required libraries"
   ]
  },
  {
   "cell_type": "code",
   "execution_count": null,
   "metadata": {},
   "outputs": [],
   "source": [
    "import os\n",
    "import topogenesis as tg\n",
    "import pyvista as pv\n",
    "import trimesh as tm\n",
    "import numpy as np\n",
    "import networkx as nx\n",
    "from scipy.interpolate import RegularGridInterpolator\n",
    "np.random.seed(0)"
   ]
  },
  {
   "cell_type": "markdown",
   "metadata": {},
   "source": [
    "### 0.2. Define the Neighborhood (Stencil)"
   ]
  },
  {
   "cell_type": "code",
   "execution_count": null,
   "metadata": {},
   "outputs": [],
   "source": [
    "# creating neighborhood definition\n",
    "stencil = tg.create_stencil(\"von_neumann\", 1, 1)\n",
    "# setting the center to zero\n",
    "stencil.set_index([0,0,0], 0)\n",
    "print(stencil)"
   ]
  },
  {
   "cell_type": "markdown",
   "metadata": {},
   "source": [
    "### 0.3. Load the envelope lattice as the avialbility lattice"
   ]
  },
  {
   "cell_type": "code",
   "execution_count": null,
   "metadata": {},
   "outputs": [],
   "source": [
    "# loading the lattice from csv\n",
    "lattice_path = os.path.relpath('../data/lattice972.csv')\n",
    "avail_lattice = tg.lattice_from_csv(lattice_path)\n",
    "init_avail_lattice = tg.to_lattice(np.copy(avail_lattice), avail_lattice)\n",
    "full_lattice = avail_lattice * 0 + 1"
   ]
  },
  {
   "cell_type": "markdown",
   "metadata": {},
   "source": [
    "## 1. Distance Field Construction\n",
    "\n",
    "### 1.1. Extract the connectivity graph from the lattice based on the defined stencil"
   ]
  },
  {
   "cell_type": "code",
   "execution_count": null,
   "metadata": {},
   "outputs": [],
   "source": [
    "# find the number of all voxels\n",
    "vox_count = full_lattice.size \n",
    "\n",
    "# initialize the adjacency matrix\n",
    "adj_mtrx = np.zeros((vox_count,vox_count))\n",
    "\n",
    "# Finding the index of the available voxels in avail_lattice\n",
    "avail_index = np.array(np.where(full_lattice == 1)).T\n",
    "\n",
    "# fill the adjacency matrix using the list of all neighbours\n",
    "for vox_loc in avail_index:\n",
    "    # find the 1D id\n",
    "    vox_id = np.ravel_multi_index(vox_loc, full_lattice.shape)\n",
    "    # retrieve the list of neighbours of the voxel based on the stencil\n",
    "    vox_neighs = full_lattice.find_neighbours_masked(stencil, loc = vox_loc)\n",
    "    # iterating over the neighbours\n",
    "    for neigh in vox_neighs:\n",
    "        # setting the entry to one\n",
    "        adj_mtrx[vox_id, neigh] = 1.0\n",
    "\n",
    "# construct the graph \n",
    "g = nx.from_numpy_array(adj_mtrx)"
   ]
  },
  {
   "cell_type": "markdown",
   "metadata": {},
   "source": [
    "### 1.2. Compute distances on the graph"
   ]
  },
  {
   "cell_type": "code",
   "execution_count": null,
   "metadata": {},
   "outputs": [],
   "source": [
    "# compute the distance of all voxels to all voxels using floyd warshal algorithm\n",
    "dist_mtrx = nx.floyd_warshall_numpy(g) \n",
    "# this is not an efficient way of making thios calculation, but it works and\n",
    "# now we can easily make multiple different entrance acces lattices."
   ]
  },
  {
   "cell_type": "markdown",
   "metadata": {},
   "source": [
    "### 1.3. Select the entrance voxel"
   ]
  },
  {
   "cell_type": "code",
   "execution_count": null,
   "metadata": {},
   "outputs": [],
   "source": [
    "pv.set_plot_theme(\"document\")\n",
    "p = pv.Plotter(notebook=True)\n",
    "\n",
    "# initialize the selection lattice\n",
    "base_lattice = avail_lattice * 0 - 1\n",
    "\n",
    "# init base flat\n",
    "base_flat = base_lattice.flatten().astype(int)\n",
    "\n",
    "# Set the grid dimensions: shape + 1 because we want to inject our values on the CELL data\n",
    "grid = pv.UniformGrid()\n",
    "grid.dimensions = np.array(base_lattice.shape) + 1\n",
    "# The bottom left corner of the data set\n",
    "grid.origin = base_lattice.minbound - base_lattice.unit * 0.5\n",
    "# These are the cell sizes along each axis\n",
    "grid.spacing = base_lattice.unit \n",
    "\n",
    "# adding the boundingbox wireframe\n",
    "p.add_mesh(grid.outline(), color=\"grey\", label=\"Domain\")\n",
    "\n",
    "# adding the avilability lattice\n",
    "init_avail_lattice.fast_vis(p)\n",
    "\n",
    "def create_mesh(value):\n",
    "    i = int(value)\n",
    "    # init base flat\n",
    "    base_flat = base_lattice.flatten().astype(int)\n",
    "    base_flat = base_flat * 0 - 1\n",
    "    base_flat[i] = 0 \n",
    "    base_new = base_flat.reshape(base_lattice.shape)\n",
    "    # Add the data values to the cell data\n",
    "    grid.cell_arrays[\"Selection\"] = base_new.flatten(order=\"F\").astype(int) # Flatten the array!\n",
    "    # filtering the voxels\n",
    "    threshed = grid.threshold([-0.1, 0.9])\n",
    "    # adding the voxels\n",
    "    p.add_mesh(threshed, name='sphere', show_edges=True, opacity=1.0, show_scalar_bar=False)\n",
    "    return\n",
    "\n",
    "p.add_slider_widget(create_mesh, [0, len(base_flat)], title='1D Index', value=929, event_type=\"always\", style=\"classic\", pointa=(0.1, 0.1), pointb=(0.9, 0.1))\n",
    "\n",
    "# create_mesh(928)\n",
    "\n",
    "# adding the meshes\n",
    "def tri_to_pv(tri_mesh):\n",
    "    faces = np.pad(tri_mesh.faces, ((0, 0),(1,0)), 'constant', constant_values=3)\n",
    "    pv_mesh = pv.PolyData(tri_mesh.vertices, faces)\n",
    "    return pv_mesh\n",
    "\n",
    "#loading in the context\n",
    "context_path = os.path.relpath('../data/immediate_context.obj')\n",
    "context_mesh = tm.load(context_path)\n",
    "p.add_mesh(tri_to_pv(context_mesh), opacity=0.1, style='wireframe')\n",
    "\n",
    "cpos = [(785.8704805788776, 708.4540755788776, 741.8613927288776),\n",
    " (65.08283250000001, -12.333572500000002, 21.07374465),\n",
    " (0.0, 0.0, 1.0)]\n",
    "p.camera_position = cpos\n",
    "p.window_size = 2000, 2000\n",
    "p.show(use_ipyvtk=True)\n",
    "# p.screenshot(\"entrance_1\")\n",
    "print(p.camera_position)"
   ]
  },
  {
   "cell_type": "markdown",
   "metadata": {},
   "source": [
    "### 1.4. Construct Distance to Entrance Lattice"
   ]
  },
  {
   "cell_type": "code",
   "execution_count": null,
   "metadata": {},
   "outputs": [],
   "source": [
    "# select the corresponding row in the matrix\n",
    "ent_dist = dist_mtrx[929]\n",
    "# find the maximum valid value\n",
    "max_valid = np.ma.masked_invalid(ent_dist).max()\n",
    "\n",
    "# set the infinities to one more than the maximum valid values\n",
    "ent_dist[ent_dist == np.inf] = max_valid + 1\n",
    "\n",
    "# mapping the values from (0, max) to (1, 0)\n",
    "ent_flat = 1 - ent_dist / np.max(ent_dist)\n",
    "\n",
    "# constructing the lattice\n",
    "ent_acc_lattice = tg.to_lattice(ent_flat.reshape(avail_lattice.shape), avail_lattice)"
   ]
  },
  {
   "cell_type": "markdown",
   "metadata": {},
   "source": [
    "### 1.5. Visualize the distance lattice"
   ]
  },
  {
   "cell_type": "code",
   "execution_count": null,
   "metadata": {
    "scrolled": false
   },
   "outputs": [],
   "source": [
    "# convert mesh to pv_mesh\n",
    "def tri_to_pv(tri_mesh):\n",
    "    faces = np.pad(tri_mesh.faces, ((0, 0),(1,0)), 'constant', constant_values=3)\n",
    "    pv_mesh = pv.PolyData(tri_mesh.vertices, faces)\n",
    "    return pv_mesh\n",
    "\n",
    "pv.set_plot_theme(\"document\")\n",
    "\n",
    "# load the mesh from file\n",
    "context_path = os.path.relpath('../data/immediate_context.obj')\n",
    "context_mesh = tm.load(context_path)\n",
    "\n",
    "# initiating the plotter\n",
    "p = pv.Plotter(notebook=True)\n",
    "\n",
    "# Create the spatial reference\n",
    "grid = pv.UniformGrid()\n",
    "\n",
    "# Set the grid dimensions: shape because we want to inject our values\n",
    "grid.dimensions = ent_acc_lattice.shape\n",
    "# The bottom left corner of the data set\n",
    "grid.origin = ent_acc_lattice.minbound\n",
    "# These are the cell sizes along each axis\n",
    "grid.spacing = ent_acc_lattice.unit\n",
    "\n",
    "# Add the data values to the cell data\n",
    "grid.point_arrays[\"Entrance Access\"] = ent_acc_lattice.flatten(order=\"F\")  # Flatten the Lattice\n",
    "\n",
    "# adding the meshes\n",
    "p.add_mesh(tri_to_pv(context_mesh), opacity=0.1, style='wireframe')\n",
    "    \n",
    "# adding the volume\n",
    "opacity = np.array([0.0,0.6,0.6,0.6,0.6,0.6,0.6])\n",
    "p.add_volume(grid, cmap=\"coolwarm\", clim=[0.0, 1.0] ,opacity=opacity)\n",
    "\n",
    "# plotting\n",
    "cpos = [(785.8704805788776, 708.4540755788776, 741.8613927288776),\n",
    " (65.08283250000001, -12.333572500000002, 21.07374465),\n",
    " (0.0, 0.0, 1.0)]\n",
    "p.camera_position = cpos\n",
    "p.window_size = 2000, 2000\n",
    "p.show(use_ipyvtk=True)\n",
    "# p.screenshot(\"entrance_2\")\n",
    "print(p.camera_position)"
   ]
  },
  {
   "cell_type": "markdown",
   "metadata": {},
   "source": [
    "## 2. Distance field interpolation\n",
    "\n",
    "### 2.1. Loading the highres lattice"
   ]
  },
  {
   "cell_type": "code",
   "execution_count": null,
   "metadata": {},
   "outputs": [],
   "source": [
    "# loading the lattice from csv\n",
    "lattice_path = os.path.relpath('../data/solar_envelope_324.csv')\n",
    "highres_env_lattice = tg.lattice_from_csv(lattice_path)"
   ]
  },
  {
   "cell_type": "markdown",
   "metadata": {},
   "source": [
    "### 2.2. Interpolating the lattice"
   ]
  },
  {
   "cell_type": "code",
   "execution_count": null,
   "metadata": {},
   "outputs": [],
   "source": [
    "#loading the interpolation function\n",
    "\n",
    "def interpolate(lowres_lattice, env_lattice):\n",
    "    # line spaces\n",
    "    x_space = np.linspace(lowres_lattice.minbound[0], lowres_lattice.maxbound[0],lowres_lattice.shape[0])\n",
    "    y_space = np.linspace(lowres_lattice.minbound[1], lowres_lattice.maxbound[1],lowres_lattice.shape[1])\n",
    "    z_space = np.linspace(lowres_lattice.minbound[2], lowres_lattice.maxbound[2],lowres_lattice.shape[2])\n",
    "\n",
    "    # interpolation function\n",
    "    interpolating_function = RegularGridInterpolator((x_space, y_space, z_space), lowres_lattice, bounds_error=False, fill_value=None)\n",
    "\n",
    "    # high_res lattice\n",
    "    full_lattice = env_lattice + 1\n",
    "\n",
    "    # sample point\n",
    "    sample_points = full_lattice.centroids\n",
    "\n",
    "    # interpolation\n",
    "    interpolated_values = interpolating_function(sample_points)\n",
    "\n",
    "    # lattice construction\n",
    "    interpolated_lattice = tg.to_lattice(interpolated_values.reshape(env_lattice.shape), env_lattice)\n",
    "\n",
    "    # nulling the unavailable cells\n",
    "    interpolated_lattice *= env_lattice\n",
    "    \n",
    "    return interpolated_lattice"
   ]
  },
  {
   "cell_type": "code",
   "execution_count": null,
   "metadata": {},
   "outputs": [],
   "source": [
    "#interpolating\n",
    "highres_ent_acc_lattice = interpolate(ent_acc_lattice,highres_env_lattice)"
   ]
  },
  {
   "cell_type": "markdown",
   "metadata": {},
   "source": [
    "### 2.3. Visualizing the interpolated lattice"
   ]
  },
  {
   "cell_type": "code",
   "execution_count": null,
   "metadata": {
    "scrolled": false
   },
   "outputs": [],
   "source": [
    "# convert mesh to pv_mesh\n",
    "def tri_to_pv(tri_mesh):\n",
    "    faces = np.pad(tri_mesh.faces, ((0, 0),(1,0)), 'constant', constant_values=3)\n",
    "    pv_mesh = pv.PolyData(tri_mesh.vertices, faces)\n",
    "    return pv_mesh\n",
    "\n",
    "base_lattice = highres_ent_acc_lattice\n",
    "pv.set_plot_theme(\"document\")\n",
    "\n",
    "# initiating the plotter\n",
    "p = pv.Plotter(notebook=True)\n",
    "\n",
    "# Create the spatial reference\n",
    "grid = pv.UniformGrid()\n",
    "\n",
    "# Set the grid dimensions: shape because we want to inject our values\n",
    "grid.dimensions = base_lattice.shape\n",
    "# The bottom left corner of the data set\n",
    "grid.origin = base_lattice.minbound\n",
    "# These are the cell sizes along each axis\n",
    "grid.spacing = base_lattice.unit\n",
    "\n",
    "# Add the data values to the cell data\n",
    "grid.point_arrays[\"Entrance Access\"] = base_lattice.flatten(order=\"F\")  # Flatten the Lattice\n",
    "\n",
    "# adding the meshes\n",
    "p.add_mesh(tri_to_pv(context_mesh), opacity=0.1, style='wireframe')\n",
    "    \n",
    "# adding the volume\n",
    "opacity = np.array([0,0.6,0.6,0.6,0.6,0.6,0.6])\n",
    "p.add_volume(grid, cmap=\"coolwarm\", clim=[0, 1.0],opacity=opacity, shade=False)\n",
    "\n",
    "# plotting\n",
    "cpos = [(785.8704805788776, 708.4540755788776, 741.8613927288776),\n",
    " (65.08283250000001, -12.333572500000002, 21.07374465),\n",
    " (0.0, 0.0, 1.0)]\n",
    "p.camera_position = cpos\n",
    "p.window_size = 2000, 2000\n",
    "p.show(use_ipyvtk=True)\n",
    "# p.screenshot(\"entrance_3\")\n",
    "print(p.camera_position)"
   ]
  },
  {
   "cell_type": "markdown",
   "metadata": {},
   "source": [
    "### 2.4. Save Entrance Access Lattice to CSV"
   ]
  },
  {
   "cell_type": "code",
   "execution_count": null,
   "metadata": {},
   "outputs": [],
   "source": [
    "# save the sun access latice to csv\n",
    "\n",
    "csv_path = os.path.relpath('../data/closeness_car_park_entrance_324.csv')\n",
    "highres_ent_acc_lattice.to_csv(csv_path)"
   ]
  },
  {
   "cell_type": "markdown",
   "metadata": {},
   "source": [
    "### Credits"
   ]
  },
  {
   "cell_type": "code",
   "execution_count": null,
   "metadata": {},
   "outputs": [],
   "source": [
    "__author__ = \"Shervin Azadi and Pirouz Nourian\"\n",
    "__license__ = \"MIT\"\n",
    "__version__ = \"1.0\"\n",
    "__url__ = \"https://github.com/shervinazadi/spatial_computing_workshops\"\n",
    "__summary__ = \"Spatial Computing Design Studio Workshop on MCDA and Path Finding for Generative Spatial Relations\""
   ]
  }
 ],
 "metadata": {
  "kernelspec": {
   "display_name": "Python 3",
   "language": "python",
   "name": "python3"
  },
  "language_info": {
   "codemirror_mode": {
    "name": "ipython",
    "version": 3
   },
   "file_extension": ".py",
   "mimetype": "text/x-python",
   "name": "python",
   "nbconvert_exporter": "python",
   "pygments_lexer": "ipython3",
   "version": "3.8.4"
  }
 },
 "nbformat": 4,
 "nbformat_minor": 2
}
