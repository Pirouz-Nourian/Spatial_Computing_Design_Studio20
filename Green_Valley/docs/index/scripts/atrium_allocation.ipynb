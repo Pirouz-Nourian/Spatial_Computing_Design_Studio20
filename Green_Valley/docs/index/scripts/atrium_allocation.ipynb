{
 "cells": [
  {
   "cell_type": "markdown",
   "metadata": {},
   "source": [
    "# Atrium allocation and green path finding\n",
    "\n",
    "[More about atrium allocation and green path finding](/spatial_computing_project_template/A3_Massing/Process/Atrium%20allocation/Atrium%20allocation/)\n",
    "\n",
    "In this notebook, we will first try to allocate the center of the building which will eventually represent the atrium of the building. Secondly we want to compute the shortest path from the three public green spaces in the nearby neighborhood of the plot. We will this with the astar algorithm. Finally we will edt the voxelized envelope with the help of the atrium and the green path by broadening both, and set every voxel above the path as unavailable. "
   ]
  },
  {
   "cell_type": "markdown",
   "metadata": {},
   "source": [
    "## 0. Initialization\n",
    "\n",
    "### 0.1. Load required libraries"
   ]
  },
  {
   "cell_type": "code",
   "execution_count": 1,
   "metadata": {},
   "outputs": [],
   "source": [
    "import os\n",
    "import topogenesis as tg\n",
    "import pyvista as pv\n",
    "import trimesh as tm\n",
    "import numpy as np\n",
    "import networkx as nx\n",
    "import pandas as pd\n",
    "from sklearn.cluster import KMeans\n",
    "np.random.seed(0)"
   ]
  },
  {
   "cell_type": "code",
   "execution_count": 2,
   "metadata": {},
   "outputs": [],
   "source": [
    "# extra import function\n",
    "def lattice_from_csv(file_path):\n",
    "    # read metadata\n",
    "    meta_df = pd.read_csv(file_path, nrows=3)\n",
    "\n",
    "    shape = np.array(meta_df['shape'])\n",
    "    unit = np.array(meta_df['unit'])\n",
    "    minbound = np.array(meta_df['minbound'])\n",
    "\n",
    "    # read lattice\n",
    "    lattice_df = pd.read_csv(file_path, skiprows=5)\n",
    "\n",
    "    # create the buffer\n",
    "    buffer = np.array(lattice_df['value']).reshape(shape)\n",
    "\n",
    "    # create the lattice\n",
    "    l = tg.to_lattice(buffer, minbound=minbound, unit=unit)\n",
    "\n",
    "    return l"
   ]
  },
  {
   "cell_type": "markdown",
   "metadata": {},
   "source": [
    "### 0.2. Define the Neighborhood (Stencil)"
   ]
  },
  {
   "cell_type": "code",
   "execution_count": 3,
   "metadata": {},
   "outputs": [],
   "source": [
    "# creating neighborhood definition - center with 0 neighbours\n",
    "stencil = tg.create_stencil(\"moore\", 0, 1)\n",
    "# setting the center to zero\n",
    "stencil.set_index([0, 0, 0], 0)\n",
    "stencil.set_index([1, 0, 0], 1)\n",
    "stencil.set_index([-1, 0, 0], 1)\n",
    "stencil.set_index([1, 1, 0], 1)\n",
    "stencil.set_index([-1, 1, 0], 1)\n",
    "stencil.set_index([1, -1, 0], 1)\n",
    "stencil.set_index([-1, -1, 0], 1)\n",
    "stencil.set_index([-1, 1, 0], 1)\n",
    "stencil.set_index([0, 1, 0], 1)\n",
    "stencil.set_index([0, -1, 0], 1)"
   ]
  },
  {
   "cell_type": "markdown",
   "metadata": {},
   "source": [
    "### 0.3. Load the envelope lattice as the avialbility lattice"
   ]
  },
  {
   "cell_type": "code",
   "execution_count": 4,
   "metadata": {},
   "outputs": [],
   "source": [
    "# loading the lattice from csv\n",
    "lattice_path = os.path.relpath('../data/envelope_highres_new.csv')\n",
    "avail_lattice = lattice_from_csv(lattice_path)\n",
    "init_avail_lattice = tg.to_lattice(np.copy(avail_lattice), avail_lattice)"
   ]
  },
  {
   "cell_type": "markdown",
   "metadata": {},
   "source": [
    "### 0.4. Load Agents Information"
   ]
  },
  {
   "cell_type": "code",
   "execution_count": 5,
   "metadata": {
    "scrolled": true
   },
   "outputs": [],
   "source": [
    "# loading program (agents information) from CSV\n",
    "prgm_path = os.path.relpath('../data/program_atrium.csv')\n",
    "agn_info = np.genfromtxt(prgm_path, delimiter=',')[1:, 1:]\n",
    "# extract agent ids\n",
    "agn_ids = agn_info[:, 0]\n",
    "# extract agent preferences\n",
    "agn_prefs = agn_info[:, 1:]"
   ]
  },
  {
   "cell_type": "markdown",
   "metadata": {},
   "source": [
    "## 1. Creation of Vertical Shaft \n",
    "\n",
    "### 1.1. Agent initialization"
   ]
  },
  {
   "cell_type": "code",
   "execution_count": 6,
   "metadata": {},
   "outputs": [],
   "source": [
    "# initialize the occupation lattice\n",
    "occ_lattice = avail_lattice * 0 - 1\n",
    "\n",
    "# Finding the index of the available voxels in avail_lattice\n",
    "avail_flat = avail_lattice.flatten()\n",
    "avail_index = np.array(np.where(avail_lattice == 1)).T\n",
    "\n",
    "# count the number of spaces (rows) and intiialize an agent for each space\n",
    "agn_num = len(agn_info)\n",
    "\n",
    "# adding the origins to the agents locations\n",
    "agn_locs = []\n",
    "agn_manual_input = {\n",
    "    0: [[20,10,1]],\n",
    "    1: [[32,19,1]],\n",
    "    2: [[1,1,2]],\n",
    "    3: [[39,0,1]],\n",
    "}\n",
    "\n",
    "# retrieving the entrance access value of the free neighbours\n",
    "for a_id in agn_ids:    \n",
    "    voxel_vals = []\n",
    "    pot_voxels = []\n",
    "    # retrieve agent preferences\n",
    "    a_pref = agn_prefs[int(a_id)]\n",
    "    \n",
    "    if a_id in agn_manual_input:\n",
    "        \n",
    "        # add the newly selected neighbour location to agent locations\n",
    "        agn_locs.append(agn_manual_input[a_id])\n",
    "        \n",
    "        for loc in agn_manual_input[a_id]:\n",
    "            # set the newly selected neighbour as UNavailable (0) in the availability lattice\n",
    "            avail_lattice[tuple(loc)] = 0\n",
    "            # set the newly selected neighbour as OCCUPIED by current agent \n",
    "            # (-1 means not-occupied so a_id)\n",
    "            occ_lattice[tuple(loc)] = a_id\n",
    "    else:\n",
    "        # Voxel Evaluation Loop\n",
    "        for pot_vox in avail_index:\n",
    "            if avail_lattice[tuple(pot_vox)]:\n",
    "\n",
    "                global_vox_value = 1.0\n",
    "                # for every lattice in the environment informations\n",
    "                for i, info_lattice in enumerate(env_info):\n",
    "                    vox_val = info_lattice[tuple(pot_vox)]\n",
    "                    agn_vox_val = np.power(vox_val, a_pref[i])\n",
    "                    global_vox_value *= agn_vox_val\n",
    "                # add the neighbour value to the list of values\n",
    "                voxel_vals.append(global_vox_value)\n",
    "                pot_voxels.append(pot_vox)\n",
    "\n",
    "        # convert to numpy array\n",
    "        voxel_vals = np.array(voxel_vals)\n",
    "        # convert to numpy array\n",
    "        pot_voxels = np.array(pot_voxels)\n",
    "        # select the neighbour with highest value \n",
    "        selected_int = np.argmax(voxel_vals) \n",
    "        # find 3D intiger index of selected neighbour\n",
    "        selected_neigh_3d_id = tuple(pot_voxels[selected_int].T)\n",
    "        # find the location of the newly selected neighbour\n",
    "        selected_neigh_loc = np.array(selected_neigh_3d_id).flatten()\n",
    "\n",
    "        # add the newly selected neighbour location to agent locations\n",
    "        agn_locs.append([selected_neigh_loc])\n",
    "        # set the newly selected neighbour as UNavailable (0) in the availability lattice\n",
    "        avail_lattice[selected_neigh_3d_id] = 0\n",
    "        # set the newly selected neighbour as OCCUPIED by current agent \n",
    "        # (-1 means not-occupied so a_id)\n",
    "        occ_lattice[selected_neigh_3d_id] = a_id\n",
    "# extract the address of all occupied voxels\n",
    "occ_ind = np.array(np.where(occ_lattice > -1)).T"
   ]
  },
  {
   "cell_type": "markdown",
   "metadata": {},
   "source": [
    "### 1.4. Set the atrium agent as vertical shaft"
   ]
  },
  {
   "cell_type": "code",
   "execution_count": 7,
   "metadata": {},
   "outputs": [],
   "source": [
    "# find the shaft location\n",
    "shaft_loc = agn_locs[0]\n",
    "# init shaft lattice\n",
    "shft_lattice = occ_lattice * 0\n",
    "# set the shafts\n",
    "for sh_loc in shaft_loc:\n",
    "    shft_lattice[sh_loc[0],sh_loc[1],2:] = 1\n",
    "    \n",
    "shft_voxels = np.argwhere(shft_lattice==1)\n",
    "\n",
    "for vox in shft_voxels:\n",
    "    VX, VY, VZ = tuple(vox)\n",
    "    shft_lattice[VX, VY, :VZ] = 1\n",
    "for vox in shft_voxels:\n",
    "    VX, VY, VZ = tuple(vox)\n",
    "    shft_lattice[VX, VY, VZ-1:VZ-1] = 1"
   ]
  },
  {
   "cell_type": "markdown",
   "metadata": {},
   "source": [
    "## 2. Creation of Horizontal Corridors"
   ]
  },
  {
   "cell_type": "markdown",
   "metadata": {},
   "source": [
    "### 2.1. Extract the connectivity graph from the lattice based on the horizontal stencil"
   ]
  },
  {
   "cell_type": "code",
   "execution_count": 9,
   "metadata": {},
   "outputs": [],
   "source": [
    "# find the number of all voxels\n",
    "vox_count = avail_lattice.size \n",
    "\n",
    "# initialize the adjacency matrix\n",
    "adj_mtrx = np.zeros((vox_count,vox_count))\n",
    "\n",
    "# Finding the index of the available voxels in avail_lattice\n",
    "avail_index = np.array(np.where(avail_lattice == 1)).T\n",
    "\n",
    "# fill the adjacency matrix using the list of all neighbours\n",
    "for vox_loc in avail_index:\n",
    "    # find the 1D id\n",
    "    vox_id = np.ravel_multi_index(vox_loc, avail_lattice.shape)\n",
    "    # retrieve the list of neighbours of the voxel based on the stencil\n",
    "    vox_neighs = avail_lattice.find_neighbours_masked(stencil, loc = vox_loc)\n",
    "    # iterating over the neighbours\n",
    "    for neigh in vox_neighs:\n",
    "        # setting the entry to one\n",
    "        adj_mtrx[vox_id, neigh] = 1.0\n",
    "\n",
    "# construct the graph \n",
    "g = nx.from_numpy_array(adj_mtrx)"
   ]
  },
  {
   "cell_type": "markdown",
   "metadata": {},
   "source": [
    "### 2.2. Find the shortest path and construct the corridor"
   ]
  },
  {
   "cell_type": "code",
   "execution_count": 10,
   "metadata": {},
   "outputs": [],
   "source": [
    "# initialize corridor lattice\n",
    "cor_lattice = shft_lattice * 0\n",
    "cor_flat = cor_lattice.flatten()\n",
    "all_cors = []\n",
    "# for each voxel that needs to have access to shafts\n",
    "for a_vox in occ_ind:\n",
    "    \n",
    "    # slice the corridor lattice horizontally\n",
    "    cor_floor = shft_lattice[:,:,a_vox[2]]\n",
    "    # find the vertical shaft voxel indices\n",
    "    shaft_vox_inds = np.array(np.where(cor_floor > 0)).T\n",
    "    paths = []\n",
    "    path_lens = []\n",
    "    for shft_ind in shaft_vox_inds:\n",
    "        # construct the destination address\n",
    "        dst_vox = np.array([shft_ind[0],shft_ind[1],a_vox[2]])\n",
    "        # construct 1-dimensional indices\n",
    "        src_ind = np.ravel_multi_index(a_vox, shft_lattice.shape)\n",
    "        dst_ind = np.ravel_multi_index(dst_vox, shft_lattice.shape)\n",
    "        \n",
    "        # find the shortest path\n",
    "        try:\n",
    "            path = nx.algorithms.shortest_paths.astar.astar_path(g, src_ind, dst_ind)\n",
    "            paths.append(path)\n",
    "            path_lens.append(len(path))\n",
    "        except:\n",
    "            pass\n",
    "\n",
    "    \n",
    "    # find the shortest path\n",
    "    shortest_path = paths[np.array(path_lens).argmin()]\n",
    "    all_cors.append(shortest_path)\n",
    "    # set the shortest path occupied in the \n",
    "    cor_flat[shortest_path] = 1\n",
    "\n",
    "# reshape the flat lattice\n",
    "cor_lattice = cor_flat.reshape(cor_lattice.shape)"
   ]
  },
  {
   "cell_type": "markdown",
   "metadata": {},
   "source": [
    "## 3.Editing Voxels"
   ]
  },
  {
   "cell_type": "markdown",
   "metadata": {},
   "source": [
    "### 3.1 Corridor"
   ]
  },
  {
   "cell_type": "code",
   "execution_count": 11,
   "metadata": {},
   "outputs": [],
   "source": [
    "for path in all_cors:\n",
    "    # for each voxel in the corridor ...\n",
    "    for vox_1d_ind in path:\n",
    "        # find the 3-dimensional index of the voxel\n",
    "        vox_3d_ind = np.unravel_index(vox_1d_ind, cor_lattice.shape)\n",
    "        VX, VY, VZ = vox_3d_ind\n",
    "        # mark the voxel as unavailable\n",
    "        #init_avail_lattice[VX, VY, VZ] = 0\n",
    "        # mark two voxels horizontal the voxel avilable\n",
    "        cor_lattice[VX, VY, VZ] = 1\n",
    "        cor_lattice[VX:VX+3, VY:VY+3, VZ] = 1\n",
    "        init_avail_lattice[VX:VX+3, VY:VY+3, VZ:] = 0        "
   ]
  },
  {
   "cell_type": "markdown",
   "metadata": {},
   "source": [
    "### 3.2 Shaft"
   ]
  },
  {
   "cell_type": "code",
   "execution_count": 12,
   "metadata": {},
   "outputs": [],
   "source": [
    "shft_voxels = np.argwhere(shft_lattice==1)\n",
    "\n",
    "for vox in shft_voxels:\n",
    "    VX, VY, VZ = tuple(vox)\n",
    "    shft_lattice[VX-1:VX+2, VY-1:VY+2, :VZ] = 1"
   ]
  },
  {
   "cell_type": "markdown",
   "metadata": {},
   "source": [
    "### 3.3. Visualize the corridor lattice"
   ]
  },
  {
   "cell_type": "code",
   "execution_count": 13,
   "metadata": {
    "scrolled": false
   },
   "outputs": [
    {
     "data": {
      "application/vnd.jupyter.widget-view+json": {
       "model_id": "37a3afc131474290ad4b664c0c3f69b4",
       "version_major": 2,
       "version_minor": 0
      },
      "text/plain": [
       "ViewInteractiveWidget(height=768, layout=Layout(height='auto', width='100%'), width=1024)"
      ]
     },
     "metadata": {},
     "output_type": "display_data"
    },
    {
     "data": {
      "text/plain": [
       "[(1437.5557019624885, 1436.3451154624884, 1448.4847311363303),\n",
       " (18.23971549999999, 17.02912900000001, 29.168744673841857),\n",
       " (0.0, 0.0, 1.0)]"
      ]
     },
     "execution_count": 13,
     "metadata": {},
     "output_type": "execute_result"
    }
   ],
   "source": [
    "context_path = os.path.relpath(\"../data/extended_context.obj\")\n",
    "# load the mesh from file\n",
    "context_mesh = tm.load(context_path)\n",
    "\n",
    "p = pv.Plotter(notebook=True)\n",
    "\n",
    "# convert mesh to pv_mesh\n",
    "def tri_to_pv(tri_mesh):\n",
    "    faces = np.pad(tri_mesh.faces, ((0, 0),(1,0)), 'constant', constant_values=3)\n",
    "    pv_mesh = pv.PolyData(tri_mesh.vertices, faces)\n",
    "    return pv_mesh\n",
    "\n",
    "base_lattice = cor_lattice \n",
    "\n",
    "# Set the grid dimensions: shape + 1 because we want to inject our values on the CELL data\n",
    "grid = pv.UniformGrid()\n",
    "grid.dimensions = np.array(base_lattice.shape) + 1\n",
    "# The bottom left corner of the data set\n",
    "grid.origin = base_lattice.minbound - base_lattice.unit * 0.5\n",
    "# These are the cell sizes along each axis\n",
    "grid.spacing = base_lattice.unit \n",
    "\n",
    "# adding the meshes\n",
    "p.add_mesh(tri_to_pv(context_mesh), opacity=1.0, style='surface')\n",
    "\n",
    "\n",
    "# adding the boundingbox wireframe\n",
    "p.add_mesh(grid.outline(), color=\"grey\", label=\"Domain\")\n",
    "\n",
    "# adding the avilability lattice\n",
    "init_avail_lattice.fast_vis(p)\n",
    "\n",
    "# # adding axes\n",
    "# p.add_axes()\n",
    "# p.show_bounds(grid=\"back\", location=\"back\", color=\"#aaaaaa\")\n",
    "\n",
    "\n",
    "# Add the data values to the cell data\n",
    "grid.cell_arrays[\"Agents\"] = base_lattice.flatten(order=\"F\").astype(int)  # Flatten the array!\n",
    "# filtering the voxels\n",
    "threshed = grid.threshold([0.9, 2.1])\n",
    "# adding the voxels\n",
    "p.add_mesh(threshed, name='sphere', show_edges=True, opacity=1.0, show_scalar_bar=False)\n",
    "\n",
    "\n",
    "# p.add_slider_widget(create_mesh, [0, n_frames], title='Time', value=0, event_type=\"always\", style=\"classic\", pointa=(0.1, 0.1), pointb=(0.9, 0.1))\n",
    "p.show(use_ipyvtk=True)"
   ]
  },
  {
   "cell_type": "markdown",
   "metadata": {},
   "source": [
    "## 4. Saving"
   ]
  },
  {
   "cell_type": "code",
   "execution_count": 14,
   "metadata": {},
   "outputs": [],
   "source": [
    "# save the sun access latice to csv\n",
    "\n",
    "csv_path = os.path.relpath('../data/atrium_3.6.csv')\n",
    "shft_lattice.to_csv(csv_path)"
   ]
  },
  {
   "cell_type": "markdown",
   "metadata": {},
   "source": [
    "### Credits"
   ]
  },
  {
   "cell_type": "code",
   "execution_count": 15,
   "metadata": {},
   "outputs": [],
   "source": [
    "__author__ = \"Shervin Azadi and Pirouz Nourian\"\n",
    "__changes_made_by__: \"Frank Vahstal\"\n",
    "__license__ = \"MIT\"\n",
    "__version__ = \"1.0\"\n",
    "__url__ = \"https://github.com/shervinazadi/spatial_computing_workshops\"\n",
    "__summary__ = \"Spatial Computing Design Studio Workshop on Path Finding and Corridorfor Generative Spatial Relations\""
   ]
  }
 ],
 "metadata": {
  "kernelspec": {
   "display_name": "Python 3",
   "language": "python",
   "name": "python3"
  },
  "language_info": {
   "codemirror_mode": {
    "name": "ipython",
    "version": 3
   },
   "file_extension": ".py",
   "mimetype": "text/x-python",
   "name": "python",
   "nbconvert_exporter": "python",
   "pygments_lexer": "ipython3",
   "version": "3.8.4"
  }
 },
 "nbformat": 4,
 "nbformat_minor": 2
}