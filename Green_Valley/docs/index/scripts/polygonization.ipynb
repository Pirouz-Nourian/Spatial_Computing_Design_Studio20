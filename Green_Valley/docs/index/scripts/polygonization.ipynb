{
 "cells": [
  {
   "cell_type": "markdown",
   "metadata": {},
   "source": [
    "# Polygonization\n",
    "\n",
    "In this notebook we will import a subtile set, which is based on a certain symmetry stencil. With this subtile set we will create a tile set containing 256 tiles. With these tiles the boolean marching cube algorithm will create a facade for a few lattices."
   ]
  },
  {
   "cell_type": "markdown",
   "metadata": {},
   "source": [
    "## 0. Initialization\n",
    "\n",
    "### 0.0. Importing libraries "
   ]
  },
  {
   "cell_type": "code",
   "execution_count": 10,
   "metadata": {},
   "outputs": [],
   "source": [
    "import topogenesis as tg\n",
    "import numpy as np \n",
    "import pyvista as pv\n",
    "import os\n",
    "import copy\n",
    "import trimesh as tm\n",
    "import pandas as pd\n",
    "import resources.boolean_marching_cubes as bmc\n",
    "from scipy.spatial import KDTree\n",
    "np.random.seed(0)"
   ]
  },
  {
   "cell_type": "markdown",
   "metadata": {},
   "source": [
    "### 0.1. Generate Symmetry Stencils"
   ]
  },
  {
   "cell_type": "code",
   "execution_count": 2,
   "metadata": {},
   "outputs": [],
   "source": [
    "# Symmetry sring\n",
    "Sym_str = [[\"OO\"], [\"XX\", \"YY\"], [\"ZP\"], [\"ZN\"]]\n",
    "stencils = bmc.create_symmetry_stencils(sym_str)"
   ]
  },
  {
   "cell_type": "markdown",
   "metadata": {},
   "source": [
    "### 0.2. Generate lattices for all possible cubes "
   ]
  },
  {
   "cell_type": "code",
   "execution_count": 3,
   "metadata": {},
   "outputs": [],
   "source": [
    "# generate bianary representation of all the possible cubes\n",
    "l_bis = bmc.bi_cube_lattices()"
   ]
  },
  {
   "cell_type": "markdown",
   "metadata": {},
   "source": [
    "## 1. Profiling\n",
    "\n",
    "### 1.1. Catalogue the profile of all corners"
   ]
  },
  {
   "cell_type": "code",
   "execution_count": 4,
   "metadata": {},
   "outputs": [],
   "source": [
    "# find all unique corner arrangements based on stencils\n",
    "corner_profiles = bmc.extract_corner_profiles(stencils, l_bis)"
   ]
  },
  {
   "cell_type": "markdown",
   "metadata": {},
   "source": [
    "### 1.2. Find unique corner profiles"
   ]
  },
  {
   "cell_type": "code",
   "execution_count": 5,
   "metadata": {},
   "outputs": [],
   "source": [
    "# stack corner_profiles vertically\n",
    "cp_stacked = np.vstack(corner_profiles)\n",
    "\n",
    "# find the uniqe arangements of corners\n",
    "uniq_corner_arang = np.unique(cp_stacked, axis=0)"
   ]
  },
  {
   "cell_type": "markdown",
   "metadata": {},
   "source": [
    "### 1.3. Construct unique profile latices"
   ]
  },
  {
   "cell_type": "code",
   "execution_count": 6,
   "metadata": {},
   "outputs": [],
   "source": [
    "# construct lattices for all unique corner profiles\n",
    "(corner_loc_lattices, corner_neigh_lattices) = bmc.profiles_to_lattices(uniq_corner_arang, stencils)"
   ]
  },
  {
   "cell_type": "markdown",
   "metadata": {},
   "source": [
    "### 1.4. Visualize unique profiles"
   ]
  },
  {
   "cell_type": "code",
   "execution_count": 7,
   "metadata": {},
   "outputs": [
    {
     "data": {
      "application/vnd.jupyter.widget-view+json": {
       "model_id": "9d603af27e9f425aae1bac3677866e1f",
       "version_major": 2,
       "version_minor": 0
      },
      "text/plain": [
       "ViewInteractiveWidget(height=768, layout=Layout(height='auto', width='100%'), width=1024)"
      ]
     },
     "metadata": {},
     "output_type": "display_data"
    },
    {
     "data": {
      "text/plain": [
       "[(4.363703305156274, 4.363703305156274, 4.363703305156274),\n",
       " (0.5, 0.5, 0.5),\n",
       " (0.0, 0.0, 1.0)]"
      ]
     },
     "execution_count": 7,
     "metadata": {},
     "output_type": "execute_result"
    }
   ],
   "source": [
    "p = pv.Plotter(notebook=True)\n",
    "\n",
    "base_lattice = corner_neigh_lattices[0]\n",
    "\n",
    "# Set the grid dimensions: shape + 1 because we want to inject our values on the CELL data\n",
    "grid = pv.UniformGrid()\n",
    "grid.dimensions = np.array(base_lattice.shape) + 1\n",
    "# The bottom left corner of the data set\n",
    "grid.origin = base_lattice.minbound - base_lattice.unit * 0.5\n",
    "# These are the cell sizes along each axis\n",
    "grid.spacing = base_lattice.unit \n",
    "\n",
    "# adding the boundingbox wireframe\n",
    "p.add_mesh(grid.outline(), color=\"grey\", label=\"Domain\")\n",
    "\n",
    "# adding axes\n",
    "p.add_axes()\n",
    "p.show_bounds(grid=\"back\", location=\"back\", color=\"#aaaaaa\")\n",
    "\n",
    "def create_mesh(value):\n",
    "    f = int(value)\n",
    "    lattice = corner_neigh_lattices[f]\n",
    "    loc = corner_loc_lattices[f]\n",
    "\n",
    "    # Add the data values to the cell data\n",
    "    grid.cell_arrays[\"filled\"] = lattice.flatten(order=\"F\").astype(int)  # Flatten the array!\n",
    "    # filtering the voxels\n",
    "    threshed = grid.threshold([.9, 1.1], scalars=\"filled\")\n",
    "    # adding the voxels\n",
    "    p.add_mesh(threshed, name='sphere', show_edges=True, opacity=0.7, show_scalar_bar=False)\n",
    "    \n",
    "    # Add the data values to the cell data\n",
    "    grid.cell_arrays[\"corner\"] = loc.flatten(order=\"F\").astype(int)# Flatten the array!\n",
    "    # filtering the voxels\n",
    "    threshed = grid.threshold([.9, 1.1], scalars=\"corner\")\n",
    "    # adding the voxels\n",
    "    p.add_mesh(threshed, name='sphere2', show_edges=True, opacity=1.0, show_scalar_bar=False, color=\"white\")\n",
    "\n",
    "    return\n",
    "\n",
    "p.add_slider_widget(create_mesh, [1, len(corner_neigh_lattices)], title='Arrangements', value=1, event_type=\"always\", style=\"classic\", pointa=(0.1, 0.1), pointb=(0.9, 0.1))\n",
    "p.show(use_ipyvtk=True)"
   ]
  },
  {
   "cell_type": "markdown",
   "metadata": {},
   "source": [
    "### 1.5. Save unique arrangement profiles "
   ]
  },
  {
   "cell_type": "code",
   "execution_count": 8,
   "metadata": {},
   "outputs": [],
   "source": [
    "# save all design templates into lattice CSVs\n",
    "templates_path = os.path.relpath('../data/bmc/bmc_templates')\n",
    "bmc.save_design_templates(corner_loc_lattices, corner_neigh_lattices, templates_path)"
   ]
  },
  {
   "cell_type": "markdown",
   "metadata": {},
   "source": [
    "## 2. Construct the tile-set\n",
    "\n",
    "### 2.1. Load sub-tile meshes"
   ]
  },
  {
   "cell_type": "code",
   "execution_count": 9,
   "metadata": {
    "scrolled": true
   },
   "outputs": [
    {
     "name": "stderr",
     "output_type": "stream",
     "text": [
      "faces have mixed data, using slow fallback!\n",
      "faces have mixed data, using slow fallback!\n"
     ]
    }
   ],
   "source": [
    "# load subtile meshes\n",
    "subtile_meshes = []\n",
    "for c in range(len(corner_loc_lattices)):\n",
    "    corner_mesh_path = os.path.relpath('../data/bmc/bmc_subtiles/t_' + f'{c:02}' + '.obj')\n",
    "    corner_mesh = tm.load(corner_mesh_path)\n",
    "    subtile_meshes.append(corner_mesh)"
   ]
  },
  {
   "cell_type": "markdown",
   "metadata": {},
   "source": [
    "### 2.2. Combine sub-tile meshes to create tile meshes"
   ]
  },
  {
   "cell_type": "code",
   "execution_count": 10,
   "metadata": {},
   "outputs": [],
   "source": [
    "tiles_meshes = bmc.construct_tile_meshes(subtile_meshes, corner_profiles, uniq_corner_arang, corner_loc_lattices)"
   ]
  },
  {
   "cell_type": "markdown",
   "metadata": {},
   "source": [
    "### 2.3. Visualize tile meshes"
   ]
  },
  {
   "cell_type": "code",
   "execution_count": 11,
   "metadata": {},
   "outputs": [
    {
     "data": {
      "application/vnd.jupyter.widget-view+json": {
       "model_id": "8c18766824ce475ea97d01c435a745cd",
       "version_major": 2,
       "version_minor": 0
      },
      "text/plain": [
       "ViewInteractiveWidget(height=768, layout=Layout(height='auto', width='100%'), width=1024)"
      ]
     },
     "metadata": {},
     "output_type": "display_data"
    },
    {
     "data": {
      "text/plain": [
       "[(1.9318516525781368, 1.9318516525781368, 1.9318516525781368),\n",
       " (0.0, 0.0, 0.0),\n",
       " (0.0, 0.0, 1.0)]"
      ]
     },
     "execution_count": 11,
     "metadata": {},
     "output_type": "execute_result"
    }
   ],
   "source": [
    "# convert mesh to pv_mesh\n",
    "def tri_to_pv(tri_mesh):\n",
    "    faces = np.pad(tri_mesh.faces, ((0, 0),(1,0)), 'constant', constant_values=3)\n",
    "    pv_mesh = pv.PolyData(tri_mesh.vertices, faces)\n",
    "    return pv_mesh\n",
    "\n",
    "p = pv.Plotter(notebook=True)\n",
    "\n",
    "base_lattice = l_bis[0]\n",
    "\n",
    "# Set the grid dimensions: shape + 1 because we want to inject our values on the CELL data\n",
    "grid = pv.UniformGrid()\n",
    "grid.dimensions = np.array(base_lattice.shape) + 1\n",
    "# The bottom left corner of the data set\n",
    "grid.origin = base_lattice.minbound - base_lattice.unit * 0.5 \n",
    "# These are the cell sizes along each axis\n",
    "grid.spacing = base_lattice.unit *0.5\n",
    "\n",
    "# adding the boundingbox wireframe\n",
    "p.add_mesh(grid.outline(), color=\"grey\", label=\"Domain\")\n",
    "\n",
    "# adding axes\n",
    "p.add_axes()\n",
    "p.show_bounds(grid=\"back\", location=\"back\", color=\"#aaaaaa\")\n",
    "\n",
    "def create_mesh(value):\n",
    "    i = int(value)\n",
    "    mesh = tiles_meshes[i]\n",
    "    lattice = l_bis[i]\n",
    "\n",
    "    # Add the data values to the cell data\n",
    "    grid.cell_arrays[\"cube\"] = lattice.flatten(order=\"F\").astype(int)# Flatten the array!\n",
    "    # filtering the voxels\n",
    "    threshed = grid.threshold([.9, 1.1], scalars=\"cube\")\n",
    "    # adding the voxels\n",
    "    p.add_mesh(threshed, name='sphere2', show_edges=True, opacity=0.2, show_scalar_bar=False, color=\"white\")\n",
    "\n",
    "    # adding the meshes\n",
    "    p.add_mesh(tri_to_pv(mesh), color='#abd8ff', name=\"sphere\")\n",
    "\n",
    "    return\n",
    "\n",
    "p.add_slider_widget(create_mesh, [0, len(tiles_meshes)], title='Tiles', value=1, event_type=\"always\", style=\"classic\", pointa=(0.1, 0.1), pointb=(0.9, 0.1))\n",
    "\n",
    "p.show(use_ipyvtk=True)"
   ]
  },
  {
   "cell_type": "markdown",
   "metadata": {},
   "source": [
    "### 2.4. Save the tile-set"
   ]
  },
  {
   "cell_type": "code",
   "execution_count": 12,
   "metadata": {},
   "outputs": [],
   "source": [
    "tiles_path = os.path.relpath('../data/bmc/bmc_tiles_new')\n",
    "bmc.save_tile_meshes(tiles_meshes, l_bis, tiles_path)"
   ]
  },
  {
   "cell_type": "markdown",
   "metadata": {},
   "source": [
    "## 3. Boolean Marching Cube\n",
    "\n",
    "### 3.1. Load lattices"
   ]
  },
  {
   "cell_type": "code",
   "execution_count": 11,
   "metadata": {},
   "outputs": [],
   "source": [
    "# extra import function\n",
    "def lattice_from_csv(file_path):\n",
    "    # read metadata\n",
    "    meta_df = pd.read_csv(file_path, nrows=3)\n",
    "\n",
    "    shape = np.array(meta_df['shape'])\n",
    "    unit = np.array(meta_df['unit'])\n",
    "    minbound = np.array(meta_df['minbound'])\n",
    "\n",
    "    # read lattice\n",
    "    lattice_df = pd.read_csv(file_path, skiprows=5)\n",
    "\n",
    "    # create the buffer\n",
    "    buffer = np.array(lattice_df['value']).reshape(shape)\n",
    "\n",
    "    # create the lattice\n",
    "    l = tg.to_lattice(buffer, minbound=minbound, unit=unit)\n",
    "\n",
    "    return l\n",
    "\n",
    "# loading the lattice from csv\n",
    "lattice_path = os.path.relpath('../data/final_envelope_new.csv')\n",
    "envelope_lattice = tg.lattice_from_csv(lattice_path)\n",
    "\n",
    "#loading the lattice from csv\n",
    "inner_part_path = os.path.relpath('../data/negative_opening.csv')\n",
    "inner_part_lattice = lattice_from_csv(inner_part_path)"
   ]
  },
  {
   "cell_type": "markdown",
   "metadata": {},
   "source": [
    "### 3.2 Load environment"
   ]
  },
  {
   "cell_type": "code",
   "execution_count": 12,
   "metadata": {},
   "outputs": [],
   "source": [
    "# loading the lattice from csv\n",
    "sun_acc_path = os.path.relpath('../data/sun_access_highres.csv')\n",
    "sun_acc_lattice = lattice_from_csv(sun_acc_path)\n",
    "\n",
    "# list the environment information layers (lattices)\n",
    "# the order should match the program matrix\n",
    "env_info = [sun_acc_lattice]"
   ]
  },
  {
   "cell_type": "markdown",
   "metadata": {},
   "source": [
    "### 3.3 Creating lattices"
   ]
  },
  {
   "cell_type": "markdown",
   "metadata": {},
   "source": [
    "#### 3.3.1 Facade lattice"
   ]
  },
  {
   "cell_type": "code",
   "execution_count": 14,
   "metadata": {},
   "outputs": [],
   "source": [
    "# create the stencil\n",
    "s = tg.create_stencil(\"von_neumann\", 1, 1)\n",
    "s.set_index([0,0,0], 0)\n",
    "\n",
    "# add the sum function to the stencil\n",
    "s.function = tg.sfunc.sum \n",
    "\n",
    "# apply the stencil on the lattice\n",
    "neighbor_sum = envelope_lattice.apply_stencil(s)\n",
    "\n",
    "# remove if 6\n",
    "facade_lattice = envelope_lattice * (neighbor_sum <= 5)"
   ]
  },
  {
   "cell_type": "markdown",
   "metadata": {},
   "source": [
    "#### 3.3.2 Ground Floor Lattice"
   ]
  },
  {
   "cell_type": "code",
   "execution_count": 15,
   "metadata": {},
   "outputs": [],
   "source": [
    "# Finding the index of the available voxels in avail_lattice\n",
    "avail_index = np.array(np.where(facade_lattice == 1)).T\n",
    "\n",
    "for vox_1d_ind in avail_index:\n",
    "    vox_3d_ind = np.unravel_index(vox_1d_ind, envelope_lattice.shape)\n",
    "    VX, VY, VZ = vox_3d_ind\n",
    "\n",
    "\n",
    "# Ground Floor\n",
    "ground_floor_lattice = facade_lattice * 0\n",
    "ground_floor_lattice[:,:,:1] = 1\n",
    "ground_floor_lattice *= facade_lattice"
   ]
  },
  {
   "cell_type": "markdown",
   "metadata": {},
   "source": [
    "#### 3.3.3 Inner part lattice"
   ]
  },
  {
   "cell_type": "code",
   "execution_count": 16,
   "metadata": {},
   "outputs": [],
   "source": [
    "# Inner part lattice\n",
    "g_0 = np.roll(inner_part_lattice, [0,2,0], [0,1,1])\n",
    "g_1 = np.roll(inner_part_lattice, [0,-2,0], [0,1,1])\n",
    "g_2 = np.roll(inner_part_lattice, [2,0,0], [0,1,1])\n",
    "g_3 = np.roll(inner_part_lattice, [-2,0,0], [0,1,1])\n",
    "\n",
    "inner_part_lattice = facade_lattice * (g_0 + g_1 + g_2 + g_3)\n",
    "inner_part_lattice[inner_part_lattice>1] = 1"
   ]
  },
  {
   "cell_type": "markdown",
   "metadata": {},
   "source": [
    "#### 3.3.4 Main outer part lattice"
   ]
  },
  {
   "cell_type": "code",
   "execution_count": 17,
   "metadata": {},
   "outputs": [],
   "source": [
    "# Main outer lattice by substracting the previous lattices from the facade lattice\n",
    "main_outer_lattice = facade_lattice - ground_floor_lattice - inner_part_lattice"
   ]
  },
  {
   "cell_type": "markdown",
   "metadata": {},
   "source": [
    "#### 3.3.5 Balcony lattice"
   ]
  },
  {
   "cell_type": "code",
   "execution_count": 18,
   "metadata": {},
   "outputs": [],
   "source": [
    "main_outer_flat = main_outer_lattice.flatten()\n",
    "main_outer_index = np.array(np.where(main_outer_lattice == 1)).T\n",
    "\n",
    "balcony_lattice = main_outer_lattice * 0 - 1\n",
    "\n",
    "# Randomly choosing three available voxels\n",
    "balcony_num = 50\n",
    "select_id = np.random.choice(len(main_outer_index), balcony_num)\n",
    "\n",
    "balc_origins = []\n",
    "for id in select_id:\n",
    "    balc_origins.append(main_outer_index[id])\n",
    "\n",
    "# adding the origins to the agents locations\n",
    "balc_locs = []\n",
    "# for each agent origin ... \n",
    "for a_origin in balc_origins:\n",
    "\n",
    "    # add the origin to the list of agent locations\n",
    "    balc_locs.append([a_origin])\n",
    "\n",
    "    # set the origin in availablity lattice as 0 (UNavailable)\n",
    "    main_outer_lattice[tuple(a_origin)] = False\n",
    "\n",
    "    # set the origin in occupation lattice as the agent id (a_id)\n",
    "    balcony_lattice[tuple(a_origin)] = 1"
   ]
  },
  {
   "cell_type": "markdown",
   "metadata": {},
   "source": [
    "### 3.3.extract cube lattice"
   ]
  },
  {
   "cell_type": "code",
   "execution_count": 20,
   "metadata": {},
   "outputs": [],
   "source": [
    "# Ground Floor\n",
    "ground_floor_cube_lattice = ground_floor_lattice.boolean_marching_cubes()\n",
    "\n",
    "# Opening\n",
    "inner_part_cube_lattice = inner_part_lattice.boolean_marching_cubes()\n",
    "\n",
    "# Main outer \n",
    "main_outer_cube_lattice = main_outer_lattice.boolean_marching_cubes()\n",
    "\n",
    "# Balcony\n",
    "balcony_cube_lattice = balcony_lattice.boolean_marching_cubes()"
   ]
  },
  {
   "cell_type": "markdown",
   "metadata": {},
   "source": [
    "### 3.4 Load the tile sets"
   ]
  },
  {
   "cell_type": "markdown",
   "metadata": {},
   "source": [
    "Here we load all the tile sets. In the first part of this notebook we locally have saved, for every tile sets, two materials. Therefor we can now load all the materials seperately so it will be easier to model textures. "
   ]
  },
  {
   "cell_type": "code",
   "execution_count": 21,
   "metadata": {},
   "outputs": [],
   "source": [
    "# Main outer part facade\n",
    "tiles_path_main_outer = os.path.relpath('../data/bmc/bmc_tiles_main')\n",
    "# Brick\n",
    "tiles_path_main_outer_brick = os.path.relpath('../data/bmc/bmc_tiles_main_brick')\n",
    "# Glass\n",
    "tiles_path_main_outer_glass = os.path.relpath('../data/bmc/bmc_tiles_main_glass')\n",
    "\n",
    "# Ground floor facade\n",
    "tiles_path_ground_floor = os.path.relpath('../data/bmc/bmc_tiles_ground_floor')\n",
    "# Brick\n",
    "tiles_path_ground_floor_brick = os.path.relpath('../data/bmc/bmc_tiles_ground_floor_brick')\n",
    "# Glass\n",
    "tiles_path_ground_floor_glass = os.path.relpath('../data/bmc/bmc_tiles_ground_floor_glass')\n",
    "\n",
    "# Balony \n",
    "tiles_path_balcony = os.path.relpath('../data/bmc/bmc_tiles_balcony')\n",
    "# Brick\n",
    "tiles_path_balcony_brick = os.path.relpath('../data/bmc/bmc_tiles_balcony_brick')\n",
    "# Glass\n",
    "tiles_path_balcony_glass = os.path.relpath('../data/bmc/bmc_tiles_balcony_glass')\n",
    "\n",
    "# Inner part facade\n",
    "tiles_path_inner_part = os.path.relpath('../data/bmc/bmc_tiles_inner')\n",
    "# Metal\n",
    "tiles_path_inner_part_metal = os.path.relpath('../data/bmc/bmc_tiles_inner_metal')\n",
    "# Glass\n",
    "tiles_path_inner_part_glass = os.path.relpath('../data/bmc/bmc_tiles_inner_glass')"
   ]
  },
  {
   "cell_type": "markdown",
   "metadata": {},
   "source": [
    "### 3.5 Boolean marching cubes"
   ]
  },
  {
   "cell_type": "code",
   "execution_count": 24,
   "metadata": {},
   "outputs": [],
   "source": [
    "# Ground Floor\n",
    "bmc_mesh_ground_floor = bmc.marching_cube_mesh(ground_floor_cube_lattice, tiles_path_ground_floor)\n",
    "# Brick\n",
    "bmc_mesh_ground_floor_brick = bmc.marching_cube_mesh(ground_floor_cube_lattice, tiles_path_ground_floor_brick) \n",
    "# Glass\n",
    "bmc_mesh_ground_floor_glass = bmc.marching_cube_mesh(ground_floor_cube_lattice, tiles_path_ground_floor_glass) \n",
    "\n",
    "# Inner part\n",
    "bmc_mesh_inner = bmc.marching_cube_mesh(inner_part_cube_lattice, tiles_path_inner_part) \n",
    "# Metal\n",
    "bmc_mesh_inner_metal = bmc.marching_cube_mesh(inner_part_cube_lattice, tiles_path_inner_part_metal) \n",
    "# Glass\n",
    "bmc_mesh_inner_glass = bmc.marching_cube_mesh(inner_part_cube_lattice, tiles_path_inner_part_glass) \n",
    "\n",
    "# # Balcony\n",
    "# bmc_mesh_balcony = bmc.marching_cube_mesh(balcony_cube_lattice, tiles_path_balcony)\n",
    "# # Brick\n",
    "# bmc_mesh_balcony_brick = bmc.marching_cube_mesh(balcony_cube_lattice, tiles_path_balcony_brick)\n",
    "# # Glass\n",
    "# bmc_mesh_balcony_glass = bmc.marching_cube_mesh(balcony_cube_lattice, tiles_path_balcony_glass)\n",
    "\n",
    "# Main outer part\n",
    "bmc_mesh_main_outer = bmc.marching_cube_mesh(main_outer_cube_lattice, tiles_path_main_outer) \n",
    "# Brick\n",
    "bmc_mesh_main_outer_brick = bmc.marching_cube_mesh(main_outer_cube_lattice, tiles_path_main_outer_brick) \n",
    "# Glass\n",
    "bmc_mesh_main_outer_glass = bmc.marching_cube_mesh(main_outer_cube_lattice, tiles_path_main_outer_glass) \n",
    "\n",
    "# Final\n",
    "bmc_mesh_final = bmc_mesh_ground_floor + bmc_mesh_main_outer + bmc_mesh_inner"
   ]
  },
  {
   "cell_type": "markdown",
   "metadata": {},
   "source": [
    "### 3.6. Visualize the final mesh"
   ]
  },
  {
   "cell_type": "code",
   "execution_count": null,
   "metadata": {
    "scrolled": false
   },
   "outputs": [],
   "source": [
    "# convert mesh to pv_mesh\n",
    "def tri_to_pv(tri_mesh):\n",
    "    faces = np.pad(tri_mesh.faces, ((0, 0),(0,0)), 'constant', constant_values=3)\n",
    "    pv_mesh = pv.PolyData(tri_mesh.vertices, faces)\n",
    "    return pv_mesh\n",
    "\n",
    "# initiating the plotter\n",
    "p = pv.Plotter(notebook=True)\n",
    "\n",
    "# adding the meshes\n",
    "p.add_mesh(tri_to_pv(bmc_mesh_final), color='#abd8ff', name=\"sphere\")\n",
    "\n",
    "# fast visualization of the lattice\n",
    "p = envelope_lattice.fast_vis(p)\n",
    "\n",
    "# plotting\n",
    "p.show(use_ipyvtk=True)"
   ]
  },
  {
   "cell_type": "markdown",
   "metadata": {},
   "source": [
    "### 3.7. Save the final mesh"
   ]
  },
  {
   "cell_type": "code",
   "execution_count": null,
   "metadata": {},
   "outputs": [],
   "source": [
    "final_mesh_path = os.path.relpath('../data/final_mesh.obj')\n",
    "\n",
    "with open(final_mesh_path, 'w') as file:\n",
    "        file.write(tm.exchange.obj.export_obj(bmc_mesh_final))"
   ]
  },
  {
   "cell_type": "markdown",
   "metadata": {},
   "source": [
    "### Credits"
   ]
  },
  {
   "cell_type": "code",
   "execution_count": null,
   "metadata": {},
   "outputs": [],
   "source": [
    "__author__ = \"Shervin Azadi\"\n",
    "__changes_made_by__ = \"Frank Vahstal\"\n",
    "__license__ = \"MIT\"\n",
    "__version__ = \"1.0\"\n",
    "__url__ = \"https://github.com/frankvahstal/spatial_computing_workshops\"\n",
    "__summary__ = \"Spatial Computing Design Studio Workshop on Polygonization\""
   ]
  }
 ],
 "metadata": {
  "kernelspec": {
   "display_name": "Python 3",
   "language": "python",
   "name": "python3"
  },
  "language_info": {
   "codemirror_mode": {
    "name": "ipython",
    "version": 3
   },
   "file_extension": ".py",
   "mimetype": "text/x-python",
   "name": "python",
   "nbconvert_exporter": "python",
   "pygments_lexer": "ipython3",
   "version": "3.8.4"
  }
 },
 "nbformat": 4,
 "nbformat_minor": 2
}