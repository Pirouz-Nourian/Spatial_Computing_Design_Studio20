{
 "cells": [
  {
   "cell_type": "markdown",
   "metadata": {},
   "source": [
    "# Noise Field\n",
    "[More about noise field](/spatial_computing_project_template/A3_Massing/Process/Noise%20Analysis/Noise%20analysis/)\n",
    "\n",
    "In this notebook we want to compute the distance field of the busy street the Heer Bokelweg which is approximately 100 meters away from the plot. This street will most likely produce noise for our building. This is why we would like to know how much noise there will be."
   ]
  },
  {
   "cell_type": "markdown",
   "metadata": {},
   "source": [
    "## 0. Initialization\n",
    "\n",
    "### 0.1. Load required libraries"
   ]
  },
  {
   "cell_type": "code",
   "execution_count": 1,
   "metadata": {},
   "outputs": [],
   "source": [
    "import os\n",
    "import topogenesis as tg\n",
    "import pyvista as pv\n",
    "import trimesh as tm\n",
    "import numpy as np\n",
    "import scipy as sp"
   ]
  },
  {
   "cell_type": "markdown",
   "metadata": {},
   "source": [
    "### 0.2. Load the envelope lattice as the avialbility lattice"
   ]
  },
  {
   "cell_type": "code",
   "execution_count": 2,
   "metadata": {},
   "outputs": [],
   "source": [
    "# loading the lattice from csv\n",
    "lattice_path = os.path.relpath('../data/final_envelope_new.csv')\n",
    "avail_lattice = tg.lattice_from_csv(lattice_path)\n",
    "init_avail_lattice = tg.to_lattice(np.copy(avail_lattice), avail_lattice)"
   ]
  },
  {
   "cell_type": "markdown",
   "metadata": {},
   "source": [
    "### 0.3. Load noise sources"
   ]
  },
  {
   "cell_type": "code",
   "execution_count": 3,
   "metadata": {
    "scrolled": true
   },
   "outputs": [],
   "source": [
    "# loading program (agents information) from CSV\n",
    "noise_source_path = os.path.relpath('../data/noise_points_new.csv')\n",
    "noise_sources = np.genfromtxt(noise_source_path, delimiter=',')"
   ]
  },
  {
   "cell_type": "markdown",
   "metadata": {},
   "source": [
    "## 1. Creation of Noise Field\n",
    "\n",
    "### 1.1. Computing noise lattices"
   ]
  },
  {
   "cell_type": "code",
   "execution_count": 4,
   "metadata": {
    "tags": []
   },
   "outputs": [],
   "source": [
    "# create full lattice\n",
    "full_lattice = avail_lattice * 0 + 1\n",
    "\n",
    "# extract the coordiantes of the centroid of all voxel\n",
    "vox_centroids = full_lattice.centroids\n",
    "\n",
    "# extract voxel indices of all voxels\n",
    "vox_indices = np.array(np.where(full_lattice==1)).T\n",
    "\n",
    "# setting the noise base pressure level \n",
    "# this level we got from the noise map of the \"Atlas van de Leefomgeving\"\n",
    "noise_base = 70.0\n",
    "\n",
    "# initializing the sum lattice of noise\n",
    "sum_noise_lats = avail_lattice * 0.0\n",
    "\n",
    "# for each source of noise\n",
    "for noise_src in noise_sources:\n",
    "    # initialize the occupation lattice\n",
    "    dist_latice = avail_lattice * 0.0\n",
    "\n",
    "    for cen, ind in zip(vox_centroids, vox_indices):\n",
    "        # compute the euclidian distance\n",
    "        dist_latice[tuple(ind)] = sp.spatial.distance.euclidean(cen, noise_src)\n",
    "\n",
    "    # computing the noise lattice from dist lattice\n",
    "    noise_latice = noise_base - 10 * np.log10(dist_latice) - 5\n",
    "    \n",
    "    # summing\n",
    "    sum_noise_lats += np.power(10, noise_latice / 10.0)\n",
    "\n",
    "\n",
    "# computing the final aggregation\n",
    "agg_noise_lats = 10 * np.log10(sum_noise_lats)"
   ]
  },
  {
   "cell_type": "markdown",
   "metadata": {},
   "source": [
    "### 1.2. Visualizing the noise lattices"
   ]
  },
  {
   "cell_type": "code",
   "execution_count": 5,
   "metadata": {},
   "outputs": [
    {
     "data": {
      "application/vnd.jupyter.widget-view+json": {
       "model_id": "9759751c7e454a45aee5619d59a43cd3",
       "version_major": 2,
       "version_minor": 0
      },
      "text/plain": [
       "ViewInteractiveWidget(height=768, layout=Layout(height='auto', width='100%'), width=1024)"
      ]
     },
     "metadata": {},
     "output_type": "display_data"
    },
    {
     "data": {
      "text/plain": [
       "[(1437.4594008982308, 1436.248814398231, 1449.288430048231),\n",
       " (18.23971549999999, 17.02912900000001, 30.06874465),\n",
       " (0.0, 0.0, 1.0)]"
      ]
     },
     "execution_count": 5,
     "metadata": {},
     "output_type": "execute_result"
    }
   ],
   "source": [
    "# convert mesh to pv_mesh\n",
    "def tri_to_pv(tri_mesh):\n",
    "    faces = np.pad(tri_mesh.faces, ((0, 0),(1,0)), 'constant', constant_values=3)\n",
    "    pv_mesh = pv.PolyData(tri_mesh.vertices, faces)\n",
    "    return pv_mesh\n",
    "\n",
    "# initiating the plotter\n",
    "p = pv.Plotter(notebook=True)\n",
    "\n",
    "# load the mesh from file\n",
    "context_path = os.path.relpath('../data/extended_context.obj')\n",
    "context_mesh = tm.load(context_path)\n",
    "\n",
    "# Create the spatial reference\n",
    "grid = pv.UniformGrid()\n",
    "\n",
    "vis_lattice = agg_noise_lats\n",
    "\n",
    "# Create the spatial reference\n",
    "grid = pv.UniformGrid()\n",
    "\n",
    "# Set the grid dimensions: shape because we want to inject our values\n",
    "grid.dimensions = vis_lattice.shape\n",
    "# The bottom left corner of the data set\n",
    "grid.origin = vis_lattice.minbound\n",
    "# These are the cell sizes along each axis\n",
    "grid.spacing = vis_lattice.unit\n",
    "\n",
    "# Add the data values to the cell data\n",
    "grid.point_arrays[\"Noise\"] = vis_lattice.flatten(order=\"F\")  # Flatten the Lattice\n",
    "\n",
    "# adding the meshes\n",
    "p.add_mesh(tri_to_pv(context_mesh), opacity=1.0, style='surface')\n",
    "\n",
    "# adding the volume\n",
    "opacity = np.array([0,0.6,0.6,0.6,0.6,0.6,0.6])*1.5\n",
    "p.add_volume(grid, cmap=\"coolwarm\" ,opacity=opacity, shade=True)\n",
    "\n",
    "# plotting\n",
    "p.show(use_ipyvtk=True)"
   ]
  },
  {
   "cell_type": "markdown",
   "metadata": {},
   "source": [
    "### 1.3. Save Noise lattice to CSV"
   ]
  },
  {
   "cell_type": "code",
   "execution_count": 6,
   "metadata": {},
   "outputs": [],
   "source": [
    "# save the sun access latice to csv\n",
    "\n",
    "csv_path = os.path.relpath('../data/HeerBokelweg_noise.csv')\n",
    "agg_noise_lats.to_csv(csv_path)"
   ]
  },
  {
   "cell_type": "markdown",
   "metadata": {},
   "source": [
    "### Credits"
   ]
  },
  {
   "cell_type": "code",
   "execution_count": 7,
   "metadata": {},
   "outputs": [],
   "source": [
    "__author__ = \"Shervin Azadi\"\n",
    "__changes_made_by__ = \"Frank Vahstal\"\n",
    "__license__ = \"MIT\"\n",
    "__version__ = \"1.0\"\n",
    "__url__ = \"https://github.com/frankvahstal/spatial_computing_workshops\"\n",
    "__summary__ = \"Spatial Computing Design Studio Workshop on Noise Fields\""
   ]
  }
 ],
 "metadata": {
  "kernelspec": {
   "display_name": "Python 3",
   "language": "python",
   "name": "python3"
  },
  "language_info": {
   "codemirror_mode": {
    "name": "ipython",
    "version": 3
   },
   "file_extension": ".py",
   "mimetype": "text/x-python",
   "name": "python",
   "nbconvert_exporter": "python",
   "pygments_lexer": "ipython3",
   "version": "3.8.4"
  }
 },
 "nbformat": 4,
 "nbformat_minor": 2
}