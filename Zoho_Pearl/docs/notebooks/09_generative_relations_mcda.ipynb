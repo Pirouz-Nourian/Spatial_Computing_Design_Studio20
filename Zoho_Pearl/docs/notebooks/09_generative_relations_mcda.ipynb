{
 "cells": [
  {
   "cell_type": "markdown",
   "metadata": {},
   "source": [
    "# Generative Relations: MCDA\n",
    "\n",
    "In this workshop, we will learn how enable agents to utilize MCDA (Multi Criteria Decision Analyses) in their spatial behaviors."
   ]
  },
  {
   "cell_type": "markdown",
   "metadata": {},
   "source": [
    "## 0. Initialization\n",
    "\n",
    "### 0.1. Load required libraries"
   ]
  },
  {
   "cell_type": "code",
   "execution_count": 1,
   "metadata": {},
   "outputs": [],
   "source": [
    "import os\n",
    "import matplotlib as mpl\n",
    "import matplotlib.pyplot as plt\n",
    "from matplotlib import cm\n",
    "import topogenesis as tg\n",
    "import pyvista as pv\n",
    "import trimesh as tm\n",
    "import numpy as np\n",
    "import networkx as nx\n",
    "import pandas as pd\n",
    "import scipy as sp\n",
    "\n",
    "np.random.seed(0)"
   ]
  },
  {
   "cell_type": "code",
   "execution_count": 2,
   "metadata": {},
   "outputs": [],
   "source": [
    "# extra import function\n",
    "def lattice_from_csv(file_path):\n",
    "    # read metadata\n",
    "    meta_df = pd.read_csv(file_path, nrows=3)\n",
    "\n",
    "    shape = np.array(meta_df['shape'])\n",
    "    unit = np.array(meta_df['unit'])\n",
    "    minbound = np.array(meta_df['minbound'])\n",
    "\n",
    "    # read lattice\n",
    "    lattice_df = pd.read_csv(file_path, skiprows=5)\n",
    "\n",
    "    # create the buffer\n",
    "    buffer = np.array(lattice_df['value']).reshape(shape)\n",
    "\n",
    "    # create the lattice\n",
    "    l = tg.to_lattice(buffer, minbound=minbound, unit=unit)\n",
    "\n",
    "    return l"
   ]
  },
  {
   "cell_type": "markdown",
   "metadata": {},
   "source": [
    "### 0.2. Define the Neighborhood (Stencil)"
   ]
  },
  {
   "cell_type": "code",
   "execution_count": 3,
   "metadata": {},
   "outputs": [],
   "source": [
    "# creating neighborhood definition\n",
    "stencil = tg.create_stencil(\"von_neumann\", 1, 1)\n",
    "# setting the center to zero\n",
    "stencil.set_index([0,0,0], 0)"
   ]
  },
  {
   "cell_type": "markdown",
   "metadata": {},
   "source": [
    "### 0.3. Load the envelope lattice as the availability lattice"
   ]
  },
  {
   "cell_type": "code",
   "execution_count": 4,
   "metadata": {},
   "outputs": [],
   "source": [
    "# loading the lattice from csv\n",
    "lattice_path = os.path.relpath(\"data/lattice_complete_3_6.csv')\n",
    "avail_lattice = lattice_from_csv(lattice_path)\n",
    "init_avail_lattice = tg.to_lattice(np.copy(avail_lattice), avail_lattice)"
   ]
  },
  {
   "cell_type": "markdown",
   "metadata": {},
   "source": [
    "### 0.4. Load Agents Information"
   ]
  },
  {
   "cell_type": "code",
   "execution_count": 5,
   "metadata": {},
   "outputs": [],
   "source": [
    "# loading program (agents information) from CSV\n",
    "prgm_path = os.path.relpath(\"data/matrix.csv\")\n",
    "agn_info = np.genfromtxt(prgm_path, delimiter=',')[1:, 1:]\n",
    "agn_ids = agn_info[:, 0]\n",
    "# extract agent ids\n",
    "agn_ids = agn_info[:, 0]\n",
    "# extract agent preferences\n",
    "agn_prefs = agn_info[:, 1:27]\n",
    "# extract agent space area\n",
    "agn_space_area = agn_info[:, 27]\n",
    "# extract the initial location \n",
    "agn_initial_loc = agn_info[:, 28].astype(int)\n",
    "#print(agn_prefs.shape)\n",
    "#print(agn_ids_space)\n",
    "#print(agn_ids_entrance)\n",
    "#print(agn_prefs)\n",
    "#print(agn_initial_loc)"
   ]
  },
  {
   "cell_type": "code",
   "execution_count": 6,
   "metadata": {},
   "outputs": [
    {
     "data": {
      "text/plain": [
       "1.0"
      ]
     },
     "execution_count": 6,
     "metadata": {},
     "output_type": "execute_result"
    }
   ],
   "source": [
    "agn_data = pd.read_csv(prgm_path)\n",
    "agn_data.loc[1][\"sun_access\"]"
   ]
  },
  {
   "cell_type": "code",
   "execution_count": 7,
   "metadata": {},
   "outputs": [
    {
     "data": {
      "text/plain": [
       "space_name                       Atrium\n",
       "space_id                              0\n",
       "Atrium                                1\n",
       "Courtyard                             1\n",
       "Starter_housing                       0\n",
       "Assisted_living                       0\n",
       "Student_housing                       0\n",
       "Supermarket                         0.2\n",
       "Cafe_restaurant_pub                 0.2\n",
       "Cinema                              0.2\n",
       "Arcade                              0.2\n",
       "Workshops                           0.2\n",
       "Community_center                      0\n",
       "Co_cooking_center                     0\n",
       "Library                             0.2\n",
       "Gym                                   0\n",
       "Laundry_room                          0\n",
       "Ent_access_courtyard                  0\n",
       "Ent_access_trashroom                  0\n",
       "Ent_access_parking                    0\n",
       "Ent_access_supermarket                0\n",
       "Ent_access_library                    0\n",
       "Ent_access_cinema_cafe_arcade         0\n",
       "Ent_access_atrium                     1\n",
       "sun_access                            1\n",
       "sky_view                              0\n",
       "silent_level_active                 0.6\n",
       "noise_sensitivity                     0\n",
       "space_area                          188\n",
       "initial_loc                          -1\n",
       "0 floor                               1\n",
       "1 floor                               0\n",
       "Name: 0, dtype: object"
      ]
     },
     "execution_count": 7,
     "metadata": {},
     "output_type": "execute_result"
    }
   ],
   "source": [
    "agn_data.loc[0]"
   ]
  },
  {
   "cell_type": "markdown",
   "metadata": {},
   "source": [
    "### 0.5. Initialize environment information layers from Sun Access Lattice, Sky View Lattice, Noise Lattice, "
   ]
  },
  {
   "cell_type": "code",
   "execution_count": 8,
   "metadata": {},
   "outputs": [],
   "source": [
    "# loading the lattice from csv\n",
    "sun_acc_path = os.path.relpath(\"data/solar_access_complete_3_6.csv\")\n",
    "sun_acc_lattice = lattice_from_csv(sun_acc_path)\n",
    "\n",
    "# list the environment information layers (lattices)\n",
    "# the order should match the program matrix\n",
    "env_info_dict = {\"sun_access\": sun_acc_lattice,\n",
    "                 #\"test_layer\": test_latice\n",
    "                }\n",
    "env_info = [sun_acc_lattice]\n",
    "\n",
    "\n",
    "\n",
    "# loading the lattice from csv\n",
    "skyview_acc_path = os.path.relpath(\"data/roof_access_3_6.csv\")\n",
    "skyview_acc_lattice = lattice_from_csv(sun_acc_path)\n",
    "\n",
    "# list the environment information layers (lattices)\n",
    "# the order should match the program matrix\n",
    "env_info_dict = {\"sky_view\": skyview_acc_lattice,\n",
    "                 #\"test_layer\": test_latice\n",
    "                }\n",
    "env_info = [skyview_acc_lattice]\n",
    "\n",
    "\n",
    "# loading the lattice from csv\n",
    "external_noise_acc_path = os.path.relpath(\"data/sound_3_6.csv\")\n",
    "external_noise_acc_lattice = lattice_from_csv(sun_acc_path)\n",
    "\n",
    "# list the environment information layers (lattices)\n",
    "# the order should match the program matrix\n",
    "env_info_dict = {\"noise_sensitivity \": external_noise_acc_lattice,\n",
    "                 #\"test_layer\": test_latice\n",
    "                }\n",
    "env_info = [external_noise_acc_lattice]"
   ]
  },
  {
   "cell_type": "markdown",
   "metadata": {},
   "source": [
    "# 1. ABM Simulation\n",
    "\n",
    "### 1.1. Initialize the Agents"
   ]
  },
  {
   "cell_type": "code",
   "execution_count": 9,
   "metadata": {},
   "outputs": [],
   "source": [
    "# initialize the occupation lattice\n",
    "occ_lattice = avail_lattice * 0 - 1\n",
    "\n",
    "# Finding the index of the available voxels in avail_lattice\n",
    "avail_flat = avail_lattice.flatten()\n",
    "avail_index = np.array(np.where(avail_lattice == 1)).T\n",
    "\n",
    "# count the number of spaces (rows) and intiialize an agent for each space\n",
    "agn_num = len(agn_info) \n",
    "# choose the initial location of agents randomly\n",
    "select_id = np.random.choice(len(avail_index), agn_num, replace=False)\n",
    "agn_origins = avail_index[select_id]\n",
    "\n",
    "# adding the origins to the agents locations\n",
    "agn_locs = []\n",
    "\n",
    "# for each agent origin ... \n",
    "for a_id, a_origin, a_init_loc in zip(agn_ids, agn_origins, agn_initial_loc):\n",
    "    if a_init_loc == -1:\n",
    "        final_a_origin = a_origin\n",
    "    else:\n",
    "        final_a_origin = np.unravel_index(a_init_loc, avail_lattice.shape)\n",
    "    # add the origin to the list of agent locations\n",
    "    agn_locs.append([final_a_origin])\n",
    "\n",
    "    # set the origin in availablity lattice as 0 (UNavailable)\n",
    "    avail_lattice[tuple(final_a_origin)] = 0\n",
    "\n",
    "    # set the origin in occupation lattice as the agent id (a_id)\n",
    "    occ_lattice[tuple(final_a_origin)] = int(a_id) # this is now based on the id of the agent in the program"
   ]
  },
  {
   "cell_type": "code",
   "execution_count": 10,
   "metadata": {},
   "outputs": [],
   "source": [
    "def floor_level_lattice(target_floor, avail_lattice):\n",
    "    # initialize the floor lattice\n",
    "    floor_lattice = avail_lattice * 0.0\n",
    "    # cut a single column out\n",
    "    single_column = floor_lattice[0,0,:]\n",
    "    # specify a range array based on the number of voxels in th ecolumn\n",
    "    range_column = np.arange(single_column.size)\n",
    "    # compute the distances based on the range column\n",
    "    distance_column = (1 / (np.abs(range_column - target_floor) + 1)**2).reshape(1, 1, avail_lattice.shape[2])\n",
    "    # compute the floor lattice\n",
    "    floor_lattice += distance_column\n",
    "    # return the floor lattice\n",
    "    return floor_lattice\n",
    "\n",
    "# define the ground floor lattice\n",
    "ground_floor_lattice = floor_level_lattice(0, avail_lattice)\n",
    "# define the first floor lattice\n",
    "first_floor_lattice = floor_level_lattice(1, avail_lattice)\n",
    "\n",
    "# add to dictionary\n",
    "env_info_dict[\"0 floor\"] = ground_floor_lattice\n",
    "env_info_dict[\"1 floor\"] = first_floor_lattice\n"
   ]
  },
  {
   "cell_type": "code",
   "execution_count": 11,
   "metadata": {},
   "outputs": [
    {
     "name": "stdout",
     "output_type": "stream",
     "text": [
      "0 noise_sensitivity \n",
      "1 0 floor\n",
      "2 1 floor\n"
     ]
    },
    {
     "data": {
      "application/vnd.jupyter.widget-view+json": {
       "model_id": "f88371fd75134fa898338515740ba9ce",
       "version_major": 2,
       "version_minor": 0
      },
      "text/plain": [
       "ViewInteractiveWidget(height=768, layout=Layout(height='auto', width='100%'), width=1024)"
      ]
     },
     "metadata": {},
     "output_type": "display_data"
    },
    {
     "data": {
      "text/plain": [
       "[(246.73679328932968, 145.93679328932967, 225.13679328932966),\n",
       " (48.60000000000001, -52.2, 27.0),\n",
       " (0.0, 0.0, 1.0)]"
      ]
     },
     "execution_count": 11,
     "metadata": {},
     "output_type": "execute_result"
    }
   ],
   "source": [
    "# visualizing the info lattices\n",
    "p = pv.Plotter(notebook=True)\n",
    "\n",
    "info_val_list = list(env_info_dict.values())\n",
    "info_key_list = env_info_dict.keys()\n",
    "for i, k in enumerate(info_key_list):\n",
    "    print(i, k)\n",
    "\n",
    "base_lattice = info_val_list[0]\n",
    "\n",
    "# Create the spatial reference\n",
    "grid = pv.UniformGrid()\n",
    "\n",
    "# Set the grid dimensions: shape because we want to inject our values\n",
    "grid.dimensions = base_lattice.shape\n",
    "# The bottom left corner of the data set\n",
    "grid.origin = base_lattice.minbound\n",
    "# These are the cell sizes along each axis\n",
    "grid.spacing = base_lattice.unit\n",
    "\n",
    "def create_mesh(value):\n",
    "    f = int(value)\n",
    "    lattice = info_val_list[f]\n",
    "\n",
    "    # Add the data values to the cell data\n",
    "    grid.point_arrays[\"info\"] = lattice.flatten(order=\"F\")  # Flatten the Lattice\n",
    "        \n",
    "    # adding the volume\n",
    "    opacity = np.array([0,0.6,0.6,0.6,0.6,0.6,0.6])*1.5\n",
    "    p.add_volume(grid, cmap=\"coolwarm\", name='sphere', clim=[0.0, 1.0],opacity=opacity, shade=True)\n",
    "\n",
    "    return\n",
    "\n",
    "p.add_slider_widget(create_mesh, [0, len(info_val_list)-1], title='Time', value=0, event_type=\"always\", style=\"classic\", pointa=(0.1, 0.1), pointb=(0.9, 0.1))\n",
    "p.show(use_ipyvtk=True)"
   ]
  },
  {
   "cell_type": "code",
   "execution_count": 17,
   "metadata": {},
   "outputs": [],
   "source": [
    "def dynamic_noise_lattice(agn_locs, avail_lattice):\n",
    "\n",
    "    # define the noise range\n",
    "    noise_range = [10.0, 60.0]\n",
    "    \n",
    "    # initialize noise sources\n",
    "    noise_src_points = []\n",
    "    noise_src_levels = []\n",
    "\n",
    "    # iterate over agents\n",
    "    for a_id in range(len(agn_locs)):\n",
    "        # extract agent locations\n",
    "        a_locs = agn_locs[a_id]\n",
    "        # retrieve the silent level of the agent\n",
    "        a_noise_level_mapped = 1 - agn_data.loc[a_id][\"silent_level_active\"]\n",
    "        # mapping the [0,1] values to noise level (db)\n",
    "        a_noise_level = a_noise_level_mapped * (noise_range[1] - noise_range[0]) + noise_range[0]\n",
    "\n",
    "        # for each agent location\n",
    "        for a_loc in a_locs:\n",
    "            # append the noise source information\n",
    "            noise_src_points.append(a_loc)\n",
    "            noise_src_levels.append(a_noise_level)\n",
    "\n",
    "    # convert to numpy array\n",
    "    noise_src_points = np.array(noise_src_points)\n",
    "\n",
    "    # create full lattice\n",
    "    full_lattice = avail_lattice * 0 + 1\n",
    "\n",
    "    # extract the coordiantes of the centroid of all voxel\n",
    "    vox_centroids = full_lattice.centroids\n",
    "\n",
    "    # extract voxel indices of all voxels\n",
    "    vox_indices = np.array(np.where(full_lattice==1)).T\n",
    "    \n",
    "    # initializing the sum lattice of noise\n",
    "    sum_noise_lats = avail_lattice * 0.0\n",
    "\n",
    "    # for each source of noise\n",
    "    for src_point, src_level in zip(noise_src_points,noise_src_levels):\n",
    "        # initialize the occupation lattice\n",
    "        dist_latice = avail_lattice * 0.0\n",
    "\n",
    "        for cen, ind in zip(vox_centroids, vox_indices):\n",
    "            # compute the euclidian distance\n",
    "            dist_latice[tuple(ind)] = sp.spatial.distance.euclidean(cen, src_point)\n",
    "\n",
    "        # computing the noise lattice from dist lattice\n",
    "        noise_latice = src_level - 20 * np.log10(dist_latice) - 8\n",
    "\n",
    "        # summing\n",
    "        sum_noise_lats += np.power(10, noise_latice / 10.0)\n",
    "\n",
    "    # computing the final aggregation\n",
    "    agg_noise_lats = 10 * np.log10(sum_noise_lats)\n",
    "    \n",
    "    # normalizing the noise values\n",
    "    normalized_silence_lattice = 1 - (agg_noise_lats - np.min(agg_noise_lats)) / (np.max(agg_noise_lats) - np.min(agg_noise_lats))\n",
    "\n",
    "    return normalized_silence_lattice"
   ]
  },
  {
   "cell_type": "markdown",
   "metadata": {},
   "source": [
    "# 1.2. Running the Simulation"
   ]
  },
  {
   "cell_type": "code",
   "execution_count": 18,
   "metadata": {},
   "outputs": [],
   "source": [
    "dynamic_info = {\"noise_sensitivity \": dynamic_noise_lattice,\n",
    "                \n",
    "                \n",
    "               }"
   ]
  },
  {
   "cell_type": "code",
   "execution_count": null,
   "metadata": {
    "tags": []
   },
   "outputs": [],
   "source": [
    "# make a deep copy of occupation lattice\n",
    "cur_occ_lattice = tg.to_lattice(np.copy(occ_lattice), occ_lattice)\n",
    "# initialzing the list of frames\n",
    "frames = [cur_occ_lattice]\n",
    "\n",
    "# setting the time variable to 0\n",
    "t = 0\n",
    "n_frames = max(agn_space_area)\n",
    "# Simulation Loop\n",
    "# main feedback loop of the simulation (for each time step ...)\n",
    "while t<n_frames:\n",
    "    # update the info lattices\n",
    "    # iterate over dynamic lattices\n",
    "    for info_key, info_function in dynamic_info.items():\n",
    "        env_info_dict[info_key] = info_function(agn_locs, avail_lattice)\n",
    "        # env_info_dict[\"noise_sensitivity \"] = dynamic_noise_lattice(agn_locs, avail_lattice)\n",
    "        \n",
    "    # Agent Loop\n",
    "    # for each agent ... \n",
    "    for a_id in range(agn_num):\n",
    "        # retrieve the list of the locations of the current agent\n",
    "        a_locs = agn_locs[a_id]\n",
    "        # Make sure there are no more voxels than specified (area check)\n",
    "        if len(a_locs) < agn_data.loc[a_id][\"space_area\"]:# agn_space_area[a_id]: \n",
    "            # initialize the list of free neighbours\n",
    "            free_neighs = []\n",
    "            # Location loop\n",
    "            # for each location of the agent\n",
    "            for loc in a_locs:\n",
    "                # retrieve the list of neighbours of the agent based on the stencil\n",
    "                neighs = avail_lattice.find_neighbours_masked(stencil, loc = loc)\n",
    "            \n",
    "                # for each neighbour ... \n",
    "                for n in neighs:\n",
    "                    # compute 3D index of neighbour\n",
    "                    neigh_3d_id = np.unravel_index(n, avail_lattice.shape)\n",
    "                    # if the neighbour is available... \n",
    "                    if avail_lattice[neigh_3d_id]:\n",
    "                        # add the neighbour to the list of free neighbours\n",
    "                        free_neighs.append(neigh_3d_id)\n",
    "            \n",
    "            # check if found any free neighbour\n",
    "            if len(free_neighs)>0:   \n",
    "                # convert free neighbours to a numpy array\n",
    "                free_neighs = np.array(free_neighs)\n",
    "\n",
    "                # retrieving the entrance access value of the free neighbours\n",
    "                neigh_vals = []\n",
    "                # retrieve agent preferences\n",
    "                a_pref = agn_prefs[a_id]\n",
    "                a_pref_dict = agn_data.loc[a_id].to_dict()\n",
    "                # Neighbour Evaluation Loop\n",
    "                for neigh in free_neighs:\n",
    "                    neigh_value = 1.0\n",
    "                    # for every lattice in the environment informations\n",
    "                    for info_key, info_lattice in env_info_dict.items():\n",
    "                        # Here we utilise Fuzzy Logics to be able to compare different layers \n",
    "                        # of environmental information and evaluate the voxel for the agent. \n",
    "                        # This method is introduced, and generalised in Pirouz Nourian dissertation: \n",
    "                        # section 5.7.3, pp. 201-208, eq. 57. You can refer to this section for \n",
    "                        # comprehensive mathematical details.\n",
    "                        vox_val = info_lattice[tuple(neigh)]\n",
    "                        agn_vox_val = np.power(vox_val, a_pref_dict[info_key])\n",
    "                        neigh_value *= agn_vox_val\n",
    "                    # add the neighbour value to the list of values\n",
    "                    neigh_vals.append(neigh_value)\n",
    "            \n",
    "                # convert to numpy array\n",
    "                neigh_vals = np.array(neigh_vals)\n",
    "                # select the neighbour with highest value \n",
    "                selected_int = np.argmax(neigh_vals) \n",
    "                # find 3D intiger index of selected neighbour\n",
    "                selected_neigh_3d_id = tuple(free_neighs[selected_int].T)\n",
    "                # find the location of the newly selected neighbour\n",
    "                selected_neigh_loc = np.array(selected_neigh_3d_id).flatten()\n",
    "\n",
    "                # add the newly selected neighbour location to agent locations\n",
    "                agn_locs[a_id].append(selected_neigh_loc)\n",
    "                # set the newly selected neighbour as UNavailable (0) in the availability lattice\n",
    "                avail_lattice[selected_neigh_3d_id] = 0\n",
    "                # set the newly selected neighbour as OCCUPIED by current agent \n",
    "                # (-1 means not-occupied so a_id)\n",
    "                occ_lattice[selected_neigh_3d_id] = a_id\n",
    "\n",
    "    # constructing the new lattice\n",
    "    new_occ_lattice = tg.to_lattice(np.copy(occ_lattice), occ_lattice)\n",
    "    # adding the new lattice to the list of frames\n",
    "    frames.append(new_occ_lattice)\n",
    "    # adding one to the time counter\n",
    "    t += 1\n"
   ]
  },
  {
   "cell_type": "markdown",
   "metadata": {},
   "source": [
    "### 1.3. Visualizing the simulation"
   ]
  },
  {
   "cell_type": "code",
   "execution_count": 15,
   "metadata": {
    "scrolled": false
   },
   "outputs": [
    {
     "data": {
      "application/vnd.jupyter.widget-view+json": {
       "model_id": "c70cb8a06abe43358186a578e15e3a14",
       "version_major": 2,
       "version_minor": 0
      },
      "text/plain": [
       "ViewInteractiveWidget(height=768, layout=Layout(height='auto', width='100%'), width=1024)"
      ]
     },
     "metadata": {},
     "output_type": "display_data"
    },
    {
     "data": {
      "text/plain": [
       "[(253.02459757597026, 152.2245973852354, 231.42459588319835),\n",
       " (48.60000133514404, -52.19999885559082, 26.99999964237213),\n",
       " (0.0, 0.0, 1.0)]"
      ]
     },
     "execution_count": 15,
     "metadata": {},
     "output_type": "execute_result"
    }
   ],
   "source": [
    "p = pv.Plotter(notebook=True)\n",
    "\n",
    "base_lattice = frames[0]\n",
    "\n",
    "# Set the grid dimensions: shape + 1 because we want to inject our values on the CELL data\n",
    "grid = pv.UniformGrid()\n",
    "grid.dimensions = np.array(base_lattice.shape) + 1\n",
    "# The bottom left corner of the data set\n",
    "grid.origin = base_lattice.minbound - base_lattice.unit * 0.5\n",
    "# These are the cell sizes along each axis\n",
    "grid.spacing = base_lattice.unit \n",
    "\n",
    "# adding the boundingbox wireframe\n",
    "p.add_mesh(grid.outline(), color=\"grey\", label=\"Domain\")\n",
    "\n",
    "# adding the avilability lattice\n",
    "init_avail_lattice.fast_vis(p)\n",
    "\n",
    "# adding axes\n",
    "p.add_axes()\n",
    "p.show_bounds(grid=\"back\", location=\"back\", color=\"#aaaaaa\")\n",
    "\n",
    "#Make a dictonary for the annotations\n",
    "space_list = {\n",
    "    0: \"Atrium\",\n",
    "    1: \"Courtyard\",\n",
    "    2: \"Starter housing\",\n",
    "    3: \"Assisted living\",\n",
    "    4: \"Student housing\",\n",
    "    5: \"Supermarket\",\n",
    "    6: \"Cafe restaurant pub\",\n",
    "    7: \"Cinema\",\n",
    "    8: \"Arcade\",\n",
    "    9: \"Workshops\",\n",
    "    10: \"Community center\",\n",
    "    11: \"Co cooking center\",\n",
    "    12: \"Library\",\n",
    "    13: \"Gym\",\n",
    "    14: \"Laundry room\",\n",
    "    15: \"Green_roof\",\n",
    "    16: \"Entrance courtyard\",\n",
    "    17: \"Entrance trashroom\",\n",
    "    18: \"Entrance parking\",\n",
    "    19: \"Entrance supermarket\",\n",
    "    20: \"Entrance library\",\n",
    "    21: \"Entrance cinema cafe arcade\",\n",
    "    22: \"Entrance atrium\",\n",
    "}\n",
    "#make a dictionary for \n",
    "sargs = dict(\n",
    "    shadow = True,\n",
    "    n_labels = 0,\n",
    "    italic = False,\n",
    "    fmt =\"%.0f\",\n",
    "    font_family=\"arial\",\n",
    "    height = 0.6,\n",
    "    vertical = True,\n",
    "    position_x = 1.05,\n",
    "    position_y = 1)\n",
    "\n",
    "\n",
    "def create_mesh(value):\n",
    "    f = int(value)\n",
    "    lattice = frames[f]\n",
    "\n",
    "    # Add the data values to the cell data\n",
    "    grid.cell_arrays[\"Agents\"] = lattice.flatten(order=\"F\").astype(int)  # Flatten the array!\n",
    "    # filtering the voxels\n",
    "    threshed = grid.threshold([-0.1, agn_num - 0.9])\n",
    "    # adding the voxels\n",
    "    p.add_mesh(threshed, name='sphere', show_edges=True, opacity=1.0, show_scalar_bar=True, annotations = space_list, scalar_bar_args=sargs, cmap=\"tab20b\")\n",
    "   \n",
    "   \n",
    "    return\n",
    "\n",
    "    \n",
    "p.add_slider_widget(create_mesh, [0, n_frames], title='Time', value=0, event_type=\"always\", style=\"classic\", pointa=(0.1, 0.2), pointb=(0.9, 0.2))\n",
    "p.show(use_ipyvtk=True)"
   ]
  },
  {
   "cell_type": "markdown",
   "metadata": {},
   "source": [
    "### 2.3. Saving lattice frames in CSV"
   ]
  },
  {
   "cell_type": "code",
   "execution_count": null,
   "metadata": {},
   "outputs": [],
   "source": [
    "for i, lattice in enumerate(frames):\n",
    "    csv_path = os.path.relpath(\"data/abm/abm_f_\"+ f'{i:03}' + '.csv')\n",
    "    lattice.to_csv(csv_path)"
   ]
  },
  {
   "cell_type": "markdown",
   "metadata": {},
   "source": [
    "### Credits"
   ]
  },
  {
   "cell_type": "code",
   "execution_count": null,
   "metadata": {},
   "outputs": [],
   "source": [
    "__author__ = \"Shervin Azadi and Pirouz Nourian\"\n",
    "__license__ = \"MIT\"\n",
    "__version__ = \"1.0\"\n",
    "__url__ = \"https://github.com/shervinazadi/spatial_computing_workshops\"\n",
    "__summary__ = \"Spatial Computing Design Studio Workshop on MCDA and Path Finding for Generative Spatial Relations\""
   ]
  },
  {
   "cell_type": "code",
   "execution_count": null,
   "metadata": {},
   "outputs": [],
   "source": []
  },
  {
   "cell_type": "code",
   "execution_count": null,
   "metadata": {},
   "outputs": [],
   "source": []
  },
  {
   "cell_type": "code",
   "execution_count": null,
   "metadata": {},
   "outputs": [],
   "source": []
  },
  {
   "cell_type": "code",
   "execution_count": null,
   "metadata": {},
   "outputs": [],
   "source": []
  },
  {
   "cell_type": "code",
   "execution_count": null,
   "metadata": {},
   "outputs": [],
   "source": []
  },
  {
   "cell_type": "code",
   "execution_count": null,
   "metadata": {},
   "outputs": [],
   "source": []
  },
  {
   "cell_type": "code",
   "execution_count": null,
   "metadata": {},
   "outputs": [],
   "source": []
  },
  {
   "cell_type": "code",
   "execution_count": null,
   "metadata": {},
   "outputs": [],
   "source": []
  }
 ],
 "metadata": {
  "kernelspec": {
   "display_name": "Python 3",
   "language": "python",
   "name": "python3"
  },
  "language_info": {
   "codemirror_mode": {
    "name": "ipython",
    "version": 3
   },
   "file_extension": ".py",
   "mimetype": "text/x-python",
   "name": "python",
   "nbconvert_exporter": "python",
   "pygments_lexer": "ipython3",
   "version": "3.8.4"
  }
 },
 "nbformat": 4,
 "nbformat_minor": 2
}
