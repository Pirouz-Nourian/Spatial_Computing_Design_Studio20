{
 "cells": [
  {
   "cell_type": "code",
   "execution_count": null,
   "metadata": {},
   "outputs": [],
   "source": [
    "import os\n",
    "import topogenesis as tg\n",
    "import pyvista as pv\n",
    "import trimesh as tm\n",
    "import numpy as np\n",
    "import pickle\n",
    "import csv\n",
    "import pandas as pd"
   ]
  },
  {
   "cell_type": "code",
   "execution_count": null,
   "metadata": {},
   "outputs": [],
   "source": [
    "#This script is to translate the grown 7_2 model back to a voxel size of 3_6\n",
    "########################################################################################\n",
    "#definition to properly load a value lattice\n",
    "def lattice_from_csv(file_path):\n",
    "    # read metadata\n",
    "    meta_df = pd.read_csv(file_path, nrows=3)\n",
    "\n",
    "    shape = np.array(meta_df['shape'])\n",
    "    unit = np.array(meta_df['unit'])\n",
    "    minbound = np.array(meta_df['minbound'])\n",
    "\n",
    "    # read lattice\n",
    "    lattice_df = pd.read_csv(file_path, skiprows=5)\n",
    "\n",
    "    # create the buffer\n",
    "    buffer = np.array(lattice_df['value']).reshape(shape)\n",
    "\n",
    "    # create the lattice\n",
    "    l = tg.to_lattice(buffer, minbound=minbound, unit=unit)\n",
    "\n",
    "    return l\n",
    "########################################################################################\n",
    "\n",
    "\n",
    "########################################################################################\n",
    "#Loading the complete lattice and the final grown abm_f\n",
    "lattice_path = os.path.relpath(\"data\\lattice_complete_3_6.csv\")\n",
    "complete_lattice_3_6 = tg.lattice_from_csv(lattice_path)\n",
    "\n",
    "lattice_path = os.path.relpath(\"data\\abm\\abm_f_354.csv\")\n",
    "avail_lattice = lattice_from_csv(lattice_path)\n",
    "grow_7_2 = tg.to_lattice(np.copy(avail_lattice), avail_lattice)\n",
    "########################################################################################\n",
    "\n",
    "\n",
    "########################################################################################\n",
    "#Using np.kron to upscale the 7_2 data\n",
    "grow_3_6_start = np.kron(grow_7_2, np.ones((2, 2, 2)))\n",
    "grow_3_6_final = grow_3_6_start[:]\n",
    "grow_3_6_reference = complete_lattice_3_6[:]\n",
    "\n",
    "#Removing any voxels that are not in the original 3_6 lattice\n",
    "for i in range(len(grow_3_6_start)):\n",
    "    for j in range(len(grow_3_6_start[0])):\n",
    "        for k in range(len(grow_3_6_start[0][0])):\n",
    "            if grow_3_6_reference[i][j][k] == False:\n",
    "                grow_3_6_final[i][j][k] = -1\n",
    "\n",
    "#Exporting the new grown model in 3_6 size\n",
    "lattice_grow_3_6 = tg.to_lattice(grow_3_6_final, grow_3_6_reference)\n",
    "csv_path_lattice = os.path.relpath(\"data\\grown_lattice_3_6.csv\")\n",
    "lattice_grow_3_6.to_csv(csv_path_lattice)\n",
    "########################################################################################\n",
    "print(\"done\")"
   ]
  }
 ],
 "metadata": {
  "kernelspec": {
   "display_name": "Python 3",
   "language": "python",
   "name": "python3"
  },
  "language_info": {
   "codemirror_mode": {
    "name": "ipython",
    "version": 3
   },
   "file_extension": ".py",
   "mimetype": "text/x-python",
   "name": "python",
   "nbconvert_exporter": "python",
   "pygments_lexer": "ipython3",
   "version": "3.8.4"
  }
 },
 "nbformat": 4,
 "nbformat_minor": 4
}
