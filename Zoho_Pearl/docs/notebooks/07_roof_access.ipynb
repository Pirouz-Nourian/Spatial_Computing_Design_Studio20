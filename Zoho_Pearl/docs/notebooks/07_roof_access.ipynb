{
 "cells": [
  {
   "cell_type": "code",
   "execution_count": 2,
   "metadata": {},
   "outputs": [],
   "source": [
    "import os\n",
    "import topogenesis as tg\n",
    "import pyvista as pv\n",
    "import trimesh as tm\n",
    "import numpy as np\n",
    "import pickle\n",
    "import csv"
   ]
  },
  {
   "cell_type": "code",
   "execution_count": 20,
   "metadata": {},
   "outputs": [],
   "source": [
    "#This script calculates roof acces based on voxel_z\n",
    "########################################################################################\n",
    "#Load the complete lattice for reference and shape\n",
    "lattice_path = os.path.relpath(\"data\\lattice_complete_3_6.csv\")\n",
    "shape = envelope_lattice.shape\n",
    "roof_access_base = np.ones(shape)\n",
    "########################################################################################\n",
    "\n",
    "\n",
    "########################################################################################\n",
    "#intialize lists\n",
    "z_coords_step = []\n",
    "z_coords_list = []\n",
    "\n",
    "#Creating a base list filled with 0.0 and a list of [x, y,[all_z]]\n",
    "for i in range(len(envelope_lattice)):\n",
    "    for j in range(len(envelope_lattice[0])):\n",
    "        for k in range(len(envelope_lattice[0][0])):\n",
    "            roof_access_base[i][j][k] = 0.0\n",
    "            if envelope_lattice[i][j][k] == True:\n",
    "                z_coords_step.append(k)\n",
    "        z_coords_list.append([i, j, z_coords_step])\n",
    "        z_coords_step = []\n",
    "\n",
    "#Scale list by len of all_z so z_min = 0.0 and z_max = 1.0\n",
    "z_coords_scaled = z_coords_list[:]\n",
    "for i in range(len(z_coords_list)):\n",
    "    s = 1 / (len(z_coords_list[i][2])-1)\n",
    "    for j in range(len(z_coords_list[i][2])):\n",
    "        z_coords_scaled[i][2][j] = z_coords_list[i][2][j]*s\n",
    "\n",
    "#Place scaled values into a proper lattice\n",
    "final_list = []\n",
    "for i in range(len(z_coords_scaled)):\n",
    "    x = z_coords_scaled[i][0]\n",
    "    y = z_coords_scaled[i][1]\n",
    "    for j in range(len(z_coords_scaled[i][2])):\n",
    "        z = j\n",
    "        val = z_coords_scaled[i][2][j]\n",
    "        roof_access_base[x][y][z] = val\n",
    "\n",
    "#Export roof_access lattice\n",
    "roof_access_lattice = tg.to_lattice(roof_access_base, envelope_lattice)\n",
    "csv_path_lattice = os.path.relpath(\"data\\roof_access_3_6.csv\")\n",
    "roof_access_lattice.to_csv(csv_path_lattice)\n",
    "########################################################################################\n",
    "print(\"done\")        "
   ]
  },
  {
   "cell_type": "code",
   "execution_count": null,
   "metadata": {},
   "outputs": [],
   "source": []
  }
 ],
 "metadata": {
  "kernelspec": {
   "display_name": "Python 3",
   "language": "python",
   "name": "python3"
  },
  "language_info": {
   "codemirror_mode": {
    "name": "ipython",
    "version": 3
   },
   "file_extension": ".py",
   "mimetype": "text/x-python",
   "name": "python",
   "nbconvert_exporter": "python",
   "pygments_lexer": "ipython3",
   "version": "3.8.4"
  }
 },
 "nbformat": 4,
 "nbformat_minor": 4
}
