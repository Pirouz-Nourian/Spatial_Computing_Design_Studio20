{
 "cells": [
  {
   "cell_type": "code",
   "execution_count": 1,
   "metadata": {},
   "outputs": [],
   "source": [
    "import os\n",
    "import topogenesis as tg\n",
    "import pyvista as pv\n",
    "import trimesh as tm\n",
    "import numpy as np\n",
    "import pickle\n",
    "import csv\n",
    "import pandas as pd"
   ]
  },
  {
   "cell_type": "code",
   "execution_count": null,
   "metadata": {},
   "outputs": [],
   "source": [
    "#This script is to reduce the 3_6 lattice to 7_2 in order to make the growing calculation possible\n",
    "########################################################################################\n",
    "#Import the complete 3_6 lattice and a 7_2 lattice for reference\n",
    "lattice_path = os.path.relpath(\"data\\lattice_complete_3_6.csv\")\n",
    "complete_lattice_3_6 = tg.lattice_from_csv(lattice_path)\n",
    "\n",
    "lattice_path_1 = os.path.relpath(\"data\\solar_envelope_7_2.csv\")\n",
    "reference_lattice_7_2 = tg.lattice_from_csv(lattice_path)\n",
    "########################################################################################\n",
    "\n",
    "\n",
    "########################################################################################\n",
    "#Translate 3_6 to 7_2, any 7_2 voxel with at least one 3_6 in it will be placed\n",
    "shape_3_6 = complete_lattice_3_6.shape\n",
    "shape_7_2 = [int(x/2) for x in shape_3_6]\n",
    "base_7_2 = np.zeros(shape_7_2, dtype=bool)\n",
    "print(shape_7_2)\n",
    "amount = 0\n",
    "amount1 = 0\n",
    "for i in range(shape_7_2[0]):\n",
    "    for j in range(shape_7_2[1]):\n",
    "        for k in range(shape_7_2[2]):\n",
    "            temp_list=[]\n",
    "            for l in range(0, 2):\n",
    "                x = i*2+l\n",
    "                for m in range(0,2):\n",
    "                    y = j*2+m\n",
    "                    for n in range(0,2):\n",
    "                        z = k*2+n\n",
    "                        amount1+=1\n",
    "                        if complete_lattice_3_6[x][y][z] == True:\n",
    "                            temp_list.append(1)\n",
    "            if 1 in temp_list:\n",
    "                base_7_2[i][j][k] = True\n",
    "                amount += 1\n",
    "########################################################################################\n",
    "#Export the new growing lattice\n",
    "lattice_7_2 = tg.to_lattice(base_7_2, reference_lattice_7_2)\n",
    "csv_path_lattice = os.path.relpath(\"data\\growing_lattice_7_2.csv\")\n",
    "lattice_7_2.to_csv(csv_path_lattice)\n",
    "########################################################################################\n",
    "print(\"done\")"
   ]
  },
  {
   "cell_type": "code",
   "execution_count": null,
   "metadata": {},
   "outputs": [],
   "source": [
    "#This small script is translate predefined entrance locations to \n",
    "#the bigger voxel size in a flattened lattice\n",
    "########################################################################################\n",
    "#Establish entrance locations in coords\n",
    "test_list = np.zeros(shape_7_2)\n",
    "coords = [[11,0,0],[21,0,0],[0,0,0],[21,9,0],[21,5,0],[0,9,0],[11,9,0]]\n",
    "for i in range(1, len(coords)+1):\n",
    "    x = coords[i-1][0]\n",
    "    y = coords[i-1][1]\n",
    "    z = coords[i-1][2]\n",
    "    test_list[x][y][z] = i\n",
    "    \n",
    "new_list = test_list.flatten()\n",
    "temp_list = []\n",
    "for i in range(len(new_list)):\n",
    "    if new_list[i] != 0:\n",
    "        temp_list.append([i, new_list[i]])\n",
    "print(temp_list)\n",
    "########################################################################################"
   ]
  },
  {
   "cell_type": "code",
   "execution_count": null,
   "metadata": {},
   "outputs": [],
   "source": []
  }
 ],
 "metadata": {
  "kernelspec": {
   "display_name": "Python 3",
   "language": "python",
   "name": "python3"
  },
  "language_info": {
   "codemirror_mode": {
    "name": "ipython",
    "version": 3
   },
   "file_extension": ".py",
   "mimetype": "text/x-python",
   "name": "python",
   "nbconvert_exporter": "python",
   "pygments_lexer": "ipython3",
   "version": "3.8.4"
  }
 },
 "nbformat": 4,
 "nbformat_minor": 4
}
