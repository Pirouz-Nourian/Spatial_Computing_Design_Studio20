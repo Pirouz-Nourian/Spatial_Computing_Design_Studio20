{
 "cells": [
  {
   "cell_type": "markdown",
   "metadata": {},
   "source": [
    "# Voxelization"
   ]
  },
  {
   "cell_type": "markdown",
   "metadata": {},
   "source": [
    "### 0. Initialization\n",
    "Importing all necessary libraries and specifying the inputs"
   ]
  },
  {
   "cell_type": "code",
   "execution_count": null,
   "metadata": {
    "tags": []
   },
   "outputs": [],
   "source": [
    "import os\n",
    "import topogenesis as tg\n",
    "import pyvista as pv\n",
    "import trimesh as tm\n",
    "import numpy as np"
   ]
  },
  {
   "cell_type": "code",
   "execution_count": null,
   "metadata": {
    "tags": []
   },
   "outputs": [],
   "source": [
    "#setting the specified voxel size\n",
    "vs = 16.20\n",
    "unit = [vs, vs, vs]\n",
    "mesh_path = os.path.relpath('../data/optional_envelope.obj')"
   ]
  },
  {
   "cell_type": "markdown",
   "metadata": {},
   "source": [
    "## 1. Input Mesh"
   ]
  },
  {
   "cell_type": "code",
   "execution_count": null,
   "metadata": {
    "scrolled": false
   },
   "outputs": [],
   "source": [
    "# load the mesh from file\n",
    "mesh = tm.load(mesh_path)\n",
    "# Check if the mesh is watertight\n",
    "print(mesh.is_watertight)"
   ]
  },
  {
   "cell_type": "code",
   "execution_count": null,
   "metadata": {
    "scrolled": false
   },
   "outputs": [],
   "source": [
    "# Visualize the mesh using pyvista plotter\n",
    "\n",
    "# initiating the plotter\n",
    "pv.set_plot_theme(\"document\")\n",
    "p = pv.Plotter(notebook=True)\n",
    "\n",
    "# convert mesh to pv_mesh\n",
    "faces = np.pad(mesh.faces, ((0, 0),(1,0)), 'constant', constant_values=3)\n",
    "pv_mesh = pv.PolyData(mesh.vertices, faces)\n",
    "# adding the base mesh: light blue\n",
    "p.add_mesh(pv_mesh, color='#abd8ff')\n",
    "\n",
    "# plotting\n",
    "cpos = [(785.8704805788776, 708.4540755788776, 741.8613927288776),\n",
    " (65.08283250000001, -12.333572500000002, 21.07374465),\n",
    " (0.0, 0.0, 1.0)]\n",
    "p.camera_position = cpos\n",
    "p.window_size = 2000, 2000\n",
    "p.show(use_ipyvtk=True)\n",
    "# p.screenshot(\"lattice_1\")\n",
    "print(p.camera_position)"
   ]
  },
  {
   "cell_type": "markdown",
   "metadata": {},
   "source": [
    "## 2. Voxelize the Mesh"
   ]
  },
  {
   "cell_type": "code",
   "execution_count": null,
   "metadata": {},
   "outputs": [],
   "source": [
    "# initialize the base lattice\n",
    "base_lattice = tg.lattice(mesh.bounds, unit=unit, default_value=1, dtype=int)\n",
    "\n",
    "# check which voxel centroids is inside the mesh\n",
    "interior_condition = mesh.contains(base_lattice.centroids)\n",
    "\n",
    "# reshape the interior condition to the shape of the base_lattice\n",
    "interior_array = interior_condition.reshape(base_lattice.shape)\n",
    "\n",
    "# convert the interior array into a lattice\n",
    "interior_lattice = tg.to_lattice(interior_array, base_lattice.minbound, base_lattice.unit)"
   ]
  },
  {
   "cell_type": "code",
   "execution_count": null,
   "metadata": {
    "scrolled": false
   },
   "outputs": [],
   "source": [
    "# Visualize the voxelization using pyvista plotter\n",
    "\n",
    "# initiating the plotter\n",
    "p = pv.Plotter(notebook=True)\n",
    "\n",
    "# fast visualization of the lattice\n",
    "interior_lattice.fast_vis(p)\n",
    "\n",
    "# convert mesh to pv_mesh\n",
    "faces = np.pad(mesh.faces, ((0, 0),(1,0)), 'constant', constant_values=3)\n",
    "pv_mesh = pv.PolyData(mesh.vertices, faces)\n",
    "# adding the base mesh: light blue\n",
    "p.add_mesh(pv_mesh, color='#abd8ff')\n",
    "\n",
    "# plotting\n",
    "cpos = [(785.8704805788776, 708.4540755788776, 741.8613927288776),\n",
    " (65.08283250000001, -12.333572500000002, 21.07374465),\n",
    " (0.0, 0.0, 1.0)]\n",
    "p.camera_position = cpos\n",
    "p.window_size = 2000, 2000\n",
    "p.show(use_ipyvtk=True)\n",
    "# p.screenshot(\"lattice_2_1620\")\n",
    "print(p.camera_position)"
   ]
  },
  {
   "cell_type": "code",
   "execution_count": null,
   "metadata": {},
   "outputs": [],
   "source": [
    "# Visualize the voxelization using pyvista plotter\n",
    "\n",
    "# initiating the plotter\n",
    "p = pv.Plotter(notebook=True)\n",
    "\n",
    "# fast visualization of the lattice\n",
    "interior_lattice.fast_vis(p)\n",
    "\n",
    "# plotting\n",
    "cpos = [(785.8704805788776, 708.4540755788776, 741.8613927288776),\n",
    " (65.08283250000001, -12.333572500000002, 21.07374465),\n",
    " (0.0, 0.0, 1.0)]\n",
    "p.camera_position = cpos\n",
    "p.window_size = 2000, 2000\n",
    "p.show(use_ipyvtk=True)\n",
    "# p.screenshot(\"lattice_3_1620\")\n",
    "print(p.camera_position)"
   ]
  },
  {
   "cell_type": "markdown",
   "metadata": {},
   "source": [
    "## 3. Saving the lattice to CSV"
   ]
  },
  {
   "cell_type": "code",
   "execution_count": null,
   "metadata": {},
   "outputs": [],
   "source": [
    "csv_path = os.path.relpath('../data/lattice972.csv')\n",
    "interior_lattice.to_csv(csv_path)"
   ]
  },
  {
   "cell_type": "markdown",
   "metadata": {},
   "source": [
    "### Credits"
   ]
  },
  {
   "cell_type": "code",
   "execution_count": null,
   "metadata": {},
   "outputs": [],
   "source": [
    "__author__ = \"Shervin Azadi\"\n",
    "__license__ = \"MIT\"\n",
    "__version__ = \"1.0\"\n",
    "__url__ = \"https://github.com/shervinazadi/spatial_computing_workshops\"\n",
    "__summary__ = \"Spatial Computing Design Studio Workshop on Voxelization\""
   ]
  }
 ],
 "metadata": {
  "kernelspec": {
   "display_name": "Python 3",
   "language": "python",
   "name": "python3"
  },
  "language_info": {
   "codemirror_mode": {
    "name": "ipython",
    "version": 3
   },
   "file_extension": ".py",
   "mimetype": "text/x-python",
   "name": "python",
   "nbconvert_exporter": "python",
   "pygments_lexer": "ipython3",
   "version": "3.8.4"
  }
 },
 "nbformat": 4,
 "nbformat_minor": 2
}
