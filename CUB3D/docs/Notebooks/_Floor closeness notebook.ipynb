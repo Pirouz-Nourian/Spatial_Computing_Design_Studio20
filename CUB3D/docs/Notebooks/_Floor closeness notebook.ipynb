{
 "cells": [
  {
   "cell_type": "markdown",
   "metadata": {},
   "source": [
    "# Floor closeness\n",
    "\n",
    "### 0. Initialization"
   ]
  },
  {
   "cell_type": "code",
   "execution_count": null,
   "metadata": {},
   "outputs": [],
   "source": [
    "import os\n",
    "import topogenesis as tg\n",
    "import pyvista as pv\n",
    "import trimesh as tm\n",
    "import numpy as np\n",
    "import networkx as nx\n",
    "from scipy.interpolate import RegularGridInterpolator\n",
    "import copy"
   ]
  },
  {
   "cell_type": "markdown",
   "metadata": {},
   "source": [
    "### 1.1. Loading in the lattice"
   ]
  },
  {
   "cell_type": "code",
   "execution_count": null,
   "metadata": {},
   "outputs": [],
   "source": [
    "lattice_path = os.path.relpath(\"../data/solar_envelope_324.csv\")\n",
    "\n",
    "solar_envelope = tg.lattice_from_csv(lattice_path)\n",
    "full_lattice = solar_envelope * 0 + 1"
   ]
  },
  {
   "cell_type": "markdown",
   "metadata": {},
   "source": [
    "### 2.1 Creating a vertical adjacency matrix"
   ]
  },
  {
   "cell_type": "code",
   "execution_count": null,
   "metadata": {},
   "outputs": [],
   "source": [
    "# get the amount of voxels in the z direction\n",
    "vox_count = len(solar_envelope[0][0])\n",
    "\n",
    "# initialize an adjacency matrix\n",
    "adj_mtrx = np.zeros((vox_count,vox_count))\n",
    "\n",
    "# set the connecting values of the adjacency matrix to 1\n",
    "for i in range(vox_count):\n",
    "    if i == 0:\n",
    "        adj_mtrx[i, i + 1] = 1\n",
    "        continue\n",
    "    if i == vox_count - 1:\n",
    "        adj_mtrx[i, i - 1] = 1\n",
    "        continue\n",
    "    else:\n",
    "        adj_mtrx[i, i + 1] = 1\n",
    "        adj_mtrx[i, i - 1] = 1"
   ]
  },
  {
   "cell_type": "markdown",
   "metadata": {},
   "source": [
    "### 2.2 Turning it into a networkx datastructure and calculating distances"
   ]
  },
  {
   "cell_type": "code",
   "execution_count": null,
   "metadata": {},
   "outputs": [],
   "source": [
    "g = nx.from_numpy_array(adj_mtrx)\n",
    "dist_mtrx_vertical = nx.floyd_warshall_numpy(g)"
   ]
  },
  {
   "cell_type": "markdown",
   "metadata": {},
   "source": [
    "### 2.3 Selecting floor level and mapping vertical distances between 0 and 1"
   ]
  },
  {
   "cell_type": "code",
   "execution_count": null,
   "metadata": {},
   "outputs": [],
   "source": [
    "floor_dist = dist_mtrx_vertical[2] # specified floor level\n",
    "\n",
    "max_valid = np.ma.masked_invalid(floor_dist).max() # find max distance\n",
    "\n",
    "floor_dist_mapped = 1 - (floor_dist / max_valid) # map values between 0 and 1 with max distance"
   ]
  },
  {
   "cell_type": "markdown",
   "metadata": {},
   "source": [
    "### 2.4 Mapping the values to the full lattice"
   ]
  },
  {
   "cell_type": "code",
   "execution_count": null,
   "metadata": {},
   "outputs": [],
   "source": [
    "floor_dist_mapped_full = []\n",
    "height = len(floor_dist_mapped)\n",
    "\n",
    "# mapping the colomn of values to the full lattice\n",
    "for i in range(len(full_lattice)*len(full_lattice[0])*len(full_lattice[0][0])):\n",
    "    floor_dist_mapped_full.append(floor_dist_mapped[i % height])\n",
    "\n",
    "# turning it into an np array\n",
    "floor_dist_mapped_full = np.array(floor_dist_mapped_full)\n",
    "\n",
    "# reshaping the array\n",
    "floor_dist_lattice_full = floor_dist_mapped_full.reshape(full_lattice.shape)\n",
    "\n",
    "# forming the lattice to the solar envelope\n",
    "floor_dist_lattice = floor_dist_lattice_full * solar_envelope "
   ]
  },
  {
   "cell_type": "markdown",
   "metadata": {},
   "source": [
    "### 3.1 Visualizing the floor level lattice"
   ]
  },
  {
   "cell_type": "code",
   "execution_count": null,
   "metadata": {},
   "outputs": [],
   "source": [
    "pv.set_plot_theme(\"document\")\n",
    "\n",
    "# convert mesh to pv_mesh\n",
    "def tri_to_pv(tri_mesh):\n",
    "    faces = np.pad(tri_mesh.faces, ((0, 0),(1,0)), 'constant', constant_values=3)\n",
    "    pv_mesh = pv.PolyData(tri_mesh.vertices, faces)\n",
    "    return pv_mesh\n",
    "\n",
    "base_lattice = floor_dist_lattice\n",
    "# initiating the plotter\n",
    "p = pv.Plotter(notebook=True)\n",
    "\n",
    "# Create the spatial reference\n",
    "grid = pv.UniformGrid()\n",
    "\n",
    "# Set the grid dimensions: shape because we want to inject our values\n",
    "grid.dimensions = base_lattice.shape\n",
    "# The bottom left corner of the data set\n",
    "grid.origin = base_lattice.minbound\n",
    "# These are the cell sizes along each axis\n",
    "grid.spacing = base_lattice.unit\n",
    "\n",
    "# Add the data values to the cell data\n",
    "grid.point_arrays[\"Floor closeness\"] = base_lattice.flatten(order=\"F\")  # Flatten the Lattice\n",
    "    \n",
    "# adding the volume\n",
    "opacity = np.array([0,0.6,0.6,0.6,0.6,0.6,0.6])\n",
    "p.add_volume(grid, cmap=\"coolwarm\", clim=[0, 1.0],opacity=opacity, shade=False)\n",
    "\n",
    "# adding the meshes\n",
    "context_path = os.path.relpath(\"../data/immediate_context.obj\")\n",
    "context_mesh = tm.load(context_path)\n",
    "p.add_mesh(tri_to_pv(context_mesh), opacity=0.1, style='wireframe')\n",
    "\n",
    "# plotting\n",
    "cpos = [(785.8704805788776, 708.4540755788776, 741.8613927288776),\n",
    " (65.08283250000001, -12.333572500000002, 21.07374465),\n",
    " (0.0, 0.0, 1.0)]\n",
    "p.camera_position = cpos\n",
    "p.window_size = 2000, 2000\n",
    "p.show(use_ipyvtk=True)\n",
    "# p.screenshot(\"floor_2\")\n",
    "print(p.camera_position)"
   ]
  },
  {
   "cell_type": "markdown",
   "metadata": {},
   "source": [
    "### 3.2 Exporting the lattice"
   ]
  },
  {
   "cell_type": "code",
   "execution_count": null,
   "metadata": {},
   "outputs": [],
   "source": [
    "csv_path = os.path.relpath('../data/closeness_ground_floor_324.csv')\n",
    "floor_dist_lattice.to_csv(csv_path)"
   ]
  }
 ],
 "metadata": {
  "kernelspec": {
   "display_name": "Python 3",
   "language": "python",
   "name": "python3"
  },
  "language_info": {
   "codemirror_mode": {
    "name": "ipython",
    "version": 3
   },
   "file_extension": ".py",
   "mimetype": "text/x-python",
   "name": "python",
   "nbconvert_exporter": "python",
   "pygments_lexer": "ipython3",
   "version": "3.8.4"
  }
 },
 "nbformat": 4,
 "nbformat_minor": 4
}
