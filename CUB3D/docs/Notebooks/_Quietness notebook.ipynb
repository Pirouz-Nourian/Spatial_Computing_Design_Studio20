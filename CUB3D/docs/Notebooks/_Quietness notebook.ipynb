{
 "cells": [
  {
   "cell_type": "markdown",
   "metadata": {},
   "source": [
    "# Street noise quietness notebook\n",
    "\n",
    "## 0. Initialization\n",
    "\n",
    "### 0.1. Load required libraries"
   ]
  },
  {
   "cell_type": "code",
   "execution_count": null,
   "metadata": {},
   "outputs": [],
   "source": [
    "import os\n",
    "import topogenesis as tg\n",
    "import pyvista as pv\n",
    "import trimesh as tm\n",
    "import numpy as np\n",
    "import networkx as nx\n",
    "import scipy as sp\n",
    "np.random.seed(0)"
   ]
  },
  {
   "cell_type": "markdown",
   "metadata": {},
   "source": [
    "### 0.2 Load availability lattice and meshes"
   ]
  },
  {
   "cell_type": "code",
   "execution_count": null,
   "metadata": {},
   "outputs": [],
   "source": [
    "# loading the lattice from csv\n",
    "lattice_path = os.path.relpath('../data/solar_envelope_324.csv')\n",
    "avail_lattice = tg.lattice_from_csv(lattice_path)\n",
    "init_avail_lattice = tg.to_lattice(np.copy(avail_lattice), avail_lattice)\n",
    "\n",
    "#Load context mesh from csv\n",
    "context_path = os.path.relpath(\"../data/immediate_context.obj\")\n",
    "street_50_path = os.path.relpath(\"../data/street_noise_50db_3.obj\") \n",
    "street_70_path = os.path.relpath(\"../data/street_noise_70db_4.obj\") \n",
    "\n",
    "# load the mesh from file\n",
    "context_mesh = tm.load(context_path)\n",
    "street_50_mesh = tm.load(street_50_path)\n",
    "street_70_mesh = tm.load(street_70_path)\n",
    "\n",
    "# construct full latice\n",
    "full_lattice = avail_lattice * 0 + 1 "
   ]
  },
  {
   "cell_type": "markdown",
   "metadata": {},
   "source": [
    "### 0.3 visualize"
   ]
  },
  {
   "cell_type": "code",
   "execution_count": null,
   "metadata": {
    "scrolled": false
   },
   "outputs": [],
   "source": [
    "pv.set_plot_theme(\"document\")\n",
    "\n",
    "# convert mesh to pv_mesh\n",
    "def tri_to_pv(tri_mesh):\n",
    "    faces = np.pad(tri_mesh.faces, ((0, 0),(1,0)), 'constant', constant_values=3)\n",
    "    pv_mesh = pv.PolyData(tri_mesh.vertices, faces)\n",
    "    return pv_mesh\n",
    "\n",
    "# Visualize the mesh using pyvista plotter\n",
    "#######\n",
    "\n",
    "# initiating the plotter\n",
    "p = pv.Plotter(notebook=True)\n",
    "\n",
    "# fast visualization of the lattice\n",
    "avail_lattice.fast_vis(p)\n",
    "\n",
    "# adding the meshes\n",
    "p.add_mesh(tri_to_pv(context_mesh), opacity=0.1, style='wireframe')\n",
    "p.add_mesh(tri_to_pv(street_50_mesh), color=\"ffd571\", lighting = False, style='wireframe', line_width = 5)\n",
    "p.add_mesh(tri_to_pv(street_70_mesh), color=\"ff7b7b\", lighting = False, style='wireframe', line_width = 5)\n",
    "\n",
    "\n",
    "# plotting\n",
    "cpos = [(785.8704805788776, 708.4540755788776, 741.8613927288776),\n",
    " (65.08283250000001, -12.333572500000002, 21.07374465),\n",
    " (0.0, 0.0, 1.0)]\n",
    "p.camera_position = cpos\n",
    "p.window_size = 2000, 2000\n",
    "p.show(use_ipyvtk=True)\n",
    "# p.screenshot(\"noise_1\")\n",
    "print(p.camera_position)"
   ]
  },
  {
   "cell_type": "markdown",
   "metadata": {},
   "source": [
    "### 1.1. 1st street - Distances between voxels and mesh"
   ]
  },
  {
   "cell_type": "code",
   "execution_count": null,
   "metadata": {
    "scrolled": false
   },
   "outputs": [],
   "source": [
    "#Get voxel centers as points\n",
    "vox_centroids = full_lattice.centroids\n",
    "vox_ind = np.array(np.where(full_lattice==1)).T\n",
    "\n",
    "# Noise level in first street\n",
    "noise_base_1 = 50.0\n",
    "\n",
    "#calculate closest distance from each voxel to point\n",
    "dist_latice = avail_lattice * 0.0\n",
    "\n",
    "for cen, ind in zip (vox_centroids, vox_ind):\n",
    "\n",
    "    closest, distance, triangle_id = tm.proximity.closest_point(street_50_mesh, np.array([cen]))\n",
    "    distance=np.round_(distance, 2)\n",
    "    distance+= 0.01\n",
    "    dist_latice[tuple(ind)] = distance\n",
    "\n",
    "# computing the noise lattice from dist lattice\n",
    "noise_latice_50 = noise_base_1 - 20 * np.log10(dist_latice) - 8\n",
    "\n",
    "# initializing the sum lattice of noise\n",
    "sum_noise_lats = avail_lattice * 0.0\n",
    "\n",
    "# summing\n",
    "sum_noise_lats += np.power(10, noise_latice_50 / 10.0)"
   ]
  },
  {
   "cell_type": "markdown",
   "metadata": {},
   "source": [
    "### 1.2. 2nd street - Distances between voxels and mesh"
   ]
  },
  {
   "cell_type": "code",
   "execution_count": null,
   "metadata": {},
   "outputs": [],
   "source": [
    "#Get voxel centers as points / done with \"_2\" for troubleshooting\n",
    "vox_centroids_2 = full_lattice.centroids\n",
    "vox_ind_2 = np.array(np.where(full_lattice==1)).T\n",
    "\n",
    "# Noise level in second street\n",
    "noise_base_2 = 70.0\n",
    "\n",
    "#calculate closest distance from each voxel to point\n",
    "dist_latice_2 = avail_lattice * 0.0\n",
    "\n",
    "for cen_2, ind_2 in zip (vox_centroids_2, vox_ind_2):\n",
    "\n",
    "    closest, distance_2, triangle_id = tm.proximity.closest_point(street_70_mesh, np.array([cen_2]))\n",
    "    distance_2+= 0.01\n",
    "    distance_2=np.round_(distance_2, 2)\n",
    "    dist_latice_2[tuple(ind_2)] = distance_2\n",
    "\n",
    "# computing the noise lattice from dist lattice\n",
    "noise_latice_70 = noise_base_2 - 20 * np.log10(dist_latice_2) -8\n",
    "\n",
    "# summing\n",
    "sum_noise_lats += np.power(10, noise_latice_70 / 10.0)"
   ]
  },
  {
   "cell_type": "code",
   "execution_count": null,
   "metadata": {},
   "outputs": [],
   "source": [
    "# computing the final aggregation\n",
    "agg_noise_lats = 10 * np.log10(sum_noise_lats)"
   ]
  },
  {
   "cell_type": "markdown",
   "metadata": {},
   "source": [
    "### 1.3. Visulization"
   ]
  },
  {
   "cell_type": "code",
   "execution_count": null,
   "metadata": {},
   "outputs": [],
   "source": [
    "# initiating the plotter\n",
    "p = pv.Plotter(notebook=True)\n",
    "\n",
    "# adding the meshes\n",
    "p.add_mesh(tri_to_pv(context_mesh), opacity=0.1, style='wireframe')\n",
    "p.add_mesh(tri_to_pv(street_50_mesh), color=\"ffd571\", lighting = False, style='wireframe', line_width = 5)\n",
    "p.add_mesh(tri_to_pv(street_70_mesh), color=\"ff7b7b\", lighting = False, style='wireframe', line_width = 5)\n",
    "\n",
    "vis_lattice = agg_noise_lats * avail_lattice\n",
    "\n",
    "# Create the spatial reference\n",
    "grid = pv.UniformGrid()\n",
    "\n",
    "# Set the grid dimensions: shape because we want to inject our values\n",
    "grid.dimensions = vis_lattice.shape\n",
    "# The bottom left corner of the data set\n",
    "grid.origin = vis_lattice.minbound\n",
    "# These are the cell sizes along each axis\n",
    "grid.spacing = vis_lattice.unit\n",
    "\n",
    "# Add the data values to the cell data\n",
    "grid.point_arrays[\"Street noise in dB\"] = vis_lattice.flatten(order=\"F\")  # Flatten the Lattice\n",
    "\n",
    "# adding the volume\n",
    "opacity = np.array([0,0.6,0.6,0.6,0.6,0.6,0.6])\n",
    "p.add_volume(grid, cmap=\"coolwarm\" , clim=[20, 40], opacity=opacity, shade=False)\n",
    "\n",
    "# plotting\n",
    "cpos = [(785.8704805788776, 708.4540755788776, 741.8613927288776),\n",
    " (65.08283250000001, -12.333572500000002, 21.07374465),\n",
    " (0.0, 0.0, 1.0)]\n",
    "p.camera_position = cpos\n",
    "p.window_size = 2000, 2000\n",
    "p.show(use_ipyvtk=True)\n",
    "# p.screenshot(\"noise_2\")\n",
    "print(p.camera_position)"
   ]
  },
  {
   "cell_type": "markdown",
   "metadata": {},
   "source": [
    "### 2.1. Mapping the values\n"
   ]
  },
  {
   "cell_type": "code",
   "execution_count": null,
   "metadata": {},
   "outputs": [],
   "source": [
    "# mapping the values from (0, max) to (1, 0)\n",
    "\n",
    "max_noise = np.max(agg_noise_lats)\n",
    "quietness_lattice = (1- agg_noise_lats / max_noise) * avail_lattice"
   ]
  },
  {
   "cell_type": "markdown",
   "metadata": {},
   "source": [
    "### 2.2. Visualize noise value field"
   ]
  },
  {
   "cell_type": "code",
   "execution_count": null,
   "metadata": {
    "scrolled": false
   },
   "outputs": [],
   "source": [
    "# convert mesh to pv_mesh\n",
    "def tri_to_pv(tri_mesh):\n",
    "    faces = np.pad(tri_mesh.faces, ((0, 0),(1,0)), 'constant', constant_values=3)\n",
    "    pv_mesh = pv.PolyData(tri_mesh.vertices, faces)\n",
    "    return pv_mesh\n",
    "\n",
    "# load the mesh from file\n",
    "context_path = os.path.relpath('../data/immediate_context.obj')\n",
    "context_mesh = tm.load(context_path)\n",
    "\n",
    "# initiating the plotter\n",
    "p = pv.Plotter(notebook=True)\n",
    "\n",
    "p.add_mesh(tri_to_pv(context_mesh), opacity=0.1, style='wireframe')\n",
    "p.add_mesh(tri_to_pv(street_50_mesh), color=\"ffd571\", lighting = False, style='wireframe', line_width = 5)\n",
    "p.add_mesh(tri_to_pv(street_70_mesh), color=\"ff7b7b\", lighting = False, style='wireframe', line_width = 5)\n",
    "\n",
    "# Create the spatial reference\n",
    "grid = pv.UniformGrid()\n",
    "\n",
    "# Set the grid dimensions: shape because we want to inject our values\n",
    "grid.dimensions = avail_lattice.shape\n",
    "# The bottom left corner of the data set\n",
    "grid.origin = avail_lattice.minbound\n",
    "# These are the cell sizes along each axis\n",
    "grid.spacing = avail_lattice.unit\n",
    "\n",
    "# Add the data values to the cell data\n",
    "grid.point_arrays[\"Quietness from street noise\"] = quietness_lattice.flatten(order=\"F\")  # Flatten the Lattice\n",
    "    \n",
    "# adding the volume\n",
    "opacity = np.array([0.0,0.6,0.6,0.6,0.6,0.6,0.6])\n",
    "p.add_volume(grid, cmap=\"coolwarm\", clim=[0.5, 1.0] ,opacity=opacity)\n",
    "\n",
    "# plotting\n",
    "cpos = [(785.8704805788776, 708.4540755788776, 741.8613927288776),\n",
    " (65.08283250000001, -12.333572500000002, 21.07374465),\n",
    " (0.0, 0.0, 1.0)]\n",
    "p.camera_position = cpos\n",
    "p.window_size = 2000, 2000\n",
    "p.show(use_ipyvtk=True)\n",
    "# p.screenshot(\"noise_3\")\n",
    "print(p.camera_position)"
   ]
  },
  {
   "cell_type": "markdown",
   "metadata": {},
   "source": [
    "### 3.1. Save Quietness from street noise lattice to CSV"
   ]
  },
  {
   "cell_type": "code",
   "execution_count": null,
   "metadata": {},
   "outputs": [],
   "source": [
    "# save the interest voxel access lattice\n",
    "\n",
    "csv_path = os.path.relpath('../data/project_data/quietness_from_street_noise_324.csv')\n",
    "quietness_lattice.to_csv(csv_path)"
   ]
  }
 ],
 "metadata": {
  "kernelspec": {
   "display_name": "Python 3",
   "language": "python",
   "name": "python3"
  },
  "language_info": {
   "codemirror_mode": {
    "name": "ipython",
    "version": 3
   },
   "file_extension": ".py",
   "mimetype": "text/x-python",
   "name": "python",
   "nbconvert_exporter": "python",
   "pygments_lexer": "ipython3",
   "version": "3.8.4"
  }
 },
 "nbformat": 4,
 "nbformat_minor": 4
}
