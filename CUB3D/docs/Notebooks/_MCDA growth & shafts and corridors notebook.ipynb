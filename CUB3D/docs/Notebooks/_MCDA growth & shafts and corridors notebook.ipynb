{
 "cells": [
  {
   "cell_type": "markdown",
   "metadata": {},
   "source": [
    "# MCDA: Seed Allocation + Voxel Occupation + Shaft and corridor growth\n",
    "\n",
    "In this notebook the agents will grow in their desired shape. Afterwards the shafts and corridors are generated inside of the generated lattice."
   ]
  },
  {
   "cell_type": "markdown",
   "metadata": {},
   "source": [
    "## 0. Initialization\n",
    "\n",
    "### 0.1. Load required libraries"
   ]
  },
  {
   "cell_type": "code",
   "execution_count": null,
   "metadata": {},
   "outputs": [],
   "source": [
    "import os\n",
    "import topogenesis as tg\n",
    "import pyvista as pv\n",
    "import trimesh as tm\n",
    "import numpy as np\n",
    "import networkx as nx\n",
    "import pandas as pd\n",
    "import matplotlib.pyplot as plt\n",
    "from scipy.sparse import csr_matrix\n",
    "from sklearn.cluster import KMeans\n",
    "np.random.seed(0)"
   ]
  },
  {
   "cell_type": "code",
   "execution_count": null,
   "metadata": {},
   "outputs": [],
   "source": [
    "# extra import function\n",
    "def lattice_from_csv(file_path):\n",
    "    # read metadata\n",
    "    meta_df = pd.read_csv(file_path, nrows=3)\n",
    "\n",
    "    shape = np.array(meta_df['shape'])\n",
    "    unit = np.array(meta_df['unit'])\n",
    "    minbound = np.array(meta_df['minbound'])\n",
    "\n",
    "    # read lattice\n",
    "    lattice_df = pd.read_csv(file_path, skiprows=5)\n",
    "\n",
    "    # create the buffer\n",
    "    buffer = np.array(lattice_df['value']).reshape(shape)\n",
    "    # create the lattice\n",
    "    l = tg.to_lattice(buffer, minbound=minbound, unit=unit)\n",
    "\n",
    "    return l"
   ]
  },
  {
   "cell_type": "markdown",
   "metadata": {},
   "source": [
    "### 0.2.1 Define the Neighborhood (Stencil)"
   ]
  },
  {
   "cell_type": "code",
   "execution_count": null,
   "metadata": {},
   "outputs": [],
   "source": [
    "# creating neighborhood definition\n",
    "stencil = tg.create_stencil(\"von_neumann\", 1, 1)\n",
    "# setting the center to zero\n",
    "stencil.set_index([0,0,0], 0)"
   ]
  },
  {
   "cell_type": "markdown",
   "metadata": {},
   "source": [
    "### 0.2.2 Custom neighbours function to circumvent bugs"
   ]
  },
  {
   "cell_type": "code",
   "execution_count": null,
   "metadata": {
    "scrolled": true
   },
   "outputs": [],
   "source": [
    "def neighbours(loc, avail_lattice):\n",
    "    output = []\n",
    "    output_id = []\n",
    "    my_stencil = np.array([[1, 0, 0],\n",
    "                    [-1, 0, 0],\n",
    "                   [0, 1, 0],\n",
    "                   [0, -1, 0],\n",
    "                   [0, 0, 1],\n",
    "                   [0, 0, -1]])\n",
    "    \n",
    "    for n, i in enumerate(my_stencil):\n",
    "        temp = np.array(loc) + i\n",
    "        try:\n",
    "            if avail_lattice[tuple(temp)] == True and occ_lattice[tuple(temp)] == -1:\n",
    "                output.append(temp)    \n",
    "        except:\n",
    "            pass\n",
    "    return output"
   ]
  },
  {
   "cell_type": "markdown",
   "metadata": {},
   "source": [
    "### 0.3. Load the envelope lattice as the avialbility lattice"
   ]
  },
  {
   "cell_type": "code",
   "execution_count": null,
   "metadata": {},
   "outputs": [],
   "source": [
    "# loading the lattice from csv\n",
    "lattice_path = os.path.relpath('../data/324/solar_envelope_324.csv')\n",
    "avail_lattice = lattice_from_csv(lattice_path)\n",
    "init_avail_lattice = tg.to_lattice(np.copy(avail_lattice), avail_lattice)"
   ]
  },
  {
   "cell_type": "markdown",
   "metadata": {},
   "source": [
    "### 0.4. Load Agents Information"
   ]
  },
  {
   "cell_type": "code",
   "execution_count": null,
   "metadata": {},
   "outputs": [],
   "source": [
    "# loading program (agents information) from CSV\n",
    "prgm_path = os.path.relpath('../data/324/Relations - Blad11.csv')\n",
    "agn_info = np.genfromtxt(prgm_path, delimiter=',')[1:, 1:]\n",
    "# extract agent ids\n",
    "\n",
    "length = len(agn_info)\n",
    "\n",
    "agn_ids = agn_info[:, 0]\n",
    "\n",
    "agn_prefs = agn_info[:, 1:]\n",
    "\n",
    "# extract agent preferences\n",
    "agn_prefs_env = agn_info[:, length + 1:]"
   ]
  },
  {
   "cell_type": "markdown",
   "metadata": {},
   "source": [
    "### 0.5. Initialize environment information layers from Sun Access Lattice and Entrance Access Lattice"
   ]
  },
  {
   "cell_type": "code",
   "execution_count": null,
   "metadata": {},
   "outputs": [],
   "source": [
    "# loading the lattices from csv\n",
    "\n",
    "sun_acc_path = os.path.relpath('../data/324/solar_accessibility_324.csv')\n",
    "sun_acc_lattice = lattice_from_csv(sun_acc_path)\n",
    "\n",
    "svf_acc_path = os.path.relpath('../data/324/SVF_324.csv')\n",
    "svf_acc_lattice = lattice_from_csv(svf_acc_path)\n",
    "\n",
    "gnd_floor_pref_path = os.path.relpath('../data/324/closeness_ground_floor_324.csv')\n",
    "gnd_floor_pref_lattice = lattice_from_csv(gnd_floor_pref_path)\n",
    "\n",
    "sub_floor_pref_path = os.path.relpath('../data/324/closeness_subterrain_324.csv')\n",
    "sub_floor_pref_lattice = lattice_from_csv(sub_floor_pref_path)\n",
    "\n",
    "coffee_pref_path = os.path.relpath('../data/324/closeness_coffee_corner_324.csv')\n",
    "coffee_pref_lattice = lattice_from_csv(coffee_pref_path)\n",
    "\n",
    "vis_ent_pref_path = os.path.relpath('../data/324/closeness_visitors_entrance_324.csv')\n",
    "vis_ent_pref_lattice = lattice_from_csv(vis_ent_pref_path)\n",
    "\n",
    "facade_pref_path = os.path.relpath('../data/324/closeness_to_facade_324.csv')\n",
    "facade_pref_lattice = lattice_from_csv(facade_pref_path)\n",
    "\n",
    "park_ent_pref_path = os.path.relpath('../data/324/closeness_car_park_entrance_324.csv')\n",
    "park_ent_pref_lattice = lattice_from_csv(park_ent_pref_path)\n",
    "\n",
    "NE_pref_path = os.path.relpath('../data/324/closeness_to_NE_facade_324.csv')\n",
    "NE_pref_lattice = lattice_from_csv(NE_pref_path)\n",
    "\n",
    "NW_pref_path = os.path.relpath('../data/324/closeness_to_NW_facade_324.csv')\n",
    "NW_pref_lattice = lattice_from_csv(NW_pref_path)\n",
    "\n",
    "SE_pref_path = os.path.relpath('../data/324/closeness_to_SE_facade_324.csv')\n",
    "SE_pref_lattice = lattice_from_csv(SE_pref_path)\n",
    "\n",
    "SW_pref_path = os.path.relpath('../data/324/closeness_to_SW_facade_324.csv')\n",
    "SW_pref_lattice = lattice_from_csv(SW_pref_path)\n",
    "\n",
    "vis_ent_pref_path = os.path.relpath('../data/324/closeness_visitors_entrance_324.csv')\n",
    "vis_ent_pref_lattice = lattice_from_csv(vis_ent_pref_path)\n",
    "\n",
    "# list the environment information layers (lattices)\n",
    "\n",
    "env_info = [sun_acc_lattice, svf_acc_lattice, gnd_floor_pref_lattice, sub_floor_pref_lattice,\n",
    "            coffee_pref_lattice, vis_ent_pref_lattice, park_ent_pref_lattice, NE_pref_lattice, \n",
    "            NW_pref_lattice, SE_pref_lattice, SW_pref_lattice, facade_pref_lattice]\n"
   ]
  },
  {
   "cell_type": "code",
   "execution_count": null,
   "metadata": {},
   "outputs": [],
   "source": [
    "# Fixing a fault in one of the lattices\n",
    "\n",
    "facade_pref_lattice2 = np.zeros((len(facade_pref_lattice), len(facade_pref_lattice[0]), len(facade_pref_lattice[0][0]) - 2))\n",
    "for i, x in enumerate(facade_pref_lattice):\n",
    "    for j, y in enumerate(x):\n",
    "\n",
    "        y = np.delete(y, 4)\n",
    "        y = np.delete(y, 0)\n",
    "        facade_pref_lattice2[i][j] = y\n",
    "        \n",
    "facade_pref_lattice = facade_pref_lattice2\n",
    "\n",
    "env_info = [sun_acc_lattice, svf_acc_lattice, gnd_floor_pref_lattice, sub_floor_pref_lattice,\n",
    "            coffee_pref_lattice, vis_ent_pref_lattice, park_ent_pref_lattice, NE_pref_lattice, \n",
    "            NW_pref_lattice, SE_pref_lattice, SW_pref_lattice, facade_pref_lattice]"
   ]
  },
  {
   "cell_type": "markdown",
   "metadata": {},
   "source": [
    "## 1. ABM Simulation\n",
    "\n",
    "### 1.1. Initialize the Agents"
   ]
  },
  {
   "cell_type": "code",
   "execution_count": null,
   "metadata": {
    "scrolled": true
   },
   "outputs": [],
   "source": [
    "# initialize the occupation lattice\n",
    "occ_lattice = avail_lattice * 0 - 1\n",
    "\n",
    "test_lattice = avail_lattice * 0 - 1\n",
    "\n",
    "keep_distance_lattice = tg.to_lattice(np.copy(occ_lattice), occ_lattice)\n",
    "\n",
    "\n",
    "# Finding the index of the available voxels in avail_lattice\n",
    "avail_flat = avail_lattice.flatten()\n",
    "avail_index = np.array(np.where(avail_lattice == 1)).T\n",
    "\n",
    "# count the number of spaces (rows) and intiialize an agent for each space\n",
    "agn_num = len(agn_info)\n",
    "\n",
    "# adding the origins to the agents locations\n",
    "agn_locs = []\n",
    "\n",
    "# retrieving the entrance access value of the free neighbours\n",
    "for a_id in agn_ids:    \n",
    "    voxel_vals = []\n",
    "    pot_voxels = []\n",
    "    # retrieve agent preferences\n",
    "    a_pref = agn_prefs_env[int(a_id)]\n",
    "    print(agn_prefs_env, a_id)\n",
    "    # Voxel Evaluation Loop\n",
    "    for pot_vox in avail_index:\n",
    "        if avail_lattice[tuple(pot_vox)]: #so if the voxel is available\n",
    "            global_vox_value = 1.0\n",
    "            # for every lattice in the environment informations\n",
    "            for i, info_lattice in enumerate(env_info):\n",
    "                # Here we utilise Fuzzy Logics to be able to compare different layers \n",
    "                # of environmental information and evaluate the voxel for the agent. \n",
    "                # This method is introduced, and generalised in Pirouz Nourian dissertation: \n",
    "                # section 5.7.3, pp. 201-208, eq. 57. You can refer to this section for \n",
    "                # comprehensive mathematical details.\n",
    "                vox_val = info_lattice[tuple(pot_vox)]\n",
    "                agn_vox_val = np.power(vox_val, a_pref[i])\n",
    "                global_vox_value *= agn_vox_val\n",
    "            # add the neighbour value to the list of values\n",
    "            voxel_vals.append(global_vox_value)\n",
    "            pot_voxels.append(pot_vox)\n",
    "    \n",
    "    # convert to numpy array\n",
    "    voxel_vals = np.array(voxel_vals)\n",
    "    # convert to numpy array\n",
    "    pot_voxels = np.array(pot_voxels)\n",
    "    # select the neighbour with highest value \n",
    "    selected_int = np.argmax(voxel_vals)                #use argsort?\n",
    "    # find 3D intiger index of selected neighbour\n",
    "    selected_neigh_3d_id = tuple(pot_voxels[selected_int].T)\n",
    "    # find the location of the newly selected neighbour\n",
    "    selected_neigh_loc = np.array(selected_neigh_3d_id).flatten()\n",
    "    \n",
    "    # add the newly selected neighbour location to agent locations\n",
    "    agn_locs.append([selected_neigh_loc])\n",
    "    # set the newly selected neighbour as UNavailable (0) in the availability lattice\n",
    "    avail_lattice[selected_neigh_3d_id] = 0\n",
    "    # set the newly selected neighbour as OCCUPIED by current agent \n",
    "    # (-1 means not-occupied so a_id)\n",
    "    occ_lattice[selected_neigh_3d_id] = a_id"
   ]
  },
  {
   "cell_type": "markdown",
   "metadata": {},
   "source": [
    "### 1.2.1 Initialize the distance matrices"
   ]
  },
  {
   "cell_type": "code",
   "execution_count": null,
   "metadata": {},
   "outputs": [],
   "source": [
    "# func for distance matrix for every agent seed, can be used in a kind of dynamic relaxation\n",
    "# find the number of all voxels\n",
    "vox_count = avail_lattice.size \n",
    "\n",
    "# initialize the adjacency matrix\n",
    "adj_mtrx = np.zeros((vox_count,vox_count))\n",
    "# Finding the index of the available voxels in avail_lattice\n",
    "avail_index = np.array(np.where(avail_lattice == 1)).T\n",
    "\n",
    "# fill the adjacency matrix using the list of all neighbours\n",
    "for vox_loc in avail_index:\n",
    "    # find the 1D id\n",
    "    vox_id = np.ravel_multi_index(vox_loc, avail_lattice.shape)\n",
    "    # retrieve the list of neighbours of the voxel based on the stencil\n",
    "    vox_neighs = avail_lattice.find_neighbours_masked(stencil, loc = vox_loc)\n",
    "    # iterating over the neighbours\n",
    "    for neigh in vox_neighs:\n",
    "        # setting the entry to one\n",
    "        adj_mtrx[vox_id, neigh] = 1.0\n",
    "\n",
    "# construct the graph \n",
    "g = nx.from_numpy_array(adj_mtrx)\n",
    "\n",
    "# insert the distance lattices into env_info\n",
    "for i in range(agn_num):\n",
    "    env_info.insert(0, avail_lattice * float(0))\n"
   ]
  },
  {
   "cell_type": "markdown",
   "metadata": {},
   "source": [
    "### 1.2.2 Function to update the distance matrices"
   ]
  },
  {
   "cell_type": "code",
   "execution_count": null,
   "metadata": {},
   "outputs": [],
   "source": [
    "def update_closeness_mtrx():\n",
    "    global agn_locs, avail_lattice, g\n",
    "    \n",
    "    for n, i in enumerate(agn_locs): \n",
    "        dist_mtrx = avail_lattice * float(0)\n",
    "        for j in g.nodes():\n",
    "            if np.unravel_index(j, avail_lattice.shape)[2] == i[0][2]:   #Calculate distance on the horizontal axis\n",
    "                temp_vox = np.unravel_index(j, avail_lattice.shape)\n",
    "                dist_vec = np.array(i) - np.array(temp_vox)\n",
    "                \n",
    "                #now we have absolute distance, let's make it normalized closeness (0 - 1)\n",
    "                dist_mtrx[temp_vox[0], temp_vox[1], :] = float(np.linalg.norm(dist_vec))\n",
    "        argmax = np.argmax(dist_mtrx)\n",
    "        loc3d = np.unravel_index(argmax, avail_lattice.shape)\n",
    "        maxdist = dist_mtrx[tuple(loc3d)]\n",
    "\n",
    "        closeness_mtrx = 1 - dist_mtrx / maxdist     #normalising\n",
    "\n",
    "        env_info[n]= closeness_mtrx\n",
    "\n",
    "update_closeness_mtrx()     #first calculation after the initial seed agent placement"
   ]
  },
  {
   "cell_type": "markdown",
   "metadata": {},
   "source": [
    "### 1.3. Defining the depth function"
   ]
  },
  {
   "cell_type": "code",
   "execution_count": null,
   "metadata": {},
   "outputs": [],
   "source": [
    "###This function makes sure the building doesn't exceed a maximum depth\n",
    "\n",
    "def depth(occ_lattice, a_id, avail_lattice, agn_locs, max_depth, max_amount):\n",
    "    global init_avail_lattice\n",
    "    \n",
    "    #Loop through the agent locations\n",
    "    for loc in agn_locs[a_id]:\n",
    "        output = 0\n",
    "        \n",
    "        \n",
    "        my_stencil = np.array([[1, 0, 0],\n",
    "                        [-1, 0, 0],\n",
    "                       [0, 1, 0],\n",
    "                       [0, -1, 0]])\n",
    "\n",
    "        \n",
    "        neigh_check = []\n",
    "        forbidden_voxels = []\n",
    "        \n",
    "        \n",
    "        for i in my_stencil:\n",
    "            temp = loc\n",
    "            # append the neighbours in a given distance to neigh_check\n",
    "            for j in range(max_depth):\n",
    "                temp = tuple(np.add(i, temp))\n",
    "                neigh_check.append(temp)\n",
    "            \n",
    "        counter = 0\n",
    "\n",
    "        for n in neigh_check:\n",
    "            try:\n",
    "                #is the neighbours occupied by a voxel?\n",
    "                if avail_lattice[n] == False and init_avail_lattice[n] == True:\n",
    "                    counter += 1\n",
    "            except:\n",
    "                pass\n",
    "                \n",
    "        counter_forbidden = 0\n",
    "        if counter == len(neigh_check):\n",
    "            \n",
    "            #check how many max_dist + 1 voxels aren't occupied\n",
    "            for t in my_stencil:\n",
    "                vox_loc = tuple(np.add((np.array(t) * (max_depth + 1)), loc))\n",
    "                try:\n",
    "                    dist_plus_one = occ_lattice[vox_loc]\n",
    "                    if dist_plus_one == -1:\n",
    "                        forbidden_voxels.append(vox_loc)                    \n",
    "\n",
    "                except:\n",
    "                    pass\n",
    "                \n",
    "            #make those not occupied voxels unavailable if the number of these voxels is equal to the max_amount\n",
    "            if len(forbidden_voxels) == max_amount:\n",
    "                for f in forbidden_voxels:\n",
    "                    avail_lattice[f[0], f[1], 1:] = False"
   ]
  },
  {
   "cell_type": "markdown",
   "metadata": {},
   "source": [
    "### 1.4. Defining the keep_distance function"
   ]
  },
  {
   "cell_type": "code",
   "execution_count": null,
   "metadata": {},
   "outputs": [],
   "source": [
    "###This function makes sure other functions don't get closer than 'distance' to this function\n",
    "\n",
    "def keep_distance(a_id, loc, keep_distance_lattice, distance, avail_lattice, switch):\n",
    "    global occ_lattice\n",
    "    my_stencil = np.array([[1, 0, 0],\n",
    "                    [-1, 0, 0],\n",
    "                   [0, 1, 0],\n",
    "                   [0, -1, 0]])\n",
    "\n",
    "    def recurse(my_stencil, loc, n, keep_distance_lattice):    #recursive function to find all voxels within a radius\n",
    "        \n",
    "        if n > 0:\n",
    "            for i in my_stencil:\n",
    "                recurse(my_stencil, loc+i, n-1, keep_distance_lattice)\n",
    "        else:\n",
    "            try:\n",
    "                keep_distance_lattice[loc[0], loc[1], 3:] = a_id    #set the keep_distance_lattice to the agent id\n",
    "            except:\n",
    "                pass\n",
    "    \n",
    "    for i in range(distance):\n",
    "        recurse(my_stencil, loc, i, keep_distance_lattice)\n"
   ]
  },
  {
   "cell_type": "markdown",
   "metadata": {},
   "source": [
    "### 2.1. The simulation"
   ]
  },
  {
   "cell_type": "code",
   "execution_count": null,
   "metadata": {
    "scrolled": true,
    "tags": []
   },
   "outputs": [],
   "source": [
    "# make a deep copy of occupation lattice\n",
    "cur_occ_lattice = tg.to_lattice(np.copy(occ_lattice), occ_lattice)\n",
    "# initialzing the list of frames\n",
    "frames = [cur_occ_lattice]\n",
    "\n",
    "\n",
    "# setting the time variable to 0\n",
    "t = 0\n",
    "n_frames = 1700\n",
    "threshold = 100     #for how many iterations should the seed agents walk around\n",
    "forbidden = []\n",
    "have_max_depth = [11, 21] # selecting functions that have a max depth\n",
    "squareness_factor = 1.5\n",
    "are_square = [0, 3, 4, 5, 6, 9, 10, 11, 12, 13, 14, 15, 16, 18, 21, 22, 24] # selecting specific functions to be more square\n",
    "most_recent = np.array(agn_num)\n",
    "\n",
    "\n",
    "# Simulation Loop\n",
    "# main feedback loop of the simulation (for each time step ...)\n",
    "while t<n_frames:\n",
    "    print(t)\n",
    "    # Agent Loop\n",
    "    # for each agent ... \n",
    "    for a_id in range(agn_num):\n",
    "        if len(agn_locs[a_id]) <= agn_prefs[a_id][-1]: # \n",
    "            # retrieve the list of the locations of the current agent\n",
    "            a_locs = agn_locs[a_id]\n",
    "            # initialize the list of free neighbours\n",
    "            free_neighs = []\n",
    "            free_neighs_1d = []\n",
    "            \n",
    "            switch = True      #use the depth function? Mainly for troubleshooting reasons\n",
    "            \n",
    "            if switch == True and (a_id in have_max_depth) and t > threshold:   \n",
    "                depth(occ_lattice, a_id, avail_lattice, agn_locs, 2, 1)\n",
    "                \n",
    "            # Location loop\n",
    "            # for each location of the agent\n",
    "            for loc in a_locs:\n",
    "                \n",
    "\n",
    "                # retrieve the list of neighbours of the agent based on the stencil\n",
    "                neighs = neighbours(loc, avail_lattice)\n",
    "\n",
    "                # for each neighbour ... \n",
    "                for n in neighs\n",
    "                    \n",
    "                    # if the neighbour is available                    \n",
    "                    if ((avail_lattice[tuple(n)] or (np.array(loc) == np.array(n)).all()) and \n",
    "                        (keep_distance_lattice[tuple(n)] == -1 or (keep_distance_lattice[tuple(n)] == a_id)))\n",
    "\n",
    "                        #if the agents are walking around\n",
    "                        if t < threshold:\n",
    "                            free_neighs.append(n)\n",
    "                            free_neighs_1d.append(np.ravel_multi_index(n, avail_lattice.shape))\n",
    "\n",
    "                        #else: the growing phase has started\n",
    "                        else:\n",
    "                            temp_down = [n[0], n[1], n[2] - 1]\n",
    "                            \n",
    "                            #if the function cannot grow underground, the z value should be between 1 and 5 or the voxel below\n",
    "                            #should also be occupied\n",
    "                            if t >= threshold and not (a_id == 0 or a_id == 1 or a_id == 22) and n[2] > 1 and ((1 < n[2] < 5) or ((occ_lattice[tuple(temp_up)] == a_id) or \n",
    "                                              (occ_lattice[tuple(temp_down)] != -1))):\n",
    "\n",
    "                                free_neighs.append(n)\n",
    "                                free_neighs_1d.append(np.ravel_multi_index(n, avail_lattice.shape))\n",
    "\n",
    "                            #if the function must grow underground, the z value should be 1\n",
    "                            elif t >= threshold and (a_id == 0 or a_id == 1 or a_id == 22) and n[2] == 1:\n",
    "                                free_neighs.append(n)\n",
    "                                free_neighs_1d.append(np.ravel_multi_index(n, avail_lattice.shape))\n",
    "\n",
    "\n",
    "            # check if found any free neighbour\n",
    "            if len(free_neighs)>0:   \n",
    "                # convert free neighbours to a numpy array\n",
    "                free_neighs = np.array(free_neighs)\n",
    "                free_neighs_1d = np.array(free_neighs_1d)\n",
    "\n",
    "                neigh_vals = []\n",
    "                # retrieve agent preferences\n",
    "                a_pref = agn_prefs[a_id]\n",
    "                # Neighbour Evaluation Loop\n",
    "                for neigh in free_neighs:\n",
    "\n",
    "                    neigh_value = 1.0\n",
    "\n",
    "                    # for every lattice in the environment informations\n",
    "                    for i, info_lattice in enumerate(env_info):\n",
    "                        if (a_id != i and t < threshold) or t > threshold:\n",
    "                        # Here we utilise Fuzzy Logics to be able to compare different layers \n",
    "                        # of environmental information and evaluate the voxel for the agent. \n",
    "                        # This method is introduced, and generalised in Pirouz Nourian dissertation: \n",
    "                        # section 5.7.3, pp. 201-208, eq. 57. You can refer to this section for \n",
    "                        # comprehensive mathematical details.\n",
    "                            vox_val = info_lattice[tuple(neigh)]\n",
    "                            agn_vox_val = np.power(vox_val, a_pref[i])\n",
    "                            neigh_value *= agn_vox_val\n",
    "\n",
    "                    # add the neighbour value to the list of values\n",
    "                    neigh_vals.append(neigh_value)\n",
    "                \n",
    "                #squareness weights added to specific functions\n",
    "                if a_id in are_square:\n",
    "                    uniq_neighs, unique_to_norm_order, unique_neighs_count = np.unique(free_neighs_1d, return_counts=True, return_inverse=True)   \n",
    "                    extra_weight = (unique_neighs_count - 1) * squareness_factor\n",
    "                    \n",
    "                    for i in range(len(neigh_vals)):\n",
    "                        neigh_vals[i] *= (1 + extra_weight[unique_to_norm_order][i])\n",
    "            \n",
    "                # convert to numpy array\n",
    "                neigh_vals = np.array(neigh_vals)\n",
    "                \n",
    "                # select the neighbour with highest value \n",
    "                selected_int = np.argmax(neigh_vals) \n",
    "                # find 3D intiger index of selected neighbour\n",
    "                selected_neigh_3d_id = tuple(free_neighs[selected_int].T)\n",
    "                \n",
    "                #if the agent needs to have a maximum depth, it also should have a distance to other functions\n",
    "                if t >= threshold and (a_id in have_max_depth):\n",
    "                    keep_distance(a_id, selected_neigh_3d_id, keep_distance_lattice, 3, avail_lattice, False)\n",
    "    \n",
    "                # find the location of the newly selected neighbour\n",
    "                selected_neigh_loc = np.array(selected_neigh_3d_id).flatten()\n",
    "\n",
    "                # add the newly selected neighbour location to agent locations\n",
    "                agn_locs[a_id].append(selected_neigh_loc)\n",
    "\n",
    "                #if the agents are walking, the previous agent must be deleted and that voxel must be made available\n",
    "                if t < threshold and len(agn_locs[a_id]) > 1:\n",
    "                    temp = agn_locs[a_id][0]\n",
    "\n",
    "                    avail_lattice[tuple(temp)] = True\n",
    "                    occ_lattice[tuple(temp)] = -1\n",
    "                    del agn_locs[a_id][0]\n",
    "\n",
    "                # set the newly selected neighbour as UNavailable (0) in the availability lattice\n",
    "                avail_lattice[selected_neigh_3d_id] = False\n",
    "                \n",
    "                #No voxels can grow above the hub\n",
    "                if (a_id == 2 or a_id == 18) and t >= threshold:\n",
    "                    avail_lattice[selected_neigh_3d_id[0], selected_neigh_3d_id[1], 2:] = False\n",
    "\n",
    "                # set the newly selected neighbour as OCCUPIED by current agent \n",
    "                # (-1 means not-occupied so a_id)\n",
    "                occ_lattice[selected_neigh_3d_id] = a_id\n",
    "\n",
    "\n",
    "    # constructing the new lattice\n",
    "    new_occ_lattice = tg.to_lattice(np.copy(occ_lattice), occ_lattice)\n",
    "    \n",
    "    # adding the new lattice to the list of frames\n",
    "    frames.append(new_occ_lattice)\n",
    "    # adding one to the time counter\n",
    "    t += 1\n",
    "    if t < threshold:\n",
    "        occ_lattice = avail_lattice * 0 - 1\n",
    "        update_closeness_mtrx()"
   ]
  },
  {
   "cell_type": "markdown",
   "metadata": {},
   "source": [
    "### 2.2. Visualizing the simulation"
   ]
  },
  {
   "cell_type": "code",
   "execution_count": null,
   "metadata": {
    "scrolled": false
   },
   "outputs": [],
   "source": [
    "pv.set_plot_theme(\"document\")\n",
    "p = pv.Plotter(notebook=True)\n",
    "\n",
    "base_lattice = frames[0]\n",
    "\n",
    "# Set the grid dimensions: shape + 1 because we want to inject our values on the CELL data\n",
    "grid = pv.UniformGrid()\n",
    "grid.dimensions = np.array(base_lattice.shape) + 1\n",
    "# The bottom left corner of the data set\n",
    "grid.origin = base_lattice.minbound - base_lattice.unit * 0.5\n",
    "# These are the cell sizes along each axis\n",
    "grid.spacing = base_lattice.unit \n",
    "\n",
    "# adding the boundingbox wireframe\n",
    "p.add_mesh(grid.outline(), color=\"grey\", label=\"Domain\")\n",
    "\n",
    "cmap = plt.cm.get_cmap(\"viridis\", 5)\n",
    "\n",
    "def create_mesh(value):\n",
    "    f = int(value)\n",
    "    lattice = frames[f]\n",
    "\n",
    "    # Add the data values to the cell data\n",
    "    grid.cell_arrays[\"Agents\"] = lattice.flatten(order=\"F\").astype(int)  # Flatten the array!\n",
    "    # filtering the voxels\n",
    "    threshed = grid.threshold([-0.1, agn_num - 0.9])\n",
    "    # adding the voxels\n",
    "    p.add_mesh(threshed, name='sphere', show_edges=True, opacity=1, show_scalar_bar=False)\n",
    "    return\n",
    "\n",
    "p.add_slider_widget(create_mesh, [0, n_frames], title='Time', value=0, event_type=\"always\", style=\"classic\", pointa=(0.1, 0.1), pointb=(0.9, 0.1))\n",
    "\n",
    "p.window_size = 1000, 1000\n",
    "\n",
    "# for i in range(171):\n",
    "#     create_mesh(i * 10)\n",
    "#     p.screenshot(\"growth_\" + str(i * 10))\n",
    "    \n",
    "p.show(use_ipyvtk=True)"
   ]
  },
  {
   "cell_type": "markdown",
   "metadata": {},
   "source": [
    "### 2.3. Saving lattice frames in CSV"
   ]
  },
  {
   "cell_type": "code",
   "execution_count": null,
   "metadata": {},
   "outputs": [],
   "source": [
    "lattice = frames[-1]\n",
    "csv_path = os.path.relpath('../data/324/growth_output.csv')\n",
    "lattice.to_csv(csv_path)"
   ]
  },
  {
   "cell_type": "markdown",
   "metadata": {},
   "source": [
    "## 3. Shafts and Corridors\n",
    "\n",
    "### 3.1. stencil creation"
   ]
  },
  {
   "cell_type": "code",
   "execution_count": null,
   "metadata": {},
   "outputs": [],
   "source": [
    "# creating neighborhood definition\n",
    "stencil_flat = tg.create_stencil(\"von_neumann\", 1, 1)\n",
    "# setting the center to zero\n",
    "stencil_flat.set_index([0,0,0], 0)\n",
    "stencil_flat.set_index([0,0,1], 0)\n",
    "stencil_flat.set_index([0,0,-1], 0)\n",
    "print(stencil_flat)"
   ]
  },
  {
   "cell_type": "code",
   "execution_count": null,
   "metadata": {},
   "outputs": [],
   "source": [
    "avail_index_bool = np.array((frames[-1] >= 0).tolist()) # making a new availability boolean lattice\n",
    "\n",
    "# ignoring some functions that do not need a shaft to be grown inside (park for instance)\n",
    "avail_index_bool[np.where(frames[-1] == 2)] = False\n",
    "avail_index_bool[np.where(frames[-1] == 13)] = False\n",
    "avail_index_bool[np.where(frames[-1] == 14)] = False\n",
    "\n",
    "#lattice creation\n",
    "avail_lattice_bool = tg.to_lattice(avail_index_bool.reshape(avail_lattice.shape),avail_lattice)"
   ]
  },
  {
   "cell_type": "markdown",
   "metadata": {},
   "source": [
    "### 3.2. Visualize the lattice for shaft and corridor growth"
   ]
  },
  {
   "cell_type": "code",
   "execution_count": null,
   "metadata": {},
   "outputs": [],
   "source": [
    "# convert mesh to pv_mesh\n",
    "def tri_to_pv(tri_mesh):\n",
    "    faces = np.pad(tri_mesh.faces, ((0, 0),(1,0)), 'constant', constant_values=3)\n",
    "    pv_mesh = pv.PolyData(tri_mesh.vertices, faces)\n",
    "    return pv_mesh\n",
    "\n",
    "# Visualize the mesh using pyvista plotter\n",
    "\n",
    "# initiating the plotter\n",
    "p = pv.Plotter(notebook=True)\n",
    "\n",
    "# fast visualization of the lattice\n",
    "avail_lattice_bool.fast_vis(p)\n",
    "\n",
    "# plotting\n",
    "p.window_size = 1000, 1000\n",
    "# p.screenshot(\"corridors_1\")    \n",
    "p.show(use_ipyvtk=True)"
   ]
  },
  {
   "cell_type": "markdown",
   "metadata": {},
   "source": [
    "### 4.1. calculating cluster centers for each agent, based on agent size"
   ]
  },
  {
   "cell_type": "code",
   "execution_count": null,
   "metadata": {},
   "outputs": [],
   "source": [
    "cluster_centers = []\n",
    "for func_id in range(0, int(np.max(frames[-1])) + 1):\n",
    "    if not func_id in [2, 13, 14, 19, 20]: #again not caring about specific functions, such as the garden\n",
    "        function_locs = np.array(np.where(frames[-1] == func_id)).T\n",
    "        \n",
    "        # for every multiple of 100 voxels a cluster center is created and at least 1 per agent\n",
    "        nclusters = int(len(function_locs) / 100 + 1)\n",
    "        kmeans_model = KMeans(n_clusters= nclusters, random_state=0).fit(function_locs)\n",
    "        cluster_centers.append(np.round(kmeans_model.cluster_centers_).astype(np.int8))\n",
    "\n",
    "# making shure it's no longer a nested cluster center list\n",
    "cluster_center_list = []\n",
    "for i in range(len(cluster_centers)):\n",
    "    cluster_center_list.append(cluster_centers[i][0])"
   ]
  },
  {
   "cell_type": "code",
   "execution_count": null,
   "metadata": {},
   "outputs": [],
   "source": [
    "#creating a lattice that shows all cluster centers\n",
    "cluster_center_lattice = avail_lattice_bool * 0\n",
    "for cluster_center in cluster_center_list:\n",
    "    cluster_center_lattice[cluster_center[0], cluster_center[1], cluster_center[2]] = 1"
   ]
  },
  {
   "cell_type": "markdown",
   "metadata": {},
   "source": [
    "### 4.2. Visualizing the cluster centers"
   ]
  },
  {
   "cell_type": "code",
   "execution_count": null,
   "metadata": {},
   "outputs": [],
   "source": [
    "p = pv.Plotter(notebook=True)\n",
    "\n",
    "base_lattice = cluster_center_lattice\n",
    "\n",
    "# Set the grid dimensions: shape + 1 because we want to inject our values on the CELL data\n",
    "grid = pv.UniformGrid()\n",
    "grid.dimensions = np.array(base_lattice.shape) + 1\n",
    "# The bottom left corner of the data set\n",
    "grid.origin = base_lattice.minbound - base_lattice.unit * 0.5\n",
    "# These are the cell sizes along each axis\n",
    "grid.spacing = base_lattice.unit \n",
    "\n",
    "# adding the boundingbox wireframe\n",
    "p.add_mesh(grid.outline(), color=\"grey\", label=\"Domain\")\n",
    "\n",
    "# adding the avilability lattice\n",
    "avail_lattice_bool.fast_vis(p)\n",
    "\n",
    "# Add the data values to the cell data\n",
    "grid.cell_arrays[\"Agents\"] = base_lattice.flatten(order=\"F\").astype(int)  # Flatten the array!\n",
    "# filtering the voxels\n",
    "threshed = grid.threshold([0.9, 1.1])\n",
    "# adding the voxels\n",
    "p.add_mesh(threshed, name='sphere', show_edges=True, opacity=1.0, show_scalar_bar=False, color = [1,1,0])\n",
    "\n",
    "p.window_size = 1000, 1000\n",
    "# p.screenshot(\"corridors_2\")    \n",
    "p.show(use_ipyvtk=True)"
   ]
  },
  {
   "cell_type": "markdown",
   "metadata": {},
   "source": [
    "### 4.3. Calculating 2D shaft placement"
   ]
  },
  {
   "cell_type": "code",
   "execution_count": null,
   "metadata": {},
   "outputs": [],
   "source": [
    "kmeans_model = KMeans(n_clusters=6, random_state=0).fit(cluster_center_list) # select how many shafts\n",
    "cluster_centers_total = np.round(kmeans_model.cluster_centers_).astype(np.int8)\n",
    "\n",
    "# init shaft lattice\n",
    "shft_lattice = avail_lattice_bool * 0\n",
    "# setting the shafts to 1\n",
    "for cl_cen in cluster_centers_total:\n",
    "    shft_lattice[cl_cen[0],cl_cen[1],:] = 1"
   ]
  },
  {
   "cell_type": "markdown",
   "metadata": {},
   "source": [
    "### 4.4. Visualizing the shaft lattice"
   ]
  },
  {
   "cell_type": "code",
   "execution_count": null,
   "metadata": {},
   "outputs": [],
   "source": [
    "p = pv.Plotter(notebook=True)\n",
    "\n",
    "base_lattice = shft_lattice * avail_lattice_bool\n",
    "\n",
    "# Set the grid dimensions: shape + 1 because we want to inject our values on the CELL data\n",
    "grid = pv.UniformGrid()\n",
    "grid.dimensions = np.array(base_lattice.shape) + 1\n",
    "# The bottom left corner of the data set\n",
    "grid.origin = base_lattice.minbound - base_lattice.unit * 0.5\n",
    "# These are the cell sizes along each axis\n",
    "grid.spacing = base_lattice.unit \n",
    "\n",
    "# adding the boundingbox wireframe\n",
    "p.add_mesh(grid.outline(), color=\"grey\", label=\"Domain\")\n",
    "\n",
    "# adding the avilability lattice\n",
    "avail_lattice_bool.fast_vis(p)\n",
    "\n",
    "# Add the data values to the cell data\n",
    "grid.cell_arrays[\"Agents\"] = base_lattice.flatten(order=\"F\").astype(int)  # Flatten the array!\n",
    "# filtering the voxels\n",
    "threshed = grid.threshold([0.9, 1.1])\n",
    "# adding the voxels\n",
    "p.add_mesh(threshed, name='sphere', show_edges=True, opacity=1.0, show_scalar_bar=False)\n",
    "\n",
    "p.window_size = 1000, 1000\n",
    "# p.screenshot(\"corridors_3\")    \n",
    "p.show(use_ipyvtk=True)"
   ]
  },
  {
   "cell_type": "markdown",
   "metadata": {},
   "source": [
    "### 5.1. Adjacency matrix creation"
   ]
  },
  {
   "cell_type": "code",
   "execution_count": null,
   "metadata": {},
   "outputs": [],
   "source": [
    "avail_lattice_flat = avail_lattice_bool.flatten()\n",
    "\n",
    "# find the number of all voxels\n",
    "vox_count = avail_lattice_bool.size \n",
    "\n",
    "# initialize the adjacency matrix\n",
    "adj_list = []\n",
    "\n",
    "# Finding the index of the available voxels in avail_lattice\n",
    "avail_index = np.array(np.where(avail_lattice_bool == 1)).T\n",
    "\n",
    "# fill the adjacency matrix using the list of all neighbours\n",
    "for vox_loc in avail_index:\n",
    "    # find the 1D id\n",
    "    vox_id = np.ravel_multi_index(vox_loc, avail_lattice_bool.shape)\n",
    "    \n",
    "    # retrieve the list of neighbours of the voxel based on the stencil\n",
    "    vox_neighs = init_avail_lattice.find_neighbours_masked(stencil, loc = vox_loc)\n",
    "    \n",
    "   # iterating over the neighbours\n",
    "    for neigh in vox_neighs:\n",
    "        if avail_lattice_flat[neigh] == 1:\n",
    "            adj_list.append([1.0, vox_id, neigh])\n",
    "\n",
    "#list to array\n",
    "adj_array = np.array(adj_list).T\n",
    "\n",
    "#array to sparce matrix\n",
    "adj_matrix_sparse =  csr_matrix((adj_array[0], (adj_array[1], adj_array[2])), shape=(vox_count,vox_count))\n",
    "\n",
    "#sparce matrix to nx connectivity graph\n",
    "g = nx.from_scipy_sparse_matrix(adj_matrix_sparse)"
   ]
  },
  {
   "cell_type": "markdown",
   "metadata": {},
   "source": [
    "### 5.2. Corridor growth"
   ]
  },
  {
   "cell_type": "code",
   "execution_count": null,
   "metadata": {},
   "outputs": [],
   "source": [
    "occ_ind = cluster_center_list\n",
    "\n",
    "# initialize corridor lattice\n",
    "cor_lattice = shft_lattice * 0\n",
    "cor_flat = cor_lattice.flatten()\n",
    "# for each voxel that needs to have access to shafts\n",
    "for a_vox in occ_ind:\n",
    "    \n",
    "    # slice the corridor lattice horizontally\n",
    "    cor_floor = shft_lattice[:,:,a_vox[2]]\n",
    "    # find the vertical shaft voxel indices\n",
    "    shaft_vox_inds = np.array(np.where(cor_floor > 0)).T\n",
    "    paths = []\n",
    "    path_lens = []\n",
    "    for shft_ind in shaft_vox_inds:\n",
    "        # construct the destination address\n",
    "        dst_vox = np.array([shft_ind[0],shft_ind[1],a_vox[2]])\n",
    "        # construct 1-dimensional indices\n",
    "        src_ind = np.ravel_multi_index(a_vox, shft_lattice.shape)\n",
    "        dst_ind = np.ravel_multi_index(dst_vox, shft_lattice.shape)        \n",
    "        # find the shortest path\n",
    "        if nx.algorithms.shortest_paths.generic.has_path(g, src_ind, dst_ind):\n",
    "            path = nx.algorithms.shortest_paths.astar.astar_path(g, src_ind, dst_ind)\n",
    "            paths.append(path)\n",
    "            path_lens.append(len(path))\n",
    "    \n",
    "    # find the number of shortest path\n",
    "    for shortest_path_index in np.array(path_lens).argsort()[:1]: #select how many paths to connect to closest shafts\n",
    "        cor_flat[paths[shortest_path_index]] = 1\n",
    "        \n",
    "#set the floor level the shafts need to be connected\n",
    "connected_floor_levels = [2]\n",
    "\n",
    "for level in connected_floor_levels:\n",
    "    cur_floor_level = shft_lattice[:,:,level] #finding floor level\n",
    "    shaft_vox_inds = np.array(np.where(cur_floor_level > 0)).T #finding shafts\n",
    "    dst_ind_list = []\n",
    "    source_ind_list = []\n",
    "    for shft_ind in shaft_vox_inds:\n",
    "        # construct the destination address\n",
    "        dst_vox = np.array([shft_ind[0],shft_ind[1],level])\n",
    "        index = np.ravel_multi_index(dst_vox, shft_lattice.shape) #finding the 1D index\n",
    "        #setting the indices as both src and dst\n",
    "        dst_ind_list.append(index) \n",
    "        source_ind_list.append(index)\n",
    "\n",
    "    for dst_ind in dst_ind_list:\n",
    "        paths = []\n",
    "        path_lens = []\n",
    "        for source_ind in source_ind_list: #checking if path to itself\n",
    "            if dst_ind == source_ind:\n",
    "                continue\n",
    "            if nx.algorithms.shortest_paths.generic.has_path(g, source_ind, dst_ind):\n",
    "                path = nx.algorithms.shortest_paths.astar.astar_path(g, source_ind, dst_ind) #finding the closest paths\n",
    "                paths.append(path)\n",
    "                path_lens.append(len(path))\n",
    "            \n",
    "        # find the 2 shortest paths\n",
    "        for shortest_path_index in np.array(path_lens).argsort()[:2]: # selecting how many paths to connect to closests shafts\n",
    "            cor_flat[paths[shortest_path_index]] = 1       \n",
    "\n",
    "# reshape the flat lattice\n",
    "cor_lattice = cor_flat.reshape(cor_lattice.shape)"
   ]
  },
  {
   "cell_type": "markdown",
   "metadata": {},
   "source": [
    "### 5.3. Vizualizing the shafts and  corridors lattice"
   ]
  },
  {
   "cell_type": "code",
   "execution_count": null,
   "metadata": {},
   "outputs": [],
   "source": [
    "p = pv.Plotter(notebook=True)\n",
    "\n",
    "base_lattice = (shft_lattice + cor_lattice) * avail_lattice_bool\n",
    "\n",
    "# Set the grid dimensions: shape + 1 because we want to inject our values on the CELL data\n",
    "grid = pv.UniformGrid()\n",
    "grid.dimensions = np.array(base_lattice.shape) + 1\n",
    "# The bottom left corner of the data set\n",
    "grid.origin = base_lattice.minbound - base_lattice.unit * 0.5\n",
    "# These are the cell sizes along each axis\n",
    "grid.spacing = base_lattice.unit \n",
    "\n",
    "# adding the boundingbox wireframe\n",
    "p.add_mesh(grid.outline(), color=\"grey\", label=\"Domain\")\n",
    "\n",
    "# adding the avilability lattice\n",
    "avail_lattice_bool.fast_vis(p)\n",
    "\n",
    "# Add the data values to the cell data\n",
    "grid.cell_arrays[\"Agents\"] = base_lattice.flatten(order=\"F\").astype(int)  # Flatten the array!\n",
    "# filtering the voxels\n",
    "threshed = grid.threshold([0.9, 2.1])\n",
    "# adding the voxels\n",
    "p.add_mesh(threshed, name='sphere', show_edges=True, opacity=1.0, show_scalar_bar=False)\n",
    "\n",
    "p.window_size = 1000, 1000\n",
    "p.screenshot(\"corridors_4\")    \n",
    "p.show(use_ipyvtk=True)"
   ]
  },
  {
   "cell_type": "markdown",
   "metadata": {},
   "source": [
    "### 6.1. Setting the shafts as 1 and corridors as 2 for export"
   ]
  },
  {
   "cell_type": "code",
   "execution_count": null,
   "metadata": {},
   "outputs": [],
   "source": [
    "shafts_and_corridors_lattice = avail_lattice_bool * 0\n",
    "shafts_and_corridors_lattice[np.where(cor_lattice == 1)] = 2\n",
    "shafts_and_corridors_lattice[np.where(shft_lattice == 1)] = 1\n",
    "shafts_and_corridors_lattice *= avail_lattice_bool"
   ]
  },
  {
   "cell_type": "markdown",
   "metadata": {},
   "source": [
    "### 6.2. Exporting the lattices"
   ]
  },
  {
   "cell_type": "code",
   "execution_count": null,
   "metadata": {},
   "outputs": [],
   "source": [
    "csv_path = os.path.relpath('../data/324/shafts_and_corridors_lattice.csv')\n",
    "shafts_and_corridors_lattice.to_csv(csv_path)\n",
    "\n",
    "csv_path = os.path.relpath('../data/324/avail_lattice_bool.csv')\n",
    "avail_lattice_bool.to_csv(csv_path)"
   ]
  },
  {
   "cell_type": "markdown",
   "metadata": {},
   "source": [
    "### Credits"
   ]
  },
  {
   "cell_type": "code",
   "execution_count": null,
   "metadata": {},
   "outputs": [],
   "source": [
    "__author__ = \"Shervin Azadi and Pirouz Nourian\"\n",
    "__license__ = \"MIT\"\n",
    "__version__ = \"1.0\"\n",
    "__url__ = \"https://github.com/shervinazadi/spatial_computing_workshops\"\n",
    "__summary__ = \"Spatial Computing Design Studio Workshop on MCDA and Path Finding for Generative Spatial Relations\""
   ]
  }
 ],
 "metadata": {
  "kernelspec": {
   "display_name": "Python 3",
   "language": "python",
   "name": "python3"
  },
  "language_info": {
   "codemirror_mode": {
    "name": "ipython",
    "version": 3
   },
   "file_extension": ".py",
   "mimetype": "text/x-python",
   "name": "python",
   "nbconvert_exporter": "python",
   "pygments_lexer": "ipython3",
   "version": "3.8.4"
  }
 },
 "nbformat": 4,
 "nbformat_minor": 2
}
