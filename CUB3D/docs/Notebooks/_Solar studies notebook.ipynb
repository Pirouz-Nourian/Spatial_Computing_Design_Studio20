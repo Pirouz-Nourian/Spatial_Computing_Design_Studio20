{
 "cells": [
  {
   "cell_type": "markdown",
   "metadata": {},
   "source": [
    "# Solar Envelope, Solar accessibility and Sky view factor computations"
   ]
  },
  {
   "cell_type": "markdown",
   "metadata": {},
   "source": [
    "## 0. Initialization\n",
    "Importing all necessary libraries and specifying the inputs"
   ]
  },
  {
   "cell_type": "code",
   "execution_count": null,
   "metadata": {},
   "outputs": [],
   "source": [
    "import os\n",
    "import topogenesis as tg\n",
    "import pyvista as pv\n",
    "import trimesh as tm\n",
    "import numpy as np\n",
    "import pickle\n",
    "from ladybug.sunpath import Sunpath\n",
    "from scipy.interpolate import RegularGridInterpolator"
   ]
  },
  {
   "cell_type": "markdown",
   "metadata": {},
   "source": [
    "## 1. Import Meshes (context + envelope)\n",
    "\n",
    "### 1.1. Load Meshes"
   ]
  },
  {
   "cell_type": "code",
   "execution_count": null,
   "metadata": {
    "scrolled": true
   },
   "outputs": [],
   "source": [
    "envelope_path = os.path.relpath(\"../data/optional_envelope.obj\")\n",
    "context_path = os.path.relpath(\"../data/immediate_context2.obj\")\n",
    "skydome_path = os.path.relpath(\"../data/skydome.obj\")\n",
    "\n",
    "# load the mesh from file\n",
    "envelope_mesh = tm.load(envelope_path)\n",
    "context_mesh = tm.load(context_path)\n",
    "skydome_mesh = tm.load(skydome_path)\n",
    "\n",
    "# Check if the mesh is watertight\n",
    "print(envelope_mesh.is_watertight)"
   ]
  },
  {
   "cell_type": "markdown",
   "metadata": {},
   "source": [
    "### 1.2. Visualize Meshes (with pyvista)"
   ]
  },
  {
   "cell_type": "code",
   "execution_count": null,
   "metadata": {
    "scrolled": false
   },
   "outputs": [],
   "source": [
    "# convert trimesh to pv_mesh\n",
    "def tri_to_pv(tri_mesh):\n",
    "    faces = np.pad(tri_mesh.faces, ((0, 0),(1,0)), 'constant', constant_values=3)\n",
    "    pv_mesh = pv.PolyData(tri_mesh.vertices, faces)\n",
    "    return pv_mesh\n",
    "\n",
    "# initiating the plotter\n",
    "p = pv.Plotter(notebook=True)\n",
    "\n",
    "# adding the meshes\n",
    "p.add_mesh(tri_to_pv(envelope_mesh), color='#abd8ff')\n",
    "p.add_mesh(tri_to_pv(context_mesh), color='#aaaaaa')\n",
    "\n",
    "#trying the skydome\n",
    "# p.add_mesh(tri_to_pv(skydome_mesh), color='#aaaaaa')\n",
    "\n",
    "# plotting\n",
    "p.show(use_ipyvtk=True)"
   ]
  },
  {
   "cell_type": "markdown",
   "metadata": {},
   "source": [
    "## 2. Import Lattice (envelope)\n",
    "\n",
    "### 2.1. Load the Envelope Lattice"
   ]
  },
  {
   "cell_type": "code",
   "execution_count": null,
   "metadata": {
    "scrolled": false
   },
   "outputs": [],
   "source": [
    "# loading the lattice from csv\n",
    "lattice_path = os.path.relpath(\"../data/lattice1620.csv\")\n",
    "envelope_lattice = tg.lattice_from_csv(lattice_path)\n",
    "\n",
    "# creating the full lattice\n",
    "full_lattice = envelope_lattice * 0 + 1"
   ]
  },
  {
   "cell_type": "markdown",
   "metadata": {},
   "source": [
    "### 2.2. Visualize the Context Mesh + Envelope Lattice"
   ]
  },
  {
   "cell_type": "code",
   "execution_count": null,
   "metadata": {
    "scrolled": false
   },
   "outputs": [],
   "source": [
    "pv.set_plot_theme(\"document\")\n",
    "\n",
    "# convert mesh to pv_mesh\n",
    "def tri_to_pv(tri_mesh):\n",
    "    faces = np.pad(tri_mesh.faces, ((0, 0),(1,0)), 'constant', constant_values=3)\n",
    "    pv_mesh = pv.PolyData(tri_mesh.vertices, faces)\n",
    "    return pv_mesh\n",
    "\n",
    "# Visualize the mesh using pyvista plotter\n",
    "\n",
    "# initiating the plotter\n",
    "p = pv.Plotter(notebook=True)\n",
    "\n",
    "# fast visualization of the lattice\n",
    "full_lattice.fast_vis(p)\n",
    "\n",
    "# adding the meshes\n",
    "p.add_mesh(tri_to_pv(context_mesh), opacity=0.1, style='wireframe')\n",
    "\n",
    "# plotting\n",
    "cpos = [(785.8704805788776, 708.4540755788776, 741.8613927288776),\n",
    " (65.08283250000001, -12.333572500000002, 21.07374465),\n",
    " (0.0, 0.0, 1.0)]\n",
    "p.camera_position = cpos\n",
    "p.window_size = 2000, 2000\n",
    "p.show(use_ipyvtk=True)\n",
    "# p.screenshot(\"solar_1\")\n",
    "print(p.camera_position)"
   ]
  },
  {
   "cell_type": "markdown",
   "metadata": {},
   "source": [
    "## 3. Sun Vectors\n",
    "\n",
    "### 3.1. Compute Sun Vectors"
   ]
  },
  {
   "cell_type": "code",
   "execution_count": null,
   "metadata": {
    "scrolled": true,
    "tags": []
   },
   "outputs": [],
   "source": [
    "# initiate sunpath\n",
    "sp = Sunpath(longitude=4.4777, latitude=51.9244)\n",
    "\n",
    "# define sun hours : A list of hours of the year for each sun vector\n",
    "# there are 8760 hours in a year, so the following integers refer to specific hours throughout the year\n",
    "hoys = []\n",
    "sun_vectors = []\n",
    "day_multiple = 30\n",
    "\n",
    "# for every day in 365 days of a year\n",
    "for d in range(365):\n",
    "    # filter days\n",
    "    if d % day_multiple == 0:\n",
    "        # for every hour in 24 hours of a day\n",
    "        for h in range(24):\n",
    "            # reconstruct the hoy\n",
    "            hoy = d*24 + h\n",
    "            # compute the sun object\n",
    "            sun = sp.calculate_sun_from_hoy(hoy)\n",
    "            # extract the sun vector\n",
    "            sun_vector = sun.sun_vector.to_array()\n",
    "            # remove sun vectors beneath the horizon\n",
    "            if sun_vector[2] < 0.0:\n",
    "                # add the hoy to the list\n",
    "                hoys.append(hoy)\n",
    "                # add the sun vetor to the list\n",
    "                sun_vectors.append(sun_vector)\n",
    "\n",
    "# convert sun_vectors list to numpy array                \n",
    "sun_vectors = np.array(sun_vectors)\n",
    "# compute the rotation matrix : (angle, axis)\n",
    "Rz = tm.transformations.rotation_matrix(np.radians(36.324), [0,0,1])\n",
    "# Rotate the sun vectors to match the site rotation\n",
    "sun_vectors = tm.transform_points(sun_vectors, Rz)\n",
    "\n",
    "#checking how many rays to calculate\n",
    "print(len(sun_vectors))"
   ]
  },
  {
   "cell_type": "markdown",
   "metadata": {},
   "source": [
    "### 3.2. Computing SVF vectors with skydome, (exporting normals to list)"
   ]
  },
  {
   "cell_type": "code",
   "execution_count": null,
   "metadata": {
    "scrolled": false
   },
   "outputs": [],
   "source": [
    "#adding normals of the dome to a numpy list\n",
    "svf_vectors = np.array(skydome_mesh.face_normals)\n",
    "\n",
    "#checking how many rays to calculate\n",
    "print(len(svf_vectors))"
   ]
  },
  {
   "cell_type": "markdown",
   "metadata": {},
   "source": [
    "### 3.3. Visualization"
   ]
  },
  {
   "cell_type": "code",
   "execution_count": null,
   "metadata": {
    "scrolled": false
   },
   "outputs": [],
   "source": [
    "# Solar envelope and solar accessibility\n",
    "# convert mesh to pv_mesh\n",
    "def tri_to_pv(tri_mesh):\n",
    "    faces = np.pad(tri_mesh.faces, ((0, 0),(1,0)), 'constant', constant_values=3)\n",
    "    pv_mesh = pv.PolyData(tri_mesh.vertices, faces)\n",
    "    return pv_mesh\n",
    "\n",
    "# Visualize the mesh using pyvista plotter\n",
    "\n",
    "# initiating the plotter\n",
    "p = pv.Plotter(notebook=True)\n",
    "\n",
    "# fast visualization of the lattice\n",
    "full_lattice.fast_vis(p)\n",
    "\n",
    "# adding the meshes\n",
    "p.add_mesh(tri_to_pv(context_mesh), opacity=0.1, style='wireframe')\n",
    "\n",
    "# add the sun locations, color orange\n",
    "for loc in (- sun_vectors * 250):\n",
    "    p.add_mesh(pv.Sphere(radius= 2, center = loc), color=\"#ffa500\", show_edges=False, lighting = False)\n",
    "\n",
    "# plotting\n",
    "cpos = [(785.8704805788776, 708.4540755788776, 741.8613927288776),\n",
    " (65.08283250000001, -12.333572500000002, 21.07374465),\n",
    " (0.0, 0.0, 1.0)]\n",
    "p.camera_position = cpos\n",
    "p.window_size = 2000, 2000\n",
    "p.show(use_ipyvtk=True)\n",
    "# p.screenshot(\"solar_2\")\n",
    "print(p.camera_position)"
   ]
  },
  {
   "cell_type": "code",
   "execution_count": null,
   "metadata": {
    "scrolled": false
   },
   "outputs": [],
   "source": [
    "# SVF\n",
    "# convert mesh to pv_mesh\n",
    "def tri_to_pv(tri_mesh):\n",
    "    faces = np.pad(tri_mesh.faces, ((0, 0),(1,0)), 'constant', constant_values=3)\n",
    "    pv_mesh = pv.PolyData(tri_mesh.vertices, faces)\n",
    "    return pv_mesh\n",
    "\n",
    "# Visualize the mesh using pyvista plotter\n",
    "\n",
    "# initiating the plotter\n",
    "p = pv.Plotter(notebook=True)\n",
    "\n",
    "# fast visualization of the lattice\n",
    "full_lattice.fast_vis(p)\n",
    "\n",
    "# adding the meshes\n",
    "p.add_mesh(tri_to_pv(context_mesh), opacity=0.1, style='wireframe')\n",
    "\n",
    "# add the sun locations, color orange\n",
    "for loc in (svf_vectors * 250):\n",
    "    p.add_mesh(pv.Sphere(radius= 2, center = loc), color=\"#ffa500\", show_edges=False, lighting = False)\n",
    "\n",
    "# plotting\n",
    "cpos = [(785.8704805788776, 708.4540755788776, 741.8613927288776),\n",
    " (65.08283250000001, -12.333572500000002, 21.07374465),\n",
    " (0.0, 0.0, 1.0)]\n",
    "p.camera_position = cpos\n",
    "p.window_size = 2000, 2000\n",
    "p.show(use_ipyvtk=True)\n",
    "# p.screenshot(\"solar_3\")\n",
    "print(p.camera_position)"
   ]
  },
  {
   "cell_type": "markdown",
   "metadata": {},
   "source": [
    "## 4. Compute Intersection of Sun Rays with Context Mesh\n",
    "\n",
    "### 4.1. Preparing the List of Ray Directions and Origins"
   ]
  },
  {
   "cell_type": "code",
   "execution_count": null,
   "metadata": {},
   "outputs": [],
   "source": [
    "# # Coreating list of directions and rays for solar accesibility and envelope\n",
    "\n",
    "# constructing the sun direction from the sun vectors in a numpy array\n",
    "converted_sun_vectors = sun_vectors.astype('float16')\n",
    "\n",
    "sun_dirs = -np.array(converted_sun_vectors)\n",
    "\n",
    "# exract the centroids of the envelope voxels\n",
    "vox_cens = full_lattice.centroids\n",
    "\n",
    "# next step we need to shoot in all of the sun directions from all of the voxels, todo so, \n",
    "# we need repeat the sun direction for the number of voxels to construct the ray_dir \n",
    "# (which is the list of all ray directions).\n",
    "\n",
    "# creating a second ray_dir and ray_src list, also keeping track\n",
    "# of which voxels need to shoot a reversed ray with an index\n",
    "\n",
    "ray_dir = []\n",
    "ray_src = []\n",
    "ray_dir2 = []\n",
    "ray_src2 = []\n",
    "ray_dir2_index = []\n",
    "\n",
    "for v_cen in vox_cens:\n",
    "        for s_dir in sun_dirs:\n",
    "            ray_src.append(v_cen)\n",
    "            ray_dir.append(s_dir)\n",
    "\n",
    "# checking if the ray intersects with any geometry, if not, appending the reversed ray to a second src snd dir list\n",
    "# Also creating an index list so that the voxel id can be correctly reinserted later on\n",
    "\n",
    "for v_cen in vox_cens:\n",
    "        for s_dir in sun_dirs:\n",
    "            if context_mesh.ray.intersects_any(ray_origins=[v_cen], ray_directions=[s_dir]):\n",
    "                ray_dir2_index.append(0)\n",
    "                continue\n",
    "            else:\n",
    "                ray_src2.append(v_cen)\n",
    "                ray_dir2.append(-s_dir) # adding the reversed ray\n",
    "                ray_dir2_index.append(1)\n",
    "\n",
    "\n",
    "# converting the list of directions and sources to numpy array\n",
    "ray_dir = np.array(ray_dir)\n",
    "ray_src = np.array(ray_src)\n",
    "ray_dir2 = np.array(ray_dir2)\n",
    "ray_src2 = np.array(ray_src2)\n",
    "ray_dir2_index = np.array(ray_dir2_index)"
   ]
  },
  {
   "cell_type": "code",
   "execution_count": null,
   "metadata": {},
   "outputs": [],
   "source": [
    "# Creating list of directions and rays for the SVF\n",
    "\n",
    "converted_svf_vectors = svf_vectors.astype('float16')\n",
    "sun_dirs2 = np.array(converted_svf_vectors)\n",
    "vox_cens = full_lattice.centroids\n",
    "\n",
    "ray_dir3 = []\n",
    "ray_src3 = []\n",
    "\n",
    "for v_cen in vox_cens:\n",
    "        for s_dir in sun_dirs2:\n",
    "            ray_src3.append(v_cen)\n",
    "            ray_dir3.append(s_dir)\n",
    "            \n",
    "# converting the list of directions and sources to numpy array\n",
    "ray_dir3 = np.array(ray_dir3)\n",
    "ray_src3 = np.array(ray_src3)"
   ]
  },
  {
   "cell_type": "code",
   "execution_count": null,
   "metadata": {},
   "outputs": [],
   "source": [
    "# checking how many calculations to do for solar accesibility and solar envelope\n",
    "print(\"number of voxels to shoot rays from :\",vox_cens.shape)\n",
    "print(\"number of rays per each voxel :\",sun_dirs.shape)\n",
    "print(\"number of rays to be shot :\",ray_src.shape)"
   ]
  },
  {
   "cell_type": "code",
   "execution_count": null,
   "metadata": {},
   "outputs": [],
   "source": [
    "# checking how many calculations to do for SVF\n",
    "print(\"number of voxels to shoot rays from :\",vox_cens.shape)\n",
    "print(\"number of rays per each voxel :\",sun_dirs2.shape)\n",
    "print(\"number of rays to be shot :\",ray_src3.shape)"
   ]
  },
  {
   "cell_type": "markdown",
   "metadata": {},
   "source": [
    "### 4.2. Computing the Intersection"
   ]
  },
  {
   "cell_type": "code",
   "execution_count": null,
   "metadata": {
    "scrolled": false
   },
   "outputs": [],
   "source": [
    "# computing the intersections of rays with the context mesh for the Solar accesibility and solar envelope\n",
    "tri_id, ray_id = context_mesh.ray.intersects_id(ray_origins=ray_src, ray_directions=ray_dir, multiple_hits=False)"
   ]
  },
  {
   "cell_type": "code",
   "execution_count": null,
   "metadata": {
    "scrolled": false
   },
   "outputs": [],
   "source": [
    "# computing the intersections of inversed rays with the context mesh for the solar envelope\n",
    "tri_id2, ray_id2 = context_mesh.ray.intersects_id(ray_origins=ray_src2, ray_directions=ray_dir2, multiple_hits=False)"
   ]
  },
  {
   "cell_type": "code",
   "execution_count": null,
   "metadata": {
    "scrolled": false
   },
   "outputs": [],
   "source": [
    "print(\"This way of computing saved: \" + str(len(ray_dir) - len(ray_dir2)) + \" calculations for the inverted ray directions, saving about 3 or 4 miniutes of calculations :)\")"
   ]
  },
  {
   "cell_type": "code",
   "execution_count": null,
   "metadata": {},
   "outputs": [],
   "source": [
    "# computing the intersections of rays with the context mesh for the SVF\n",
    "tri_id3, ray_id3 = context_mesh.ray.intersects_id(ray_origins=ray_src3, ray_directions=ray_dir3, multiple_hits=False)"
   ]
  },
  {
   "cell_type": "markdown",
   "metadata": {},
   "source": [
    "## 5. Aggregate Simulation Result in the Sun Access Lattice\n",
    "\n",
    "### 5.1. Compute the percentage of time that each voxel sees the sun"
   ]
  },
  {
   "cell_type": "code",
   "execution_count": null,
   "metadata": {
    "tags": []
   },
   "outputs": [],
   "source": [
    "# initializing the hits list full of zeros\n",
    "\n",
    "hits = [0]*len(ray_dir) # sun_acc\n",
    "hits2 = [0]*len(ray_dir2) # sun_block\n",
    "\n",
    "hits3 = [] # sun_block with correct length\n",
    "\n",
    "# setting the rays that had an intersection to 1\n",
    "for id in ray_id:\n",
    "    hits[id] = 1 # sun_acc\n",
    "    \n",
    "for id in ray_id2:\n",
    "    hits2[id] = 1 # sun_block\n",
    "\n",
    "# fixing the length of the hits list and setting 'ignored' non intersections to 0\n",
    "hcounter = 0\n",
    "for i in ray_dir2_index:\n",
    "    if i == 1:\n",
    "        hits3.append(hits2[hcounter])\n",
    "        hcounter += 1\n",
    "    else:\n",
    "        hits3.append(0)\n",
    "        \n",
    "sun_count = len(sun_dirs)\n",
    "vox_count = len(vox_cens)\n",
    "\n",
    "# initiating the list of ratio\n",
    "vox_sun_acc = []\n",
    "vox_sun_blockage = []\n",
    "\n",
    "# iterate over the voxels\n",
    "for v_id in range(vox_count):\n",
    "    # counter for the intersection\n",
    "    int_count = 0 # sun_acc\n",
    "    int_count2 = 0 # sun_block\n",
    "    # iterate over the sun rays\n",
    "    for s_id in range(sun_count):\n",
    "        # computing the ray id from voxel id and sun id\n",
    "        r_id = s_id + v_id * sun_count\n",
    "\n",
    "        # summing the intersections\n",
    "        int_count += hits[r_id]\n",
    "        int_count2 += hits3[r_id]\n",
    "        \n",
    "    \n",
    "    # computing the percentage of the rays that DID NOT have \n",
    "    # an intersection (aka could see the sun / did not block sunlight)\n",
    "    sun_access = 1.0 - int_count / sun_count\n",
    "    sun_blockage = 1.0 - int_count2 / sun_count\n",
    "\n",
    "    # add the ratio to list\n",
    "    vox_sun_acc.append(sun_access)\n",
    "    vox_sun_blockage.append(sun_blockage)\n",
    "    \n",
    "# converting the list of directions and sources to numpy array\n",
    "vox_sun_acc = np.array(vox_sun_acc)\n",
    "vox_sun_blockage = np.array(vox_sun_blockage)"
   ]
  },
  {
   "cell_type": "code",
   "execution_count": null,
   "metadata": {},
   "outputs": [],
   "source": [
    "# Same calculations, but for the SVF\n",
    "# initializing the hits list full of zeros\n",
    "\n",
    "hits4 = [0]*len(ray_dir3)\n",
    "\n",
    "for id in ray_id3:\n",
    "    hits4[id] = 1 \n",
    "        \n",
    "sun_count = len(sun_dirs2)\n",
    "vox_count = len(vox_cens)\n",
    "\n",
    "# initiating the list of ratio\n",
    "vox_sky_acc = []\n",
    "\n",
    "# iterate over the voxels\n",
    "for v_id in range(vox_count):\n",
    "    # counter for the intersection\n",
    "    int_count = 0\n",
    "    # iterate over the sun rays\n",
    "    for s_id in range(sun_count):\n",
    "        # computing the ray id from voxel id and sun id\n",
    "        r_id = s_id + v_id * sun_count\n",
    "\n",
    "        # summing the intersections\n",
    "        int_count += hits4[r_id]\n",
    "\n",
    "    # computing the percentage of the rays that DID NOT have \n",
    "    # an intersection (aka could see the skydome)\n",
    "    sky_access = 1.0 - int_count / sun_count\n",
    "\n",
    "    # add the ratio to list\n",
    "    vox_sky_acc.append(sky_access)\n",
    "    \n",
    "# converting the list of directions and sources to numpy array\n",
    "vox_sky_acc = np.array(vox_sky_acc)"
   ]
  },
  {
   "cell_type": "markdown",
   "metadata": {},
   "source": [
    "### 5.2. Store sun access information in a Lattice"
   ]
  },
  {
   "cell_type": "code",
   "execution_count": null,
   "metadata": {
    "scrolled": true
   },
   "outputs": [],
   "source": [
    "# getting the condition of all voxels: are they inside the envelop or not\n",
    "env_all_vox = full_lattice.flatten()\n",
    "\n",
    "# all voxels sun access / blockage\n",
    "all_vox_sun_acc = []\n",
    "all_vox_sun_block = []\n",
    "\n",
    "# v_id: voxel id in the list of only interior voxels\n",
    "v_id = 0\n",
    "\n",
    "# for all the voxels, place the interiority condition of each voxel in \"vox_in\"\n",
    "for vox_in in env_all_vox:\n",
    "    # if the voxel was outside...\n",
    "    if vox_in == True:\n",
    "        # read its value of sun access and sun blockage and append it to the list of all voxel sun access / sun blockage\n",
    "        all_vox_sun_acc.append(vox_sun_acc[v_id])\n",
    "        all_vox_sun_block.append(vox_sun_blockage[v_id])\n",
    "        # add one to the voxel id so the next time we read the next voxel\n",
    "        v_id += 1\n",
    "    # if the voxel was not inside... \n",
    "    else:\n",
    "        # add 0.0 for its sun access / sun blockage\n",
    "        all_vox_sun_acc.append(0.0)\n",
    "        all_vox_sun_block.append(0.0)\n",
    "\n",
    "# convert to array\n",
    "sunacc_array = np.array(all_vox_sun_acc)\n",
    "sunblock_array = np.array(all_vox_sun_block)\n",
    "\n",
    "# reshape to lattice shape\n",
    "sunacc_array = sunacc_array.reshape(full_lattice.shape)\n",
    "sunblock_array = sunblock_array.reshape(full_lattice.shape)\n",
    "\n",
    "# convert to lattice\n",
    "sunacc_lattice = tg.to_lattice(sunacc_array, full_lattice)\n",
    "sunblock_lattice = tg.to_lattice(sunblock_array, full_lattice)"
   ]
  },
  {
   "cell_type": "code",
   "execution_count": null,
   "metadata": {},
   "outputs": [],
   "source": [
    "# Same calculation, but for SVF\n",
    "# getting the condition of all voxels: are they inside the envelop or not\n",
    "env_all_vox = full_lattice.flatten()\n",
    "\n",
    "# all voxels sky access\n",
    "all_vox_sky_acc = []\n",
    "\n",
    "# v_id: voxel id in the list of only interior voxels\n",
    "v_id = 0\n",
    "\n",
    "# for all the voxels, place the interiority condition of each voxel in \"vox_in\"\n",
    "for vox_in in env_all_vox:\n",
    "    # if the voxel was outside...\n",
    "    if vox_in == True:\n",
    "        # read its value of sky acces and append it to the list of all voxel sky access\n",
    "        all_vox_sky_acc.append(vox_sky_acc[v_id])\n",
    "        # add one to the voxel id so the next time we read the next voxel\n",
    "        v_id += 1\n",
    "    # if the voxel was not inside... \n",
    "    else:\n",
    "        # add 0.0 for its sun access\n",
    "        all_vox_sky_acc.append(0.0)\n",
    "\n",
    "        \n",
    "# convert to array\n",
    "sky_acc_array = np.array(all_vox_sky_acc)\n",
    "\n",
    "# Further info: for vectorized version of this code check: https://github.com/shervinazadi/spatial_computing_workshops/blob/master/notebooks/w2_solar_envelope.ipynb\n",
    "\n",
    "# reshape to lattice shape\n",
    "sky_acc_array = sky_acc_array.reshape(full_lattice.shape)\n",
    "\n",
    "# convert to lattice\n",
    "sky_acc_lattice = tg.to_lattice(sky_acc_array, full_lattice)"
   ]
  },
  {
   "cell_type": "markdown",
   "metadata": {},
   "source": [
    "### 5.3.1. Visualize the sun access lattice"
   ]
  },
  {
   "cell_type": "code",
   "execution_count": null,
   "metadata": {
    "scrolled": false
   },
   "outputs": [],
   "source": [
    "# initiating the plotter\n",
    "p = pv.Plotter(notebook=True)\n",
    "\n",
    "# Create the spatial reference\n",
    "grid = pv.UniformGrid()\n",
    "\n",
    "# Set the grid dimensions: shape because we want to inject our values\n",
    "grid.dimensions = sunacc_lattice.shape\n",
    "# The bottom left corner of the data set\n",
    "grid.origin = sunacc_lattice.minbound\n",
    "# These are the cell sizes along each axis\n",
    "grid.spacing = sunacc_lattice.unit\n",
    "\n",
    "# Add the data values to the cell data\n",
    "grid.point_arrays[\"Sun acces\"] = sunacc_lattice.flatten(order=\"F\")  # Flatten the Lattice\n",
    "\n",
    "# adding the meshes\n",
    "p.add_mesh(tri_to_pv(context_mesh), opacity=0.1, style='wireframe')\n",
    "    \n",
    "# adding the volume\n",
    "opacity = np.array([0,0.6,0.6,0.6,0.6,0.6,0.6])*1.5\n",
    "p.add_volume(grid, cmap=\"coolwarm\", clim=[0.5, 1.0],opacity=opacity, shade=False)\n",
    "\n",
    "# plotting\n",
    "cpos = [(785.8704805788776, 708.4540755788776, 741.8613927288776),\n",
    " (65.08283250000001, -12.333572500000002, 21.07374465),\n",
    " (0.0, 0.0, 1.0)]\n",
    "p.camera_position = cpos\n",
    "p.window_size = 2000, 2000\n",
    "p.show(use_ipyvtk=True)\n",
    "# p.screenshot(\"solar_4\")\n",
    "print(p.camera_position)"
   ]
  },
  {
   "cell_type": "markdown",
   "metadata": {},
   "source": [
    "### 5.3.2. Visualize solar envelope"
   ]
  },
  {
   "cell_type": "code",
   "execution_count": null,
   "metadata": {
    "scrolled": false
   },
   "outputs": [],
   "source": [
    "# initiating the plotter\n",
    "p = pv.Plotter(notebook=True)\n",
    "\n",
    "# Create the spatial reference\n",
    "grid = pv.UniformGrid()\n",
    "\n",
    "# Set the grid dimensions: shape because we want to inject our values\n",
    "grid.dimensions = sunblock_lattice.shape\n",
    "# The bottom left corner of the data set\n",
    "grid.origin = sunblock_lattice.minbound\n",
    "# These are the cell sizes along each axis\n",
    "grid.spacing = sunblock_lattice.unit\n",
    "\n",
    "# Add the data values to the cell data\n",
    "grid.point_arrays[\"Solar envelope (where 0 is blocking sunlight for neighbours)\"] = sunblock_lattice.flatten(order=\"F\")  # Flatten the Lattice\n",
    "\n",
    "# adding the meshes\n",
    "p.add_mesh(tri_to_pv(context_mesh), opacity=0.1, style='wireframe')\n",
    "    \n",
    "# adding the volume\n",
    "opacity = np.array([0,0.6,0.6,0.6,0.6,0.6,0.6])*1.5\n",
    "p.add_volume(grid, cmap=\"coolwarm\", clim=[0.5, 1.0],opacity=opacity, shade=False)\n",
    "\n",
    "# plotting\n",
    "cpos = [(785.8704805788776, 708.4540755788776, 741.8613927288776),\n",
    " (65.08283250000001, -12.333572500000002, 21.07374465),\n",
    " (0.0, 0.0, 1.0)]\n",
    "p.camera_position = cpos\n",
    "p.window_size = 2000, 2000\n",
    "p.show(use_ipyvtk=True)\n",
    "# p.screenshot(\"solar_5\")\n",
    "print(p.camera_position)"
   ]
  },
  {
   "cell_type": "markdown",
   "metadata": {},
   "source": [
    "### 5.3.3. Visualize the sky view factor"
   ]
  },
  {
   "cell_type": "code",
   "execution_count": null,
   "metadata": {},
   "outputs": [],
   "source": [
    "# initiating the plotter\n",
    "p = pv.Plotter(notebook=True)\n",
    "\n",
    "# Create the spatial reference\n",
    "grid = pv.UniformGrid()\n",
    "\n",
    "# Set the grid dimensions: shape because we want to inject our values\n",
    "grid.dimensions = sky_acc_lattice.shape\n",
    "# The bottom left corner of the data set\n",
    "grid.origin = sky_acc_lattice.minbound\n",
    "# These are the cell sizes along each axis\n",
    "grid.spacing = sky_acc_lattice.unit\n",
    "\n",
    "# Add the data values to the cell data\n",
    "grid.point_arrays[\"Sky view factor\"] = sky_acc_lattice.flatten(order=\"F\")  # Flatten the Lattice\n",
    "\n",
    "# adding the meshes\n",
    "p.add_mesh(tri_to_pv(context_mesh), opacity=0.1, style='wireframe')\n",
    "    \n",
    "# adding the volume\n",
    "opacity = np.array([0,0.6,0.6,0.6,0.6,0.6,0.6])*1.5\n",
    "p.add_volume(grid, cmap=\"coolwarm\", clim=[0.5, 1.0],opacity=opacity, shade=False)\n",
    "\n",
    "# plotting\n",
    "cpos = [(785.8704805788776, 708.4540755788776, 741.8613927288776),\n",
    " (65.08283250000001, -12.333572500000002, 21.07374465),\n",
    " (0.0, 0.0, 1.0)]\n",
    "p.camera_position = cpos\n",
    "p.window_size = 2000, 2000\n",
    "p.show(use_ipyvtk=True)\n",
    "# p.screenshot(\"solar_6\")\n",
    "print(p.camera_position)"
   ]
  },
  {
   "cell_type": "markdown",
   "metadata": {},
   "source": [
    "# 6. Interpolate lowres lattices to highres"
   ]
  },
  {
   "cell_type": "code",
   "execution_count": null,
   "metadata": {},
   "outputs": [],
   "source": [
    "# loading the lattice from csv\n",
    "lattice_path = os.path.relpath('../data/lattice324.csv')\n",
    "highres_env_lattice = tg.lattice_from_csv(lattice_path)"
   ]
  },
  {
   "cell_type": "code",
   "execution_count": null,
   "metadata": {},
   "outputs": [],
   "source": [
    "#loading the interpolation function\n",
    "\n",
    "def interpolate(low_sunacc_lattice, env_lattice):\n",
    "    # line spaces\n",
    "    x_space = np.linspace(low_sunacc_lattice.minbound[0], low_sunacc_lattice.maxbound[0],low_sunacc_lattice.shape[0])\n",
    "    y_space = np.linspace(low_sunacc_lattice.minbound[1], low_sunacc_lattice.maxbound[1],low_sunacc_lattice.shape[1])\n",
    "    z_space = np.linspace(low_sunacc_lattice.minbound[2], low_sunacc_lattice.maxbound[2],low_sunacc_lattice.shape[2])\n",
    "\n",
    "    # interpolation function\n",
    "    interpolating_function = RegularGridInterpolator((x_space, y_space, z_space), low_sunacc_lattice, bounds_error=False, fill_value=None)\n",
    "\n",
    "    # high_res lattice\n",
    "    full_lattice = env_lattice + 1\n",
    "\n",
    "    # sample point\n",
    "    sample_points = full_lattice.centroids\n",
    "\n",
    "    # interpolation\n",
    "    interpolated_values = interpolating_function(sample_points)\n",
    "\n",
    "    # lattice construction\n",
    "    sunacc_lattice = tg.to_lattice(interpolated_values.reshape(env_lattice.shape), env_lattice)\n",
    "\n",
    "    # nulling the unavailable cells\n",
    "    sunacc_lattice *= env_lattice\n",
    "    \n",
    "    return sunacc_lattice"
   ]
  },
  {
   "cell_type": "markdown",
   "metadata": {},
   "source": [
    "### 6.1. Interpolate sun acces lattice"
   ]
  },
  {
   "cell_type": "code",
   "execution_count": null,
   "metadata": {},
   "outputs": [],
   "source": [
    "highres_sunacc_lattice = interpolate(sunacc_lattice,highres_env_lattice)"
   ]
  },
  {
   "cell_type": "markdown",
   "metadata": {},
   "source": [
    "### 6.2. Interpolate solar envelope"
   ]
  },
  {
   "cell_type": "code",
   "execution_count": null,
   "metadata": {},
   "outputs": [],
   "source": [
    "highres_sunblock_lattice = interpolate(sunblock_lattice,highres_env_lattice)"
   ]
  },
  {
   "cell_type": "markdown",
   "metadata": {},
   "source": [
    "### 6.3. Interpolate SVF"
   ]
  },
  {
   "cell_type": "code",
   "execution_count": null,
   "metadata": {},
   "outputs": [],
   "source": [
    "highres_sky_acc_lattice = interpolate(sky_acc_lattice,highres_env_lattice)"
   ]
  },
  {
   "cell_type": "markdown",
   "metadata": {},
   "source": [
    "# 7. Setting the solar envelope to be a boolean lattice"
   ]
  },
  {
   "cell_type": "code",
   "execution_count": null,
   "metadata": {},
   "outputs": [],
   "source": [
    "highres_solar_envelope_flat = highres_sunblock_lattice.flatten()\n",
    "full_highres_lattice = highres_env_lattice * 0 + 1\n",
    "\n",
    "for i in range(len(highres_solar_envelope_flat)):\n",
    "    if highres_solar_envelope_flat[i] < 0.75: #vary this value to increase or decrease the envelope size\n",
    "        highres_solar_envelope_flat[i] = False\n",
    "    else: \n",
    "        highres_solar_envelope_flat[i] = True\n",
    "\n",
    "highres_solar_envelope_bool = (highres_solar_envelope_flat > 0).tolist() \n",
    "\n",
    "# The soon to be exported csv file now no longer contains \"0\" and \"1\", but \"False\" and \"True\" as boolean values, \n",
    "# if this is not case, topogenesis on windows messes up  loading of the file, \n",
    "# so this needs to be done in order to open the envelope in a different jupyter notebook.\n",
    "\n",
    "highres_solar_envelope_bool = np.array(highres_solar_envelope_bool) #array conversion\n",
    "\n",
    "highres_solar_envelope_bool = highres_solar_envelope_bool.reshape(full_highres_lattice.shape) #lattice shape\n",
    "\n",
    "highres_solar_envelope_minmax = tg.to_lattice(highres_solar_envelope_bool, full_highres_lattice) #lattice creation"
   ]
  },
  {
   "cell_type": "code",
   "execution_count": null,
   "metadata": {},
   "outputs": [],
   "source": [
    "#Visualizing the final envelope\n",
    "\n",
    "# convert mesh to pv_mesh\n",
    "def tri_to_pv(tri_mesh):\n",
    "    faces = np.pad(tri_mesh.faces, ((0, 0),(1,0)), 'constant', constant_values=3)\n",
    "    pv_mesh = pv.PolyData(tri_mesh.vertices, faces)\n",
    "    return pv_mesh\n",
    "\n",
    "# Visualize the mesh using pyvista plotter\n",
    "#######\n",
    "\n",
    "# initiating the plotter\n",
    "p = pv.Plotter(notebook=True)\n",
    "\n",
    "# fast visualization of the lattice\n",
    "highres_solar_envelope_minmax.fast_vis(p)\n",
    "\n",
    "# adding the meshes\n",
    "p.add_mesh(tri_to_pv(context_mesh), opacity=0.1, style='wireframe')\n",
    "\n",
    "# plotting\n",
    "cpos = [(785.8704805788776, 708.4540755788776, 741.8613927288776),\n",
    " (65.08283250000001, -12.333572500000002, 21.07374465),\n",
    " (0.0, 0.0, 1.0)]\n",
    "p.camera_position = cpos\n",
    "p.window_size = 2000, 2000\n",
    "p.show(use_ipyvtk=True)\n",
    "# p.screenshot(\"solar_7\")\n",
    "print(p.camera_position)"
   ]
  },
  {
   "cell_type": "markdown",
   "metadata": {},
   "source": [
    "### 7.2.1. Visualize sun acces"
   ]
  },
  {
   "cell_type": "code",
   "execution_count": null,
   "metadata": {},
   "outputs": [],
   "source": [
    "# convert mesh to pv_mesh\n",
    "def tri_to_pv(tri_mesh):\n",
    "    faces = np.pad(tri_mesh.faces, ((0, 0),(1,0)), 'constant', constant_values=3)\n",
    "    pv_mesh = pv.PolyData(tri_mesh.vertices, faces)\n",
    "    return pv_mesh\n",
    "\n",
    "base_lattice = highres_sunacc_lattice * highres_solar_envelope_minmax\n",
    "# initiating the plotter\n",
    "p = pv.Plotter(notebook=True)\n",
    "\n",
    "# Create the spatial reference\n",
    "grid = pv.UniformGrid()\n",
    "\n",
    "# Set the grid dimensions: shape because we want to inject our values\n",
    "grid.dimensions = base_lattice.shape\n",
    "# The bottom left corner of the data set\n",
    "grid.origin = base_lattice.minbound\n",
    "# These are the cell sizes along each axis\n",
    "grid.spacing = base_lattice.unit\n",
    "\n",
    "# Add the data values to the cell data\n",
    "grid.point_arrays[\"Sun Access\"] = base_lattice.flatten(order=\"F\")  # Flatten the Lattice\n",
    "\n",
    "# adding the meshes\n",
    "p.add_mesh(tri_to_pv(context_mesh), opacity=0.1, style='wireframe')\n",
    "    \n",
    "# adding the volume\n",
    "opacity = np.array([0,0.6,0.6,0.6,0.6,0.6,0.6])\n",
    "p.add_volume(grid, cmap=\"coolwarm\", clim=[0.5, 1.0],opacity=opacity, shade=False)\n",
    "\n",
    "# plotting\n",
    "cpos = [(785.8704805788776, 708.4540755788776, 741.8613927288776),\n",
    " (65.08283250000001, -12.333572500000002, 21.07374465),\n",
    " (0.0, 0.0, 1.0)]\n",
    "p.camera_position = cpos\n",
    "p.window_size = 2000, 2000\n",
    "p.show(use_ipyvtk=True)\n",
    "# p.screenshot(\"solar_8\")\n",
    "print(p.camera_position)"
   ]
  },
  {
   "cell_type": "markdown",
   "metadata": {},
   "source": [
    "### 7.2.2. Visualize solar envelope"
   ]
  },
  {
   "cell_type": "code",
   "execution_count": null,
   "metadata": {
    "scrolled": false
   },
   "outputs": [],
   "source": [
    "# convert mesh to pv_mesh\n",
    "def tri_to_pv(tri_mesh):\n",
    "    faces = np.pad(tri_mesh.faces, ((0, 0),(1,0)), 'constant', constant_values=3)\n",
    "    pv_mesh = pv.PolyData(tri_mesh.vertices, faces)\n",
    "    return pv_mesh\n",
    "\n",
    "base_lattice = highres_sunblock_lattice * highres_solar_envelope_minmax\n",
    "\n",
    "# initiating the plotter\n",
    "p = pv.Plotter(notebook=True)\n",
    "\n",
    "# Create the spatial reference\n",
    "grid = pv.UniformGrid()\n",
    "\n",
    "# Set the grid dimensions: shape because we want to inject our values\n",
    "grid.dimensions = base_lattice.shape\n",
    "# The bottom left corner of the data set\n",
    "grid.origin = base_lattice.minbound\n",
    "# These are the cell sizes along each axis\n",
    "grid.spacing = base_lattice.unit\n",
    "\n",
    "# Add the data values to the cell data\n",
    "grid.point_arrays[\"Solar envelope (where 0 is blocking sunlight for neighbours)\"] = base_lattice.flatten(order=\"F\")  # Flatten the Lattice\n",
    "\n",
    "# adding the meshes\n",
    "p.add_mesh(tri_to_pv(context_mesh), opacity=0.1, style='wireframe')\n",
    "    \n",
    "# adding the volume\n",
    "opacity = np.array([0,0.6,0.6,0.6,0.6,0.6,0.6])\n",
    "p.add_volume(grid, cmap=\"coolwarm\", clim=[0.75, 1.0],opacity=opacity, shade=False)\n",
    "\n",
    "# plotting\n",
    "cpos = [(785.8704805788776, 708.4540755788776, 741.8613927288776),\n",
    " (65.08283250000001, -12.333572500000002, 21.07374465),\n",
    " (0.0, 0.0, 1.0)]\n",
    "p.camera_position = cpos\n",
    "p.window_size = 2000, 2000\n",
    "p.show(use_ipyvtk=True)\n",
    "p.screenshot(\"solar_9\")\n",
    "print(p.camera_position)"
   ]
  },
  {
   "cell_type": "markdown",
   "metadata": {},
   "source": [
    "### 7.2.2. Visualize SVF"
   ]
  },
  {
   "cell_type": "code",
   "execution_count": null,
   "metadata": {
    "scrolled": false
   },
   "outputs": [],
   "source": [
    "# convert mesh to pv_mesh\n",
    "def tri_to_pv(tri_mesh):\n",
    "    faces = np.pad(tri_mesh.faces, ((0, 0),(1,0)), 'constant', constant_values=3)\n",
    "    pv_mesh = pv.PolyData(tri_mesh.vertices, faces)\n",
    "    return pv_mesh\n",
    "\n",
    "base_lattice = highres_sky_acc_lattice * highres_solar_envelope_minmax\n",
    "# initiating the plotter\n",
    "p = pv.Plotter(notebook=True)\n",
    "\n",
    "# Create the spatial reference\n",
    "grid = pv.UniformGrid()\n",
    "\n",
    "# Set the grid dimensions: shape because we want to inject our values\n",
    "grid.dimensions = base_lattice.shape\n",
    "# The bottom left corner of the data set\n",
    "grid.origin = base_lattice.minbound\n",
    "# These are the cell sizes along each axis\n",
    "grid.spacing = base_lattice.unit\n",
    "\n",
    "# Add the data values to the cell data\n",
    "grid.point_arrays[\"Sky view factor\"] = base_lattice.flatten(order=\"F\")  # Flatten the Lattice\n",
    "\n",
    "# adding the meshes\n",
    "p.add_mesh(tri_to_pv(context_mesh), opacity=0.1, style='wireframe')\n",
    "    \n",
    "# adding the volume\n",
    "opacity = np.array([0,0.6,0.6,0.6,0.6,0.6,0.6])\n",
    "p.add_volume(grid, cmap=\"coolwarm\", clim=[0.5, 1.0],opacity=opacity, shade=False)\n",
    "\n",
    "# plotting\n",
    "cpos = [(785.8704805788776, 708.4540755788776, 741.8613927288776),\n",
    " (65.08283250000001, -12.333572500000002, 21.07374465),\n",
    " (0.0, 0.0, 1.0)]\n",
    "p.camera_position = cpos\n",
    "p.window_size = 2000, 2000\n",
    "p.show(use_ipyvtk=True)\n",
    "p.screenshot(\"solar_10\")\n",
    "print(p.camera_position)"
   ]
  },
  {
   "cell_type": "markdown",
   "metadata": {},
   "source": [
    "## 7. Save Sun Access Lattice into a CSV"
   ]
  },
  {
   "cell_type": "code",
   "execution_count": null,
   "metadata": {},
   "outputs": [],
   "source": [
    "# save the sun access latice to csv\n",
    "\n",
    "csv_path = os.path.relpath('../data/solar_accessibility_324.csv')\n",
    "highres_sunacc_lattice.to_csv(csv_path)\n",
    "csv_path = os.path.relpath('../data/solar_envelope_324.csv')\n",
    "highres_solar_envelope_minmax.to_csv(csv_path)\n"
   ]
  },
  {
   "cell_type": "code",
   "execution_count": null,
   "metadata": {},
   "outputs": [],
   "source": [
    "# save the SVF latice to csv\n",
    "\n",
    "csv_path = os.path.relpath('../data/SVF_324.csv')\n",
    "highres_sky_acc_lattice.to_csv(csv_path)"
   ]
  },
  {
   "cell_type": "markdown",
   "metadata": {},
   "source": [
    "### Credits"
   ]
  },
  {
   "cell_type": "code",
   "execution_count": null,
   "metadata": {},
   "outputs": [],
   "source": [
    "__author__ = \"Shervin Azadi and Pirouz Nourian\"\n",
    "__license__ = \"MIT\"\n",
    "__version__ = \"1.0\"\n",
    "__url__ = \"https://github.com/shervinazadi/spatial_computing_workshops\"\n",
    "__summary__ = \"Spatial Computing Design Studio Workshop on Solar Envelope\""
   ]
  }
 ],
 "metadata": {
  "kernelspec": {
   "display_name": "Python 3",
   "language": "python",
   "name": "python3"
  },
  "language_info": {
   "codemirror_mode": {
    "name": "ipython",
    "version": 3
   },
   "file_extension": ".py",
   "mimetype": "text/x-python",
   "name": "python",
   "nbconvert_exporter": "python",
   "pygments_lexer": "ipython3",
   "version": "3.8.4"
  }
 },
 "nbformat": 4,
 "nbformat_minor": 2
}
